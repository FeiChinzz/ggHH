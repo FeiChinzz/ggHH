{
 "cells": [
  {
   "cell_type": "code",
   "execution_count": 1,
   "metadata": {},
   "outputs": [
    {
     "name": "stdout",
     "output_type": "stream",
     "text": [
      "Welcome to JupyROOT 6.20/04\n"
     ]
    }
   ],
   "source": [
    "import pylhe\n",
    "import ROOT\n",
    "import math\n",
    "import os\n",
    "import pandas as pd\n",
    "import uproot\n",
    "import numpy as np\n",
    "import matplotlib.pyplot as plt\n",
    "from matplotlib.colors import LogNorm"
   ]
  },
  {
   "cell_type": "code",
   "execution_count": 2,
   "metadata": {},
   "outputs": [],
   "source": [
    "PT300_rootpath = \"/data/Chen-Wang/gghh_highPT/Events/run_01_decayed_1/tag_1_delphes_events.root\"\n",
    "PT300_file = uproot.open(PT300_rootpath)\n",
    "\n",
    "PT250_rootpath = \"/data/Chen-Wang/gghh_highPT_250/Events/run_01_decayed_1/tag_1_delphes_events.root\"\n",
    "PT250_file = uproot.open(PT250_rootpath)\n",
    "\n",
    "PT200_rootpath = \"/data/Chen-Wang/gghh_highPT_200/Events/run_01_decayed_1/tag_1_delphes_events.root\"\n",
    "PT200_file = uproot.open(PT200_rootpath)"
   ]
  },
  {
   "cell_type": "code",
   "execution_count": 3,
   "metadata": {},
   "outputs": [
    {
     "name": "stdout",
     "output_type": "stream",
     "text": [
      "number of FatJet > 2 for PT cut 300 GeV: 9667\n",
      "number of FatJet > 2 for PT cut 250 GeV: 8670\n",
      "number of FatJet > 2 for PT cut 200 GeV: 6031\n",
      "total number of events: 10000\n"
     ]
    }
   ],
   "source": [
    "Fjet_300 = PT300_file[\"Delphes;1\"][\"FatJet\"].array()\n",
    "Fjet_250 = PT250_file[\"Delphes;1\"][\"FatJet\"].array()\n",
    "Fjet_200 = PT200_file[\"Delphes;1\"][\"FatJet\"].array()\n",
    "\n",
    "print(\"number of FatJet > 2 for PT cut 300 GeV:\", sum(Fjet_300>=2))    #### cross section for PT cut 300 GeV: 0.52084 (fb)\n",
    "print(\"number of FatJet > 2 for PT cut 250 GeV:\", sum(Fjet_250>=2))    #### cross section for PT cut 250 GeV: 1.108 (fb)\n",
    "print(\"number of FatJet > 2 for PT cut 200 GeV:\", sum(Fjet_200>=2))    #### cross section for PT cut 200 GeV: 2.459 (fb)\n",
    "print(\"total number of events: 10000\")                                 #### cross section for no PT cut: 11.297 (fb)"
   ]
  },
  {
   "cell_type": "code",
   "execution_count": null,
   "metadata": {},
   "outputs": [],
   "source": []
  }
 ],
 "metadata": {
  "kernelspec": {
   "display_name": "Python 3 (ipykernel)",
   "language": "python",
   "name": "python3"
  },
  "language_info": {
   "codemirror_mode": {
    "name": "ipython",
    "version": 3
   },
   "file_extension": ".py",
   "mimetype": "text/x-python",
   "name": "python",
   "nbconvert_exporter": "python",
   "pygments_lexer": "ipython3",
   "version": "3.8.5"
  }
 },
 "nbformat": 4,
 "nbformat_minor": 4
}
