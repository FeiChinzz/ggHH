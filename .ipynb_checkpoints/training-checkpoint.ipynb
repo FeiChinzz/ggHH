{
 "cells": [
  {
   "cell_type": "code",
   "execution_count": 1,
   "metadata": {},
   "outputs": [
    {
     "name": "stdout",
     "output_type": "stream",
     "text": [
      "Welcome to JupyROOT 6.20/04\n"
     ]
    }
   ],
   "source": [
    "import time\n",
    "t1 = time.time()\n",
    "\n",
    "import pylhe\n",
    "import ROOT\n",
    "import math\n",
    "import os\n",
    "import uproot\n",
    "import numpy as np\n",
    "import h5py\n",
    "import matplotlib.pyplot as plt\n",
    "from matplotlib.colors import LogNorm"
   ]
  },
  {
   "cell_type": "code",
   "execution_count": 2,
   "metadata": {},
   "outputs": [
    {
     "data": {
      "text/plain": [
       "<KeysViewHDF5 ['jjBG', 'sig', 'ttbarBG']>"
      ]
     },
     "execution_count": 2,
     "metadata": {},
     "output_type": "execute_result"
    }
   ],
   "source": [
    "##### load image data #####\n",
    "\n",
    "image_path = \"/data/Chen-Wang/data_image.h5\"\n",
    "image_file = h5py.File(image_path, 'r')\n",
    "image_file.keys()"
   ]
  },
  {
   "cell_type": "code",
   "execution_count": 3,
   "metadata": {},
   "outputs": [
    {
     "name": "stdout",
     "output_type": "stream",
     "text": [
      "signal shape (174453, 50, 50)\n",
      "jjBG shape (123337, 50, 50)\n",
      "ttbarBG shape (123751, 50, 50)\n"
     ]
    }
   ],
   "source": [
    "sig_image = image_file['sig'][:]\n",
    "print(\"signal shape\", np.shape(sig_image))\n",
    "\n",
    "jjBG_image = image_file['jjBG'][:]\n",
    "print(\"jjBG shape\", np.shape(jjBG_image))\n",
    "\n",
    "ttbarBG_image = image_file['ttbarBG'][:]\n",
    "print(\"ttbarBG shape\", np.shape(ttbarBG_image))"
   ]
  },
  {
   "cell_type": "code",
   "execution_count": 4,
   "metadata": {},
   "outputs": [
    {
     "name": "stdout",
     "output_type": "stream",
     "text": [
      "Total time (s):  2.544426918029785\n"
     ]
    }
   ],
   "source": [
    "image_file.close()\n",
    "t2 = time.time()\n",
    "print(\"Total time (s): \", t2-t1)"
   ]
  }
 ],
 "metadata": {
  "kernelspec": {
   "display_name": "Python 3 (ipykernel)",
   "language": "python",
   "name": "python3"
  },
  "language_info": {
   "codemirror_mode": {
    "name": "ipython",
    "version": 3
   },
   "file_extension": ".py",
   "mimetype": "text/x-python",
   "name": "python",
   "nbconvert_exporter": "python",
   "pygments_lexer": "ipython3",
   "version": "3.8.5"
  }
 },
 "nbformat": 4,
 "nbformat_minor": 4
}
