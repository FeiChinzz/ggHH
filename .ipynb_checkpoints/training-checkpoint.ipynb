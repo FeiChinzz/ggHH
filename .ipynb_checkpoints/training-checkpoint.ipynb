{
 "cells": [
  {
   "cell_type": "code",
   "execution_count": 1,
   "metadata": {},
   "outputs": [
    {
     "name": "stderr",
     "output_type": "stream",
     "text": [
      "2025-05-14 14:30:25.498888: W tensorflow/stream_executor/platform/default/dso_loader.cc:59] Could not load dynamic library 'libcudart.so.10.1'; dlerror: libcudart.so.10.1: cannot open shared object file: No such file or directory; LD_LIBRARY_PATH: /root/root_py3/lib:/root/LHAPDF_6_3_0/lib/:/root/FASTJET_3_3_4/lib:/root/Herwig_7_2_2/lib/\n",
      "2025-05-14 14:30:25.498944: I tensorflow/stream_executor/cuda/cudart_stub.cc:29] Ignore above cudart dlerror if you do not have a GPU set up on your machine.\n"
     ]
    }
   ],
   "source": [
    "import time\n",
    "t1 = time.time()\n",
    "\n",
    "import math\n",
    "import os\n",
    "import numpy as np\n",
    "import pandas as pd\n",
    "import h5py\n",
    "import matplotlib.pyplot as plt\n",
    "from matplotlib.colors import LogNorm\n",
    "\n",
    "import tensorflow as tf\n",
    "import tensorflow.keras as keras\n",
    "from tensorflow.keras.models import Model, Sequential, load_model\n",
    "from tensorflow.keras.layers import Dense, Dropout, Flatten , Convolution2D, MaxPooling2D , Lambda, Conv2D, Activation,Concatenate, Input\n",
    "from tensorflow.keras.optimizers import Adam , SGD , Adagrad\n",
    "from tensorflow.keras.callbacks import ModelCheckpoint, LearningRateScheduler, EarlyStopping, CSVLogger, ReduceLROnPlateau\n",
    "from tensorflow.keras.utils import to_categorical\n",
    "from tensorflow.keras import regularizers , initializers\n",
    "from sklearn.metrics import confusion_matrix\n",
    "import tensorflow.keras.backend as K\n",
    "from sklearn import metrics\n",
    "from sklearn.utils import shuffle\n",
    "from sklearn.model_selection import train_test_split"
   ]
  },
  {
   "cell_type": "code",
   "execution_count": 2,
   "metadata": {},
   "outputs": [
    {
     "data": {
      "text/plain": [
       "<KeysViewHDF5 ['jjBG', 'sig', 'ttbarBG']>"
      ]
     },
     "execution_count": 2,
     "metadata": {},
     "output_type": "execute_result"
    }
   ],
   "source": [
    "##### load image data #####\n",
    "\n",
    "image_path = \"/data/Chen-Wang/data_image.h5\"\n",
    "image_file = h5py.File(image_path, 'r')\n",
    "image_file.keys()"
   ]
  },
  {
   "cell_type": "code",
   "execution_count": 3,
   "metadata": {},
   "outputs": [
    {
     "name": "stdout",
     "output_type": "stream",
     "text": [
      "signal shape (174453, 50, 50)\n",
      "jjBG shape (123337, 50, 50)\n",
      "ttbarBG shape (123751, 50, 50)\n",
      "total image shape (421541, 50, 50)\n"
     ]
    }
   ],
   "source": [
    "sig_image = image_file['sig'][:]\n",
    "print(\"signal shape\", np.shape(sig_image))\n",
    "\n",
    "jjBG_image = image_file['jjBG'][:]\n",
    "print(\"jjBG shape\", np.shape(jjBG_image))\n",
    "\n",
    "ttbarBG_image = image_file['ttbarBG'][:]\n",
    "print(\"ttbarBG shape\", np.shape(ttbarBG_image))\n",
    "\n",
    "total_image = np.concatenate((sig_image, jjBG_image, ttbarBG_image))\n",
    "print(\"total image shape\", np.shape(total_image))"
   ]
  },
  {
   "cell_type": "code",
   "execution_count": 4,
   "metadata": {},
   "outputs": [
    {
     "name": "stdout",
     "output_type": "stream",
     "text": [
      "[[0. 1.]\n",
      " [0. 1.]\n",
      " [0. 1.]\n",
      " ...\n",
      " [1. 0.]\n",
      " [1. 0.]\n",
      " [1. 0.]]\n",
      "target shape (421541, 2)\n"
     ]
    }
   ],
   "source": [
    "##### make target #####\n",
    "\n",
    "target = np.zeros(len(sig_image) + len(jjBG_image) + len(ttbarBG_image))\n",
    "target[0:len(sig_image)] = 1    ### signal label as 1\n",
    "target = to_categorical(target, num_classes=2)    ### signal label as [0, 1]\n",
    "print(target)\n",
    "print(\"target shape\", np.shape(target))"
   ]
  },
  {
   "cell_type": "code",
   "execution_count": null,
   "metadata": {},
   "outputs": [],
   "source": [
    "##### build CNN model #####\n",
    "\n"
   ]
  },
  {
   "cell_type": "code",
   "execution_count": 5,
   "metadata": {},
   "outputs": [
    {
     "name": "stdout",
     "output_type": "stream",
     "text": [
      "Total time (s):  4.553337574005127\n"
     ]
    }
   ],
   "source": [
    "image_file.close()\n",
    "t2 = time.time()\n",
    "print(\"Total time (s): \", t2-t1)"
   ]
  }
 ],
 "metadata": {
  "kernelspec": {
   "display_name": "Python 3 (ipykernel)",
   "language": "python",
   "name": "python3"
  },
  "language_info": {
   "codemirror_mode": {
    "name": "ipython",
    "version": 3
   },
   "file_extension": ".py",
   "mimetype": "text/x-python",
   "name": "python",
   "nbconvert_exporter": "python",
   "pygments_lexer": "ipython3",
   "version": "3.10.13"
  }
 },
 "nbformat": 4,
 "nbformat_minor": 4
}
