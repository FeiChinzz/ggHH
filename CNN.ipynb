{
 "cells": [
  {
   "cell_type": "code",
   "execution_count": 1,
   "id": "5793c4b2",
   "metadata": {},
   "outputs": [
    {
     "name": "stderr",
     "output_type": "stream",
     "text": [
      "2025-06-30 05:59:01.759805: I tensorflow/core/platform/cpu_feature_guard.cc:182] This TensorFlow binary is optimized to use available CPU instructions in performance-critical operations.\n",
      "To enable the following instructions: AVX2 FMA, in other operations, rebuild TensorFlow with the appropriate compiler flags.\n"
     ]
    }
   ],
   "source": [
    "import time\n",
    "t1 = time.time()\n",
    "\n",
    "import math\n",
    "import os\n",
    "import numpy as np\n",
    "import pandas as pd\n",
    "import h5py\n",
    "import matplotlib.pyplot as plt\n",
    "from matplotlib.colors import LogNorm\n",
    "\n",
    "import tensorflow as tf\n",
    "import tensorflow.keras as keras\n",
    "from tensorflow.keras.models import Model, Sequential, load_model\n",
    "from tensorflow.keras.layers import Dense, Dropout, Flatten , Convolution2D, MaxPooling2D , Lambda, Conv2D, Activation,Concatenate, Input, BatchNormalization\n",
    "from tensorflow.keras.optimizers import Adam , SGD , Adagrad\n",
    "from tensorflow.keras.callbacks import ModelCheckpoint, LearningRateScheduler, EarlyStopping, CSVLogger, ReduceLROnPlateau\n",
    "from tensorflow.keras.utils import to_categorical\n",
    "from tensorflow.keras import regularizers , initializers\n",
    "from sklearn.metrics import confusion_matrix\n",
    "import tensorflow.keras.backend as K\n",
    "from sklearn import metrics\n",
    "from sklearn.utils import shuffle\n",
    "from sklearn.model_selection import train_test_split"
   ]
  },
  {
   "cell_type": "code",
   "execution_count": 2,
   "id": "a6680670",
   "metadata": {},
   "outputs": [
    {
     "data": {
      "text/plain": [
       "<KeysViewHDF5 ['jjBG', 'sig', 'ttbarBG']>"
      ]
     },
     "execution_count": 2,
     "metadata": {},
     "output_type": "execute_result"
    }
   ],
   "source": [
    "##### load image data #####\n",
    "\n",
    "image_path = \"/root/data/data_image.h5\"\n",
    "image_file = h5py.File(image_path, 'r')\n",
    "image_file.keys()"
   ]
  },
  {
   "cell_type": "code",
   "execution_count": 3,
   "id": "247903db",
   "metadata": {},
   "outputs": [
    {
     "name": "stdout",
     "output_type": "stream",
     "text": [
      "signal length 470063\n",
      "jjBG length 270777\n",
      "ttbarBG length 548709\n",
      "total image shape (1289549, 3, 50, 50)\n",
      "Time: 163.06943559646606\n"
     ]
    }
   ],
   "source": [
    "sig_len = 470063\n",
    "jjBG_len = 270777\n",
    "ttbarBG_len = 548709\n",
    "\n",
    "print(\"signal length\", sig_len)\n",
    "print(\"jjBG length\", jjBG_len)\n",
    "print(\"ttbarBG length\", ttbarBG_len)\n",
    "\n",
    "total_image = np.concatenate((image_file['sig'][:], image_file['jjBG'][:], image_file['ttbarBG'][:]))\n",
    "print(\"total image shape\", np.shape(total_image))\n",
    "\n",
    "print(\"Time:\", time.time()-t1)"
   ]
  },
  {
   "cell_type": "code",
   "execution_count": 4,
   "id": "154c979e",
   "metadata": {},
   "outputs": [
    {
     "name": "stdout",
     "output_type": "stream",
     "text": [
      "[[0. 1.]\n",
      " [0. 1.]\n",
      " [0. 1.]\n",
      " ...\n",
      " [1. 0.]\n",
      " [1. 0.]\n",
      " [1. 0.]]\n",
      "target shape (1289549, 2)\n"
     ]
    }
   ],
   "source": [
    "##### make target #####\n",
    "\n",
    "target = np.zeros(sig_len + jjBG_len + ttbarBG_len)\n",
    "target[0:sig_len] = 1    ### signal label as 1\n",
    "target = to_categorical(np.array(target), num_classes=2)    ### signal label as [0,1]\n",
    "print(target)\n",
    "print(\"target shape\", np.shape(target))"
   ]
  },
  {
   "cell_type": "code",
   "execution_count": 5,
   "id": "43f518d8",
   "metadata": {},
   "outputs": [
    {
     "name": "stdout",
     "output_type": "stream",
     "text": [
      "training data shape: (1031639, 3, 50, 50) (1031639, 2)\n",
      "validation data shape: (257910, 3, 50, 50) (257910, 2)\n"
     ]
    }
   ],
   "source": [
    "##### split the data into training, validation and test data #####\n",
    "\n",
    "train_image, val_image, train_target, val_target = train_test_split(total_image, target, test_size=0.2)\n",
    "\n",
    "print(\"training data shape:\", np.shape(train_image), np.shape(train_target))\n",
    "print(\"validation data shape:\", np.shape(val_image), np.shape(val_target))"
   ]
  },
  {
   "cell_type": "code",
   "execution_count": 6,
   "id": "2e51c0af",
   "metadata": {},
   "outputs": [
    {
     "name": "stdout",
     "output_type": "stream",
     "text": [
      "Model: \"sequential\"\n",
      "_________________________________________________________________\n",
      " Layer (type)                Output Shape              Param #   \n",
      "=================================================================\n",
      " conv2d (Conv2D)             (None, 16, 46, 46)        1216      \n",
      "                                                                 \n",
      " conv2d_1 (Conv2D)           (None, 32, 42, 42)        12832     \n",
      "                                                                 \n",
      " max_pooling2d (MaxPooling2  (None, 32, 41, 41)        0         \n",
      " D)                                                              \n",
      "                                                                 \n",
      " conv2d_2 (Conv2D)           (None, 16, 37, 37)        12816     \n",
      "                                                                 \n",
      " conv2d_3 (Conv2D)           (None, 32, 33, 33)        12832     \n",
      "                                                                 \n",
      " max_pooling2d_1 (MaxPoolin  (None, 32, 32, 32)        0         \n",
      " g2D)                                                            \n",
      "                                                                 \n",
      " flatten (Flatten)           (None, 32768)             0         \n",
      "                                                                 \n",
      " dense (Dense)               (None, 64)                2097216   \n",
      "                                                                 \n",
      " dense_1 (Dense)             (None, 2)                 130       \n",
      "                                                                 \n",
      "=================================================================\n",
      "Total params: 2137042 (8.15 MB)\n",
      "Trainable params: 2137042 (8.15 MB)\n",
      "Non-trainable params: 0 (0.00 Byte)\n",
      "_________________________________________________________________\n"
     ]
    },
    {
     "name": "stderr",
     "output_type": "stream",
     "text": [
      "2025-06-30 06:02:03.634538: I tensorflow/core/common_runtime/gpu/gpu_device.cc:1639] Created device /job:localhost/replica:0/task:0/device:GPU:0 with 46696 MB memory:  -> device: 0, name: NVIDIA RTX A6000, pci bus id: 0000:01:00.0, compute capability: 8.6\n",
      "2025-06-30 06:02:03.635319: I tensorflow/core/common_runtime/gpu/gpu_device.cc:1639] Created device /job:localhost/replica:0/task:0/device:GPU:1 with 46696 MB memory:  -> device: 1, name: NVIDIA RTX A6000, pci bus id: 0000:25:00.0, compute capability: 8.6\n"
     ]
    }
   ],
   "source": [
    "##### build CNN model #####\n",
    "\n",
    "CNN_model = Sequential()\n",
    "CNN_model.add(Conv2D(16, kernel_size=(5,5), strides=(1,1), padding='valid', activation='relu',data_format='channels_first', input_shape=(3,50,50)))\n",
    "CNN_model.add(Conv2D(32, kernel_size=(5,5), strides=(1,1), padding='valid', activation='relu',data_format='channels_first'))\n",
    "CNN_model.add(MaxPooling2D(pool_size=(2,2), strides=(1,1), padding='valid', data_format='channels_first'))\n",
    "#CNN_model.add(BatchNormalization())\n",
    "\n",
    "CNN_model.add(Conv2D(16, kernel_size=(5,5), strides=(1,1), padding='valid', activation='relu',data_format='channels_first'))\n",
    "CNN_model.add(Conv2D(32, kernel_size=(5,5), strides=(1,1), padding='valid', activation='relu',data_format='channels_first'))\n",
    "CNN_model.add(MaxPooling2D(pool_size=(2,2), strides=(1,1), padding='valid', data_format='channels_first'))\n",
    "#CNN_model.add(BatchNormalization())\n",
    "\n",
    "CNN_model.add(Flatten())\n",
    "CNN_model.add(Dense(64, activation='relu'))\n",
    "CNN_model.add(Dense(2, activation='softmax'))\n",
    "\n",
    "opt = keras.optimizers.Adam(learning_rate=1e-4)\n",
    "CNN_model.compile(loss='categorical_crossentropy', optimizer=opt, metrics=[\"accuracy\",\"mse\"])\n",
    "\n",
    "CNN_model.summary()"
   ]
  },
  {
   "cell_type": "code",
   "execution_count": 7,
   "id": "4b9bdb4d",
   "metadata": {},
   "outputs": [
    {
     "name": "stderr",
     "output_type": "stream",
     "text": [
      "2025-06-30 06:03:00.644498: W tensorflow/tsl/framework/cpu_allocator_impl.cc:83] Allocation of 30949170000 exceeds 10% of free system memory.\n",
      "2025-06-30 06:03:17.766522: W tensorflow/tsl/framework/cpu_allocator_impl.cc:83] Allocation of 30949170000 exceeds 10% of free system memory.\n"
     ]
    },
    {
     "name": "stdout",
     "output_type": "stream",
     "text": [
      "Epoch 1/100\n"
     ]
    },
    {
     "name": "stderr",
     "output_type": "stream",
     "text": [
      "2025-06-30 06:03:33.375064: I tensorflow/compiler/xla/stream_executor/cuda/cuda_dnn.cc:432] Loaded cuDNN version 8600\n",
      "2025-06-30 06:03:35.088479: I tensorflow/compiler/xla/stream_executor/cuda/cuda_blas.cc:606] TensorFloat-32 will be used for the matrix multiplication. This will only be logged once.\n",
      "2025-06-30 06:03:35.099611: I tensorflow/compiler/xla/service/service.cc:168] XLA service 0x7f04b80175a0 initialized for platform CUDA (this does not guarantee that XLA will be used). Devices:\n",
      "2025-06-30 06:03:35.099655: I tensorflow/compiler/xla/service/service.cc:176]   StreamExecutor device (0): NVIDIA RTX A6000, Compute Capability 8.6\n",
      "2025-06-30 06:03:35.099665: I tensorflow/compiler/xla/service/service.cc:176]   StreamExecutor device (1): NVIDIA RTX A6000, Compute Capability 8.6\n",
      "2025-06-30 06:03:35.106534: I tensorflow/compiler/mlir/tensorflow/utils/dump_mlir_util.cc:255] disabling MLIR crash reproducer, set env var `MLIR_CRASH_REPRODUCER_DIRECTORY` to enable.\n",
      "2025-06-30 06:03:35.234861: I ./tensorflow/compiler/jit/device_compiler.h:186] Compiled cluster using XLA!  This line is logged at most once for the lifetime of the process.\n"
     ]
    },
    {
     "name": "stdout",
     "output_type": "stream",
     "text": [
      "252/252 [==============================] - 94s 311ms/step - loss: 0.6719 - accuracy: 0.6606 - mse: 0.2205 - val_loss: 0.5890 - val_accuracy: 0.6984 - val_mse: 0.2003\n",
      "Epoch 2/100\n",
      "252/252 [==============================] - 55s 219ms/step - loss: 0.5557 - accuracy: 0.7215 - mse: 0.1865 - val_loss: 0.5407 - val_accuracy: 0.7296 - val_mse: 0.1807\n",
      "Epoch 3/100\n",
      "252/252 [==============================] - 51s 203ms/step - loss: 0.5301 - accuracy: 0.7390 - mse: 0.1763 - val_loss: 0.5238 - val_accuracy: 0.7435 - val_mse: 0.1739\n",
      "Epoch 4/100\n",
      "252/252 [==============================] - 52s 206ms/step - loss: 0.5172 - accuracy: 0.7473 - mse: 0.1715 - val_loss: 0.5175 - val_accuracy: 0.7478 - val_mse: 0.1716\n",
      "Epoch 5/100\n",
      "252/252 [==============================] - 50s 200ms/step - loss: 0.5071 - accuracy: 0.7528 - mse: 0.1679 - val_loss: 0.5040 - val_accuracy: 0.7555 - val_mse: 0.1667\n",
      "Epoch 6/100\n",
      "252/252 [==============================] - 52s 206ms/step - loss: 0.4997 - accuracy: 0.7566 - mse: 0.1652 - val_loss: 0.4973 - val_accuracy: 0.7592 - val_mse: 0.1643\n",
      "Epoch 7/100\n",
      "252/252 [==============================] - 50s 200ms/step - loss: 0.4934 - accuracy: 0.7600 - mse: 0.1629 - val_loss: 0.4938 - val_accuracy: 0.7607 - val_mse: 0.1630\n",
      "Epoch 8/100\n",
      "252/252 [==============================] - 49s 196ms/step - loss: 0.4890 - accuracy: 0.7627 - mse: 0.1613 - val_loss: 0.4893 - val_accuracy: 0.7639 - val_mse: 0.1613\n",
      "Epoch 9/100\n",
      "252/252 [==============================] - 50s 199ms/step - loss: 0.4852 - accuracy: 0.7652 - mse: 0.1599 - val_loss: 0.4873 - val_accuracy: 0.7645 - val_mse: 0.1606\n",
      "Epoch 10/100\n",
      "252/252 [==============================] - 49s 195ms/step - loss: 0.4817 - accuracy: 0.7670 - mse: 0.1586 - val_loss: 0.4870 - val_accuracy: 0.7645 - val_mse: 0.1604\n",
      "Epoch 11/100\n",
      "252/252 [==============================] - 48s 189ms/step - loss: 0.4796 - accuracy: 0.7682 - mse: 0.1578 - val_loss: 0.4832 - val_accuracy: 0.7669 - val_mse: 0.1591\n",
      "Epoch 12/100\n",
      "252/252 [==============================] - 51s 201ms/step - loss: 0.4765 - accuracy: 0.7701 - mse: 0.1567 - val_loss: 0.4796 - val_accuracy: 0.7688 - val_mse: 0.1578\n",
      "Epoch 13/100\n",
      "252/252 [==============================] - 49s 194ms/step - loss: 0.4742 - accuracy: 0.7714 - mse: 0.1559 - val_loss: 0.4792 - val_accuracy: 0.7693 - val_mse: 0.1577\n",
      "Epoch 14/100\n",
      "252/252 [==============================] - 48s 191ms/step - loss: 0.4715 - accuracy: 0.7728 - mse: 0.1548 - val_loss: 0.4765 - val_accuracy: 0.7711 - val_mse: 0.1565\n",
      "Epoch 15/100\n",
      "252/252 [==============================] - 50s 198ms/step - loss: 0.4697 - accuracy: 0.7739 - mse: 0.1542 - val_loss: 0.4738 - val_accuracy: 0.7726 - val_mse: 0.1556\n",
      "Epoch 16/100\n",
      "252/252 [==============================] - 48s 189ms/step - loss: 0.4673 - accuracy: 0.7751 - mse: 0.1533 - val_loss: 0.4724 - val_accuracy: 0.7729 - val_mse: 0.1552\n",
      "Epoch 17/100\n",
      "252/252 [==============================] - 50s 197ms/step - loss: 0.4656 - accuracy: 0.7760 - mse: 0.1527 - val_loss: 0.4806 - val_accuracy: 0.7674 - val_mse: 0.1584\n",
      "Epoch 18/100\n",
      "252/252 [==============================] - 52s 208ms/step - loss: 0.4631 - accuracy: 0.7777 - mse: 0.1518 - val_loss: 0.4705 - val_accuracy: 0.7740 - val_mse: 0.1545\n",
      "Epoch 19/100\n",
      "252/252 [==============================] - 47s 188ms/step - loss: 0.4624 - accuracy: 0.7779 - mse: 0.1515 - val_loss: 0.4712 - val_accuracy: 0.7726 - val_mse: 0.1547\n",
      "Epoch 20/100\n",
      "252/252 [==============================] - 50s 199ms/step - loss: 0.4611 - accuracy: 0.7790 - mse: 0.1510 - val_loss: 0.4676 - val_accuracy: 0.7752 - val_mse: 0.1534\n",
      "Epoch 21/100\n",
      "252/252 [==============================] - 47s 188ms/step - loss: 0.4585 - accuracy: 0.7802 - mse: 0.1501 - val_loss: 0.4680 - val_accuracy: 0.7752 - val_mse: 0.1535\n",
      "Epoch 22/100\n",
      "252/252 [==============================] - 49s 195ms/step - loss: 0.4578 - accuracy: 0.7805 - mse: 0.1498 - val_loss: 0.4665 - val_accuracy: 0.7757 - val_mse: 0.1530\n",
      "Epoch 23/100\n",
      "252/252 [==============================] - 51s 201ms/step - loss: 0.4560 - accuracy: 0.7816 - mse: 0.1492 - val_loss: 0.4826 - val_accuracy: 0.7678 - val_mse: 0.1588\n",
      "Epoch 24/100\n",
      "252/252 [==============================] - 46s 185ms/step - loss: 0.4553 - accuracy: 0.7821 - mse: 0.1489 - val_loss: 0.4644 - val_accuracy: 0.7769 - val_mse: 0.1523\n",
      "Epoch 25/100\n",
      "252/252 [==============================] - 50s 199ms/step - loss: 0.4540 - accuracy: 0.7827 - mse: 0.1484 - val_loss: 0.4648 - val_accuracy: 0.7769 - val_mse: 0.1523\n",
      "Epoch 26/100\n",
      "252/252 [==============================] - 49s 195ms/step - loss: 0.4525 - accuracy: 0.7837 - mse: 0.1479 - val_loss: 0.4671 - val_accuracy: 0.7756 - val_mse: 0.1532\n",
      "Epoch 27/100\n",
      "252/252 [==============================] - 49s 194ms/step - loss: 0.4507 - accuracy: 0.7847 - mse: 0.1472 - val_loss: 0.4631 - val_accuracy: 0.7778 - val_mse: 0.1518\n",
      "Epoch 28/100\n",
      "252/252 [==============================] - 50s 199ms/step - loss: 0.4499 - accuracy: 0.7850 - mse: 0.1469 - val_loss: 0.4638 - val_accuracy: 0.7773 - val_mse: 0.1521\n",
      "Epoch 29/100\n",
      "252/252 [==============================] - 46s 184ms/step - loss: 0.4503 - accuracy: 0.7850 - mse: 0.1471 - val_loss: 0.4622 - val_accuracy: 0.7780 - val_mse: 0.1515\n",
      "Epoch 30/100\n",
      "252/252 [==============================] - 51s 201ms/step - loss: 0.4472 - accuracy: 0.7867 - mse: 0.1459 - val_loss: 0.4601 - val_accuracy: 0.7792 - val_mse: 0.1507\n",
      "Epoch 31/100\n",
      "252/252 [==============================] - 49s 194ms/step - loss: 0.4473 - accuracy: 0.7867 - mse: 0.1459 - val_loss: 0.4622 - val_accuracy: 0.7780 - val_mse: 0.1515\n",
      "Epoch 32/100\n",
      "252/252 [==============================] - 47s 188ms/step - loss: 0.4452 - accuracy: 0.7880 - mse: 0.1452 - val_loss: 0.4601 - val_accuracy: 0.7796 - val_mse: 0.1505\n",
      "Epoch 33/100\n",
      "252/252 [==============================] - 55s 220ms/step - loss: 0.4454 - accuracy: 0.7879 - mse: 0.1452 - val_loss: 0.4658 - val_accuracy: 0.7769 - val_mse: 0.1525\n",
      "Epoch 34/100\n",
      "252/252 [==============================] - 49s 194ms/step - loss: 0.4446 - accuracy: 0.7883 - mse: 0.1450 - val_loss: 0.4590 - val_accuracy: 0.7802 - val_mse: 0.1501\n",
      "Epoch 35/100\n",
      "252/252 [==============================] - 51s 201ms/step - loss: 0.4423 - accuracy: 0.7894 - mse: 0.1441 - val_loss: 0.4589 - val_accuracy: 0.7796 - val_mse: 0.1503\n",
      "Epoch 36/100\n",
      "252/252 [==============================] - 50s 199ms/step - loss: 0.4426 - accuracy: 0.7894 - mse: 0.1442 - val_loss: 0.4626 - val_accuracy: 0.7785 - val_mse: 0.1514\n",
      "Epoch 37/100\n",
      "252/252 [==============================] - 47s 186ms/step - loss: 0.4410 - accuracy: 0.7905 - mse: 0.1436 - val_loss: 0.4606 - val_accuracy: 0.7789 - val_mse: 0.1508\n",
      "Epoch 38/100\n",
      "252/252 [==============================] - 50s 199ms/step - loss: 0.4394 - accuracy: 0.7911 - mse: 0.1431 - val_loss: 0.4562 - val_accuracy: 0.7811 - val_mse: 0.1492\n",
      "Epoch 39/100\n",
      "252/252 [==============================] - 47s 185ms/step - loss: 0.4383 - accuracy: 0.7916 - mse: 0.1427 - val_loss: 0.4587 - val_accuracy: 0.7797 - val_mse: 0.1503\n",
      "Epoch 40/100\n",
      "252/252 [==============================] - 50s 198ms/step - loss: 0.4380 - accuracy: 0.7922 - mse: 0.1425 - val_loss: 0.4587 - val_accuracy: 0.7806 - val_mse: 0.1500\n",
      "Epoch 41/100\n",
      "252/252 [==============================] - 49s 193ms/step - loss: 0.4372 - accuracy: 0.7927 - mse: 0.1422 - val_loss: 0.4565 - val_accuracy: 0.7806 - val_mse: 0.1493\n",
      "Epoch 42/100\n",
      "252/252 [==============================] - 49s 193ms/step - loss: 0.4366 - accuracy: 0.7927 - mse: 0.1421 - val_loss: 0.4552 - val_accuracy: 0.7823 - val_mse: 0.1488\n",
      "Epoch 43/100\n",
      "252/252 [==============================] - 50s 198ms/step - loss: 0.4363 - accuracy: 0.7929 - mse: 0.1419 - val_loss: 0.4705 - val_accuracy: 0.7723 - val_mse: 0.1548\n",
      "Epoch 44/100\n",
      "252/252 [==============================] - 47s 186ms/step - loss: 0.4343 - accuracy: 0.7941 - mse: 0.1412 - val_loss: 0.4586 - val_accuracy: 0.7802 - val_mse: 0.1501\n",
      "Epoch 45/100\n",
      "252/252 [==============================] - 53s 211ms/step - loss: 0.4342 - accuracy: 0.7943 - mse: 0.1412 - val_loss: 0.4575 - val_accuracy: 0.7821 - val_mse: 0.1492\n",
      "Epoch 46/100\n",
      "252/252 [==============================] - 48s 189ms/step - loss: 0.4333 - accuracy: 0.7945 - mse: 0.1408 - val_loss: 0.4598 - val_accuracy: 0.7788 - val_mse: 0.1506\n",
      "Epoch 47/100\n",
      "252/252 [==============================] - 49s 196ms/step - loss: 0.4328 - accuracy: 0.7950 - mse: 0.1406 - val_loss: 0.4549 - val_accuracy: 0.7821 - val_mse: 0.1487\n",
      "Epoch 48/100\n",
      "252/252 [==============================] - 49s 196ms/step - loss: 0.4314 - accuracy: 0.7955 - mse: 0.1401 - val_loss: 0.4598 - val_accuracy: 0.7803 - val_mse: 0.1503\n",
      "Epoch 49/100\n",
      "252/252 [==============================] - 48s 190ms/step - loss: 0.4312 - accuracy: 0.7960 - mse: 0.1401 - val_loss: 0.4540 - val_accuracy: 0.7829 - val_mse: 0.1484\n",
      "Epoch 50/100\n",
      "252/252 [==============================] - 50s 200ms/step - loss: 0.4296 - accuracy: 0.7969 - mse: 0.1395 - val_loss: 0.4552 - val_accuracy: 0.7817 - val_mse: 0.1489\n",
      "Epoch 51/100\n",
      "252/252 [==============================] - 48s 189ms/step - loss: 0.4285 - accuracy: 0.7976 - mse: 0.1391 - val_loss: 0.4565 - val_accuracy: 0.7817 - val_mse: 0.1493\n",
      "Epoch 52/100\n",
      "252/252 [==============================] - 49s 196ms/step - loss: 0.4299 - accuracy: 0.7968 - mse: 0.1396 - val_loss: 0.4540 - val_accuracy: 0.7831 - val_mse: 0.1483\n",
      "Epoch 53/100\n",
      "252/252 [==============================] - 48s 192ms/step - loss: 0.4282 - accuracy: 0.7976 - mse: 0.1390 - val_loss: 0.4675 - val_accuracy: 0.7750 - val_mse: 0.1536\n",
      "Epoch 54/100\n",
      "252/252 [==============================] - 48s 191ms/step - loss: 0.4274 - accuracy: 0.7983 - mse: 0.1387 - val_loss: 0.4551 - val_accuracy: 0.7824 - val_mse: 0.1489\n",
      "Epoch 55/100\n",
      "252/252 [==============================] - 50s 200ms/step - loss: 0.4268 - accuracy: 0.7984 - mse: 0.1384 - val_loss: 0.4562 - val_accuracy: 0.7836 - val_mse: 0.1488\n",
      "Epoch 56/100\n",
      "252/252 [==============================] - 47s 185ms/step - loss: 0.4268 - accuracy: 0.7984 - mse: 0.1385 - val_loss: 0.4546 - val_accuracy: 0.7818 - val_mse: 0.1486\n",
      "Epoch 57/100\n",
      "252/252 [==============================] - 50s 199ms/step - loss: 0.4249 - accuracy: 0.7997 - mse: 0.1377 - val_loss: 0.4561 - val_accuracy: 0.7809 - val_mse: 0.1491\n",
      "Epoch 58/100\n",
      "252/252 [==============================] - 47s 185ms/step - loss: 0.4246 - accuracy: 0.7995 - mse: 0.1377 - val_loss: 0.4528 - val_accuracy: 0.7840 - val_mse: 0.1479\n",
      "Epoch 59/100\n",
      "252/252 [==============================] - 51s 203ms/step - loss: 0.4237 - accuracy: 0.8004 - mse: 0.1373 - val_loss: 0.4536 - val_accuracy: 0.7832 - val_mse: 0.1482\n",
      "Epoch 60/100\n",
      "252/252 [==============================] - 47s 187ms/step - loss: 0.4230 - accuracy: 0.8006 - mse: 0.1371 - val_loss: 0.4579 - val_accuracy: 0.7829 - val_mse: 0.1492\n",
      "Epoch 61/100\n",
      "252/252 [==============================] - 50s 199ms/step - loss: 0.4230 - accuracy: 0.8008 - mse: 0.1371 - val_loss: 0.4552 - val_accuracy: 0.7822 - val_mse: 0.1487\n",
      "Epoch 62/100\n",
      "252/252 [==============================] - 47s 185ms/step - loss: 0.4228 - accuracy: 0.8009 - mse: 0.1370 - val_loss: 0.4551 - val_accuracy: 0.7836 - val_mse: 0.1484\n",
      "Epoch 63/100\n",
      "252/252 [==============================] - 46s 184ms/step - loss: 0.4216 - accuracy: 0.8013 - mse: 0.1366 - val_loss: 0.4536 - val_accuracy: 0.7835 - val_mse: 0.1481\n",
      "Epoch 64/100\n",
      "252/252 [==============================] - 47s 185ms/step - loss: 0.4205 - accuracy: 0.8021 - mse: 0.1362 - val_loss: 0.4580 - val_accuracy: 0.7821 - val_mse: 0.1493\n",
      "Epoch 65/100\n",
      "252/252 [==============================] - 46s 184ms/step - loss: 0.4206 - accuracy: 0.8021 - mse: 0.1362 - val_loss: 0.4530 - val_accuracy: 0.7851 - val_mse: 0.1476\n",
      "Epoch 66/100\n",
      "252/252 [==============================] - 46s 185ms/step - loss: 0.4202 - accuracy: 0.8024 - mse: 0.1361 - val_loss: 0.4602 - val_accuracy: 0.7814 - val_mse: 0.1499\n",
      "Epoch 67/100\n",
      "252/252 [==============================] - 47s 187ms/step - loss: 0.4191 - accuracy: 0.8031 - mse: 0.1357 - val_loss: 0.4546 - val_accuracy: 0.7841 - val_mse: 0.1482\n",
      "Epoch 68/100\n",
      "252/252 [==============================] - 49s 195ms/step - loss: 0.4184 - accuracy: 0.8034 - mse: 0.1354 - val_loss: 0.4625 - val_accuracy: 0.7809 - val_mse: 0.1507\n",
      "Epoch 69/100\n",
      "252/252 [==============================] - 48s 190ms/step - loss: 0.4181 - accuracy: 0.8033 - mse: 0.1353 - val_loss: 0.4536 - val_accuracy: 0.7840 - val_mse: 0.1479\n",
      "Epoch 70/100\n",
      "252/252 [==============================] - 46s 184ms/step - loss: 0.4163 - accuracy: 0.8043 - mse: 0.1346 - val_loss: 0.4527 - val_accuracy: 0.7844 - val_mse: 0.1478\n",
      "Epoch 71/100\n",
      "252/252 [==============================] - 46s 184ms/step - loss: 0.4165 - accuracy: 0.8042 - mse: 0.1347 - val_loss: 0.4535 - val_accuracy: 0.7846 - val_mse: 0.1478\n",
      "Epoch 72/100\n",
      "252/252 [==============================] - 47s 185ms/step - loss: 0.4162 - accuracy: 0.8048 - mse: 0.1346 - val_loss: 0.4554 - val_accuracy: 0.7833 - val_mse: 0.1487\n",
      "Epoch 73/100\n",
      "252/252 [==============================] - 47s 186ms/step - loss: 0.4158 - accuracy: 0.8048 - mse: 0.1345 - val_loss: 0.4546 - val_accuracy: 0.7853 - val_mse: 0.1479\n",
      "Epoch 74/100\n",
      "252/252 [==============================] - 47s 185ms/step - loss: 0.4148 - accuracy: 0.8054 - mse: 0.1341 - val_loss: 0.4538 - val_accuracy: 0.7838 - val_mse: 0.1481\n",
      "Epoch 75/100\n",
      "252/252 [==============================] - 47s 186ms/step - loss: 0.4141 - accuracy: 0.8057 - mse: 0.1338 - val_loss: 0.4564 - val_accuracy: 0.7845 - val_mse: 0.1485\n",
      "Epoch 76/100\n",
      "252/252 [==============================] - 48s 192ms/step - loss: 0.4135 - accuracy: 0.8058 - mse: 0.1337 - val_loss: 0.4539 - val_accuracy: 0.7848 - val_mse: 0.1478\n",
      "Epoch 77/100\n",
      "252/252 [==============================] - 49s 193ms/step - loss: 0.4133 - accuracy: 0.8062 - mse: 0.1335 - val_loss: 0.4634 - val_accuracy: 0.7797 - val_mse: 0.1512\n",
      "Epoch 78/100\n",
      "252/252 [==============================] - 47s 185ms/step - loss: 0.4132 - accuracy: 0.8066 - mse: 0.1335 - val_loss: 0.4627 - val_accuracy: 0.7809 - val_mse: 0.1508\n",
      "Epoch 79/100\n",
      "252/252 [==============================] - 47s 186ms/step - loss: 0.4123 - accuracy: 0.8066 - mse: 0.1332 - val_loss: 0.4604 - val_accuracy: 0.7804 - val_mse: 0.1502\n",
      "Epoch 80/100\n",
      "252/252 [==============================] - 47s 185ms/step - loss: 0.4123 - accuracy: 0.8067 - mse: 0.1332 - val_loss: 0.4567 - val_accuracy: 0.7829 - val_mse: 0.1488\n",
      "Epoch 81/100\n",
      "252/252 [==============================] - 47s 185ms/step - loss: 0.4117 - accuracy: 0.8071 - mse: 0.1330 - val_loss: 0.4591 - val_accuracy: 0.7847 - val_mse: 0.1488\n",
      "Epoch 82/100\n",
      "252/252 [==============================] - 47s 186ms/step - loss: 0.4105 - accuracy: 0.8077 - mse: 0.1325 - val_loss: 0.4596 - val_accuracy: 0.7802 - val_mse: 0.1501\n",
      "Epoch 83/100\n",
      "252/252 [==============================] - 47s 185ms/step - loss: 0.4096 - accuracy: 0.8082 - mse: 0.1322 - val_loss: 0.4543 - val_accuracy: 0.7842 - val_mse: 0.1481\n",
      "Epoch 84/100\n",
      "252/252 [==============================] - 49s 195ms/step - loss: 0.4095 - accuracy: 0.8084 - mse: 0.1322 - val_loss: 0.4549 - val_accuracy: 0.7836 - val_mse: 0.1483\n",
      "Epoch 85/100\n",
      "252/252 [==============================] - 48s 190ms/step - loss: 0.4100 - accuracy: 0.8082 - mse: 0.1323 - val_loss: 0.4567 - val_accuracy: 0.7818 - val_mse: 0.1491\n",
      "Epoch 86/100\n",
      "252/252 [==============================] - 46s 184ms/step - loss: 0.4091 - accuracy: 0.8087 - mse: 0.1321 - val_loss: 0.4580 - val_accuracy: 0.7843 - val_mse: 0.1488\n",
      "Epoch 87/100\n",
      "252/252 [==============================] - 46s 184ms/step - loss: 0.4081 - accuracy: 0.8094 - mse: 0.1317 - val_loss: 0.4569 - val_accuracy: 0.7836 - val_mse: 0.1486\n",
      "Epoch 88/100\n",
      "252/252 [==============================] - 46s 185ms/step - loss: 0.4078 - accuracy: 0.8095 - mse: 0.1315 - val_loss: 0.4562 - val_accuracy: 0.7837 - val_mse: 0.1485\n",
      "Epoch 89/100\n",
      "252/252 [==============================] - 47s 186ms/step - loss: 0.4067 - accuracy: 0.8098 - mse: 0.1312 - val_loss: 0.4582 - val_accuracy: 0.7803 - val_mse: 0.1495\n",
      "Epoch 90/100\n",
      "252/252 [==============================] - 50s 199ms/step - loss: 0.4076 - accuracy: 0.8097 - mse: 0.1315 - val_loss: 0.4544 - val_accuracy: 0.7825 - val_mse: 0.1483\n",
      "Epoch 91/100\n",
      "252/252 [==============================] - 47s 186ms/step - loss: 0.4065 - accuracy: 0.8102 - mse: 0.1311 - val_loss: 0.4566 - val_accuracy: 0.7841 - val_mse: 0.1485\n",
      "Epoch 92/100\n",
      "252/252 [==============================] - 46s 185ms/step - loss: 0.4059 - accuracy: 0.8105 - mse: 0.1309 - val_loss: 0.4671 - val_accuracy: 0.7758 - val_mse: 0.1528\n",
      "Epoch 93/100\n",
      "252/252 [==============================] - 47s 185ms/step - loss: 0.4051 - accuracy: 0.8110 - mse: 0.1306 - val_loss: 0.4587 - val_accuracy: 0.7837 - val_mse: 0.1490\n",
      "Epoch 94/100\n",
      "252/252 [==============================] - 46s 183ms/step - loss: 0.4049 - accuracy: 0.8112 - mse: 0.1305 - val_loss: 0.4616 - val_accuracy: 0.7811 - val_mse: 0.1503\n",
      "Epoch 95/100\n",
      "252/252 [==============================] - 46s 183ms/step - loss: 0.4042 - accuracy: 0.8114 - mse: 0.1303 - val_loss: 0.4585 - val_accuracy: 0.7835 - val_mse: 0.1489\n",
      "Epoch 96/100\n",
      "252/252 [==============================] - 46s 184ms/step - loss: 0.4048 - accuracy: 0.8111 - mse: 0.1305 - val_loss: 0.4569 - val_accuracy: 0.7833 - val_mse: 0.1487\n",
      "Epoch 97/100\n",
      "252/252 [==============================] - 47s 185ms/step - loss: 0.4027 - accuracy: 0.8122 - mse: 0.1297 - val_loss: 0.4611 - val_accuracy: 0.7829 - val_mse: 0.1496\n",
      "Epoch 98/100\n",
      "252/252 [==============================] - 49s 193ms/step - loss: 0.4042 - accuracy: 0.8115 - mse: 0.1303 - val_loss: 0.4584 - val_accuracy: 0.7835 - val_mse: 0.1489\n",
      "Epoch 99/100\n",
      "252/252 [==============================] - 49s 195ms/step - loss: 0.4032 - accuracy: 0.8117 - mse: 0.1299 - val_loss: 0.4577 - val_accuracy: 0.7833 - val_mse: 0.1488\n",
      "Epoch 100/100\n",
      "252/252 [==============================] - 46s 183ms/step - loss: 0.4022 - accuracy: 0.8127 - mse: 0.1296 - val_loss: 0.4580 - val_accuracy: 0.7822 - val_mse: 0.1490\n"
     ]
    },
    {
     "name": "stderr",
     "output_type": "stream",
     "text": [
      "/root/miniconda3/envs/tf/lib/python3.10/site-packages/keras/src/engine/training.py:3000: UserWarning: You are saving your model as an HDF5 file via `model.save()`. This file format is considered legacy. We recommend using instead the native Keras format, e.g. `model.save('my_model.keras')`.\n",
      "  saving_api.save_model(\n"
     ]
    },
    {
     "data": {
      "text/plain": [
       "<matplotlib.legend.Legend at 0x7f1ee861c130>"
      ]
     },
     "execution_count": 7,
     "metadata": {},
     "output_type": "execute_result"
    },
    {
     "data": {
      "image/png": "[encoded data removed]",
      "text/plain": [
       "<Figure size 1000x1000 with 1 Axes>"
      ]
     },
     "metadata": {},
     "output_type": "display_data"
    }
   ],
   "source": [
    "##### training model #####\n",
    "\n",
    "batch_size = 4096\n",
    "epochs = 100\n",
    "\n",
    "tr_CNN_model = CNN_model.fit(train_image, train_target, validation_data=(val_image, val_target), batch_size=batch_size, epochs=epochs, verbose=1)\n",
    "CNN_model.save(\"/root/data/model_CNN.h5\")\n",
    "\n",
    "### plot learning curve\n",
    "\n",
    "fig, ax = plt.subplots(1,1, figsize=(10,10))\n",
    "plt.plot(tr_CNN_model.history[\"loss\"], label='training data',c='blue',linewidth = 3)\n",
    "plt.plot(tr_CNN_model.history[\"val_loss\"], label='validation data',c='red',linewidth = 3)\n",
    "plt.title(\"CNN\", fontsize=25)\n",
    "ax.set_ylabel('loss', fontsize=25,horizontalalignment='right',y=1)\n",
    "ax.set_xlabel('epoch', fontsize=25,horizontalalignment='right',x=1)\n",
    "plt.legend(loc='best', prop={'size':20}, edgecolor = \"w\",fancybox=False, framealpha=0)"
   ]
  },
  {
   "cell_type": "code",
   "execution_count": 8,
   "id": "25a88a7f",
   "metadata": {},
   "outputs": [
    {
     "name": "stdout",
     "output_type": "stream",
     "text": [
      "Total time (s):  5162.822394132614\n"
     ]
    }
   ],
   "source": [
    "image_file.close()\n",
    "t2 = time.time()\n",
    "print(\"Total time (s): \", t2-t1)"
   ]
  },
  {
   "cell_type": "code",
   "execution_count": null,
   "id": "cdb64062-4eab-4b48-a7c3-1b99029d9fdf",
   "metadata": {},
   "outputs": [],
   "source": []
  }
 ],
 "metadata": {
  "kernelspec": {
   "display_name": "Python 3 (ipykernel)",
   "language": "python",
   "name": "python3"
  },
  "language_info": {
   "codemirror_mode": {
    "name": "ipython",
    "version": 3
   },
   "file_extension": ".py",
   "mimetype": "text/x-python",
   "name": "python",
   "nbconvert_exporter": "python",
   "pygments_lexer": "ipython3",
   "version": "3.10.13"
  }
 },
 "nbformat": 4,
 "nbformat_minor": 5
}
