{
 "cells": [
  {
   "cell_type": "code",
   "execution_count": 1,
   "id": "51b52829-4046-4cb9-a459-73f5f0f8f29b",
   "metadata": {},
   "outputs": [
    {
     "name": "stderr",
     "output_type": "stream",
     "text": [
      "2025-05-19 05:26:19.238208: I tensorflow/core/platform/cpu_feature_guard.cc:182] This TensorFlow binary is optimized to use available CPU instructions in performance-critical operations.\n",
      "To enable the following instructions: AVX2 FMA, in other operations, rebuild TensorFlow with the appropriate compiler flags.\n"
     ]
    }
   ],
   "source": [
    "import time\n",
    "t1 = time.time()\n",
    "\n",
    "import math\n",
    "import os\n",
    "import numpy as np\n",
    "import pandas as pd\n",
    "import h5py\n",
    "import matplotlib.pyplot as plt\n",
    "from matplotlib.colors import LogNorm\n",
    "\n",
    "import tensorflow as tf\n",
    "import tensorflow.keras as keras\n",
    "from tensorflow.keras.models import Model, Sequential, load_model\n",
    "from tensorflow.keras.layers import Dense, Dropout, Flatten , Convolution2D, MaxPooling2D , Lambda, Conv2D, Activation,Concatenate, Input\n",
    "from tensorflow.keras.optimizers import Adam , SGD , Adagrad\n",
    "from tensorflow.keras.callbacks import ModelCheckpoint, LearningRateScheduler, EarlyStopping, CSVLogger, ReduceLROnPlateau\n",
    "from tensorflow.keras.utils import to_categorical\n",
    "from tensorflow.keras import regularizers , initializers\n",
    "from sklearn.metrics import confusion_matrix\n",
    "import tensorflow.keras.backend as K\n",
    "from sklearn import metrics\n",
    "from sklearn.utils import shuffle\n",
    "from sklearn.model_selection import train_test_split"
   ]
  },
  {
   "cell_type": "code",
   "execution_count": 2,
   "id": "4e401ed3-7c16-4cdb-ab56-73bef5f9036d",
   "metadata": {},
   "outputs": [
    {
     "data": {
      "text/plain": [
       "<KeysViewHDF5 ['jjBG', 'sig', 'ttbarBG']>"
      ]
     },
     "execution_count": 2,
     "metadata": {},
     "output_type": "execute_result"
    }
   ],
   "source": [
    "##### load image data #####\n",
    "\n",
    "image_path = \"/root/data/data_image.h5\"\n",
    "image_file = h5py.File(image_path, 'r')\n",
    "image_file.keys()"
   ]
  },
  {
   "cell_type": "code",
   "execution_count": 3,
   "id": "bb80c437-6577-4502-8563-fc2b7003d817",
   "metadata": {},
   "outputs": [
    {
     "name": "stdout",
     "output_type": "stream",
     "text": [
      "signal shape (174453, 50, 50)\n",
      "jjBG shape (123337, 50, 50)\n",
      "ttbarBG shape (123751, 50, 50)\n",
      "total image shape (421541, 50, 50)\n"
     ]
    }
   ],
   "source": [
    "sig_image = image_file['sig'][:]\n",
    "print(\"signal shape\", np.shape(sig_image))\n",
    "\n",
    "jjBG_image = image_file['jjBG'][:]\n",
    "print(\"jjBG shape\", np.shape(jjBG_image))\n",
    "\n",
    "ttbarBG_image = image_file['ttbarBG'][:]\n",
    "print(\"ttbarBG shape\", np.shape(ttbarBG_image))\n",
    "\n",
    "total_image = np.concatenate((sig_image, jjBG_image, ttbarBG_image))\n",
    "print(\"total image shape\", np.shape(total_image))"
   ]
  },
  {
   "cell_type": "code",
   "execution_count": 4,
   "id": "96af4e24-12d4-4011-bce7-0c6eb934a312",
   "metadata": {},
   "outputs": [
    {
     "name": "stdout",
     "output_type": "stream",
     "text": [
      "[[0. 1.]\n",
      " [0. 1.]\n",
      " [0. 1.]\n",
      " ...\n",
      " [1. 0.]\n",
      " [1. 0.]\n",
      " [1. 0.]]\n",
      "target shape (421541, 2)\n"
     ]
    }
   ],
   "source": [
    "##### make target #####\n",
    "\n",
    "target = np.zeros(len(sig_image) + len(jjBG_image) + len(ttbarBG_image))\n",
    "target[0:len(sig_image)] = 1    ### signal label as 1\n",
    "target = to_categorical(target, num_classes=2)    ### signal label as [0, 1]\n",
    "print(target)\n",
    "print(\"target shape\", np.shape(target))"
   ]
  },
  {
   "cell_type": "code",
   "execution_count": 5,
   "id": "d710090c-1013-4705-af0d-4eadd0a6a9e5",
   "metadata": {},
   "outputs": [],
   "source": [
    "##### build CNN model #####\n",
    "\n"
   ]
  },
  {
   "cell_type": "code",
   "execution_count": 6,
   "id": "c47cdda5-bd9b-4960-b1f9-01ea12730983",
   "metadata": {},
   "outputs": [
    {
     "name": "stdout",
     "output_type": "stream",
     "text": [
      "Total time (s):  5.972450017929077\n"
     ]
    }
   ],
   "source": [
    "image_file.close()\n",
    "t2 = time.time()\n",
    "print(\"Total time (s): \", t2-t1)"
   ]
  }
 ],
 "metadata": {
  "kernelspec": {
   "display_name": "Python 3 (ipykernel)",
   "language": "python",
   "name": "python3"
  },
  "language_info": {
   "codemirror_mode": {
    "name": "ipython",
    "version": 3
   },
   "file_extension": ".py",
   "mimetype": "text/x-python",
   "name": "python",
   "nbconvert_exporter": "python",
   "pygments_lexer": "ipython3",
   "version": "3.10.13"
  }
 },
 "nbformat": 4,
 "nbformat_minor": 5
}
