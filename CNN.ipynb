{
 "cells": [
  {
   "cell_type": "code",
   "execution_count": 1,
   "id": "5793c4b2",
   "metadata": {},
   "outputs": [
    {
     "name": "stderr",
     "output_type": "stream",
     "text": [
      "2025-07-01 05:03:15.945585: I tensorflow/core/platform/cpu_feature_guard.cc:182] This TensorFlow binary is optimized to use available CPU instructions in performance-critical operations.\n",
      "To enable the following instructions: AVX2 FMA, in other operations, rebuild TensorFlow with the appropriate compiler flags.\n"
     ]
    }
   ],
   "source": [
    "import time\n",
    "t1 = time.time()\n",
    "\n",
    "import math\n",
    "import os\n",
    "import numpy as np\n",
    "import pandas as pd\n",
    "import h5py\n",
    "import matplotlib.pyplot as plt\n",
    "from matplotlib.colors import LogNorm\n",
    "\n",
    "import tensorflow as tf\n",
    "import tensorflow.keras as keras\n",
    "from tensorflow.keras.models import Model, Sequential, load_model\n",
    "from tensorflow.keras.layers import Dense, Dropout, Flatten , Convolution2D, MaxPooling2D , Lambda, Conv2D, Activation,Concatenate, Input, BatchNormalization\n",
    "from tensorflow.keras.optimizers import Adam , SGD , Adagrad\n",
    "from tensorflow.keras.callbacks import ModelCheckpoint, LearningRateScheduler, EarlyStopping, CSVLogger, ReduceLROnPlateau\n",
    "from tensorflow.keras.utils import to_categorical\n",
    "from tensorflow.keras import regularizers , initializers\n",
    "from sklearn.metrics import confusion_matrix\n",
    "import tensorflow.keras.backend as K\n",
    "from sklearn import metrics\n",
    "from sklearn.utils import shuffle\n",
    "from sklearn.model_selection import train_test_split"
   ]
  },
  {
   "cell_type": "code",
   "execution_count": 2,
   "id": "a6680670",
   "metadata": {},
   "outputs": [
    {
     "data": {
      "text/plain": [
       "<KeysViewHDF5 ['jjBG', 'sig', 'ttbarBG']>"
      ]
     },
     "execution_count": 2,
     "metadata": {},
     "output_type": "execute_result"
    }
   ],
   "source": [
    "##### load image data #####\n",
    "\n",
    "image_path = \"/root/data/data_image.h5\"\n",
    "image_file = h5py.File(image_path, 'r')\n",
    "image_file.keys()"
   ]
  },
  {
   "cell_type": "code",
   "execution_count": 3,
   "id": "247903db",
   "metadata": {},
   "outputs": [
    {
     "name": "stdout",
     "output_type": "stream",
     "text": [
      "signal length 470063\n",
      "jjBG length 270777\n",
      "ttbarBG length 548709\n",
      "total image shape (1289549, 3, 50, 50)\n",
      "Time: 46.37252497673035\n"
     ]
    }
   ],
   "source": [
    "sig_len = 470063\n",
    "jjBG_len = 270777\n",
    "ttbarBG_len = 548709\n",
    "\n",
    "print(\"signal length\", sig_len)\n",
    "print(\"jjBG length\", jjBG_len)\n",
    "print(\"ttbarBG length\", ttbarBG_len)\n",
    "\n",
    "total_image = np.concatenate((image_file['sig'][:], image_file['jjBG'][:], image_file['ttbarBG'][:]))\n",
    "print(\"total image shape\", np.shape(total_image))\n",
    "\n",
    "print(\"Time:\", time.time()-t1)"
   ]
  },
  {
   "cell_type": "code",
   "execution_count": 4,
   "id": "154c979e",
   "metadata": {},
   "outputs": [
    {
     "name": "stdout",
     "output_type": "stream",
     "text": [
      "[1. 1. 1. ... 0. 0. 0.]\n",
      "target shape (1289549,)\n"
     ]
    }
   ],
   "source": [
    "##### make target #####\n",
    "\n",
    "target = np.zeros(sig_len + jjBG_len + ttbarBG_len)\n",
    "target[0:sig_len] = 1    ### signal label as 1\n",
    "print(target)\n",
    "print(\"target shape\", np.shape(target))"
   ]
  },
  {
   "cell_type": "code",
   "execution_count": 5,
   "id": "43f518d8",
   "metadata": {},
   "outputs": [
    {
     "name": "stdout",
     "output_type": "stream",
     "text": [
      "training data shape: (1031639, 3, 50, 50) (1031639,)\n",
      "validation data shape: (257910, 3, 50, 50) (257910,)\n"
     ]
    }
   ],
   "source": [
    "##### split the data into training, validation and test data #####\n",
    "\n",
    "train_image, val_image, train_target, val_target = train_test_split(total_image, target, test_size=0.2)\n",
    "\n",
    "print(\"training data shape:\", np.shape(train_image), np.shape(train_target))\n",
    "print(\"validation data shape:\", np.shape(val_image), np.shape(val_target))"
   ]
  },
  {
   "cell_type": "code",
   "execution_count": 6,
   "id": "2e51c0af",
   "metadata": {},
   "outputs": [
    {
     "name": "stderr",
     "output_type": "stream",
     "text": [
      "2025-07-01 05:04:27.145622: I tensorflow/core/common_runtime/gpu/gpu_device.cc:1639] Created device /job:localhost/replica:0/task:0/device:GPU:0 with 46696 MB memory:  -> device: 0, name: NVIDIA RTX A6000, pci bus id: 0000:01:00.0, compute capability: 8.6\n",
      "2025-07-01 05:04:27.146494: I tensorflow/core/common_runtime/gpu/gpu_device.cc:1639] Created device /job:localhost/replica:0/task:0/device:GPU:1 with 46696 MB memory:  -> device: 1, name: NVIDIA RTX A6000, pci bus id: 0000:25:00.0, compute capability: 8.6\n"
     ]
    },
    {
     "name": "stdout",
     "output_type": "stream",
     "text": [
      "Model: \"sequential\"\n",
      "_________________________________________________________________\n",
      " Layer (type)                Output Shape              Param #   \n",
      "=================================================================\n",
      " conv2d (Conv2D)             (None, 32, 48, 48)        896       \n",
      "                                                                 \n",
      " conv2d_1 (Conv2D)           (None, 32, 46, 46)        9248      \n",
      "                                                                 \n",
      " max_pooling2d (MaxPooling2  (None, 32, 45, 45)        0         \n",
      " D)                                                              \n",
      "                                                                 \n",
      " batch_normalization (Batch  (None, 32, 45, 45)        180       \n",
      " Normalization)                                                  \n",
      "                                                                 \n",
      " max_pooling2d_1 (MaxPoolin  (None, 16, 22, 45)        0         \n",
      " g2D)                                                            \n",
      "                                                                 \n",
      " dropout (Dropout)           (None, 16, 22, 45)        0         \n",
      "                                                                 \n",
      " conv2d_2 (Conv2D)           (None, 64, 20, 43)        9280      \n",
      "                                                                 \n",
      " conv2d_3 (Conv2D)           (None, 64, 18, 41)        36928     \n",
      "                                                                 \n",
      " max_pooling2d_2 (MaxPoolin  (None, 64, 17, 40)        0         \n",
      " g2D)                                                            \n",
      "                                                                 \n",
      " batch_normalization_1 (Bat  (None, 64, 17, 40)        160       \n",
      " chNormalization)                                                \n",
      "                                                                 \n",
      " max_pooling2d_3 (MaxPoolin  (None, 32, 8, 40)         0         \n",
      " g2D)                                                            \n",
      "                                                                 \n",
      " dropout_1 (Dropout)         (None, 32, 8, 40)         0         \n",
      "                                                                 \n",
      " conv2d_4 (Conv2D)           (None, 64, 6, 38)         18496     \n",
      "                                                                 \n",
      " conv2d_5 (Conv2D)           (None, 64, 4, 36)         36928     \n",
      "                                                                 \n",
      " max_pooling2d_4 (MaxPoolin  (None, 64, 3, 35)         0         \n",
      " g2D)                                                            \n",
      "                                                                 \n",
      " batch_normalization_2 (Bat  (None, 64, 3, 35)         140       \n",
      " chNormalization)                                                \n",
      "                                                                 \n",
      " max_pooling2d_5 (MaxPoolin  (None, 32, 1, 35)         0         \n",
      " g2D)                                                            \n",
      "                                                                 \n",
      " dropout_2 (Dropout)         (None, 32, 1, 35)         0         \n",
      "                                                                 \n",
      " flatten (Flatten)           (None, 1120)              0         \n",
      "                                                                 \n",
      " dense (Dense)               (None, 256)               286976    \n",
      "                                                                 \n",
      " batch_normalization_3 (Bat  (None, 256)               1024      \n",
      " chNormalization)                                                \n",
      "                                                                 \n",
      " dropout_3 (Dropout)         (None, 256)               0         \n",
      "                                                                 \n",
      " dense_1 (Dense)             (None, 1)                 257       \n",
      "                                                                 \n",
      "=================================================================\n",
      "Total params: 400513 (1.53 MB)\n",
      "Trainable params: 399761 (1.52 MB)\n",
      "Non-trainable params: 752 (2.94 KB)\n",
      "_________________________________________________________________\n"
     ]
    }
   ],
   "source": [
    "##### build CNN model #####\n",
    "\n",
    "CNN_model = Sequential()\n",
    "CNN_model.add(Conv2D(32, kernel_size=(3,3), strides=(1,1), activation='relu',data_format='channels_first', kernel_initializer='he_normal', input_shape=(3,50,50)))\n",
    "CNN_model.add(Conv2D(32, kernel_size=(3,3), strides=(1,1), activation='relu',data_format='channels_first', kernel_initializer='he_normal'))\n",
    "CNN_model.add(MaxPooling2D(pool_size=(2,2), strides=(1,1), data_format='channels_first'))\n",
    "CNN_model.add(BatchNormalization())\n",
    "CNN_model.add(MaxPooling2D((2,2)))\n",
    "CNN_model.add(Dropout(0.25))\n",
    "\n",
    "CNN_model.add(Conv2D(64, kernel_size=(3,3), strides=(1,1), activation='relu',data_format='channels_first', kernel_initializer='he_normal'))\n",
    "CNN_model.add(Conv2D(64, kernel_size=(3,3), strides=(1,1), activation='relu',data_format='channels_first', kernel_initializer='he_normal'))\n",
    "CNN_model.add(MaxPooling2D(pool_size=(2,2), strides=(1,1), data_format='channels_first'))\n",
    "CNN_model.add(BatchNormalization())\n",
    "CNN_model.add(MaxPooling2D((2,2)))\n",
    "CNN_model.add(Dropout(0.25))\n",
    "\n",
    "CNN_model.add(Conv2D(64, kernel_size=(3,3), strides=(1,1), activation='relu',data_format='channels_first', kernel_initializer='he_normal'))\n",
    "CNN_model.add(Conv2D(64, kernel_size=(3,3), strides=(1,1), activation='relu',data_format='channels_first', kernel_initializer='he_normal'))\n",
    "CNN_model.add(MaxPooling2D(pool_size=(2,2), strides=(1,1), data_format='channels_first'))\n",
    "CNN_model.add(BatchNormalization())\n",
    "CNN_model.add(MaxPooling2D((2,2)))\n",
    "CNN_model.add(Dropout(0.25))\n",
    "\n",
    "CNN_model.add(Flatten())\n",
    "CNN_model.add(Dense(256, activation='relu', kernel_initializer='he_normal'))\n",
    "CNN_model.add(BatchNormalization())\n",
    "CNN_model.add(Dropout(0.4))\n",
    "CNN_model.add(Dense(1, activation='sigmoid'))\n",
    "\n",
    "opt = keras.optimizers.Adam(learning_rate=1e-4)\n",
    "CNN_model.compile(loss='binary_crossentropy', optimizer=opt, metrics=[\"accuracy\",\"mse\"])\n",
    "\n",
    "CNN_model.summary()"
   ]
  },
  {
   "cell_type": "code",
   "execution_count": 7,
   "id": "4b9bdb4d",
   "metadata": {},
   "outputs": [
    {
     "name": "stderr",
     "output_type": "stream",
     "text": [
      "2025-07-01 05:05:25.600889: W tensorflow/tsl/framework/cpu_allocator_impl.cc:83] Allocation of 30949170000 exceeds 10% of free system memory.\n",
      "2025-07-01 05:05:43.036201: W tensorflow/tsl/framework/cpu_allocator_impl.cc:83] Allocation of 30949170000 exceeds 10% of free system memory.\n"
     ]
    },
    {
     "name": "stdout",
     "output_type": "stream",
     "text": [
      "Epoch 1/50\n"
     ]
    },
    {
     "name": "stderr",
     "output_type": "stream",
     "text": [
      "2025-07-01 05:05:57.429175: E tensorflow/core/grappler/optimizers/meta_optimizer.cc:954] layout failed: INVALID_ARGUMENT: Size of values 0 does not match size of permutation 4 @ fanin shape insequential/dropout/dropout/SelectV2-2-TransposeNHWCToNCHW-LayoutOptimizer\n",
      "2025-07-01 05:05:59.474517: I tensorflow/compiler/xla/stream_executor/cuda/cuda_dnn.cc:432] Loaded cuDNN version 8600\n",
      "2025-07-01 05:06:00.758029: I tensorflow/compiler/xla/stream_executor/cuda/cuda_blas.cc:606] TensorFloat-32 will be used for the matrix multiplication. This will only be logged once.\n",
      "2025-07-01 05:06:00.766400: I tensorflow/compiler/xla/service/service.cc:168] XLA service 0x7f09e5c93340 initialized for platform CUDA (this does not guarantee that XLA will be used). Devices:\n",
      "2025-07-01 05:06:00.766437: I tensorflow/compiler/xla/service/service.cc:176]   StreamExecutor device (0): NVIDIA RTX A6000, Compute Capability 8.6\n",
      "2025-07-01 05:06:00.766450: I tensorflow/compiler/xla/service/service.cc:176]   StreamExecutor device (1): NVIDIA RTX A6000, Compute Capability 8.6\n",
      "2025-07-01 05:06:00.772040: I tensorflow/compiler/mlir/tensorflow/utils/dump_mlir_util.cc:255] disabling MLIR crash reproducer, set env var `MLIR_CRASH_REPRODUCER_DIRECTORY` to enable.\n",
      "2025-07-01 05:06:00.907319: I ./tensorflow/compiler/jit/device_compiler.h:186] Compiled cluster using XLA!  This line is logged at most once for the lifetime of the process.\n"
     ]
    },
    {
     "name": "stdout",
     "output_type": "stream",
     "text": [
      "504/504 [==============================] - 112s 199ms/step - loss: 0.6935 - accuracy: 0.6224 - mse: 0.2344 - val_loss: 0.5924 - val_accuracy: 0.6857 - val_mse: 0.2024\n",
      "Epoch 2/50\n",
      "504/504 [==============================] - 76s 150ms/step - loss: 0.6082 - accuracy: 0.6913 - mse: 0.2026 - val_loss: 0.5976 - val_accuracy: 0.6989 - val_mse: 0.2006\n",
      "Epoch 3/50\n",
      "504/504 [==============================] - 73s 144ms/step - loss: 0.5585 - accuracy: 0.7263 - mse: 0.1841 - val_loss: 0.5761 - val_accuracy: 0.7213 - val_mse: 0.1904\n",
      "Epoch 4/50\n",
      "504/504 [==============================] - 76s 151ms/step - loss: 0.5319 - accuracy: 0.7414 - mse: 0.1747 - val_loss: 0.5634 - val_accuracy: 0.7283 - val_mse: 0.1862\n",
      "Epoch 5/50\n",
      "504/504 [==============================] - 72s 143ms/step - loss: 0.5141 - accuracy: 0.7511 - mse: 0.1687 - val_loss: 0.5426 - val_accuracy: 0.7377 - val_mse: 0.1791\n",
      "Epoch 6/50\n",
      "504/504 [==============================] - 75s 148ms/step - loss: 0.5002 - accuracy: 0.7581 - mse: 0.1642 - val_loss: 0.5067 - val_accuracy: 0.7535 - val_mse: 0.1672\n",
      "Epoch 7/50\n",
      "504/504 [==============================] - 74s 146ms/step - loss: 0.4897 - accuracy: 0.7637 - mse: 0.1606 - val_loss: 0.4968 - val_accuracy: 0.7594 - val_mse: 0.1637\n",
      "Epoch 8/50\n",
      "504/504 [==============================] - 72s 142ms/step - loss: 0.4802 - accuracy: 0.7691 - mse: 0.1575 - val_loss: 0.4831 - val_accuracy: 0.7663 - val_mse: 0.1590\n",
      "Epoch 9/50\n",
      "504/504 [==============================] - 72s 143ms/step - loss: 0.4724 - accuracy: 0.7731 - mse: 0.1549 - val_loss: 0.4915 - val_accuracy: 0.7644 - val_mse: 0.1612\n",
      "Epoch 10/50\n",
      "504/504 [==============================] - 71s 142ms/step - loss: 0.4663 - accuracy: 0.7763 - mse: 0.1527 - val_loss: 0.4721 - val_accuracy: 0.7738 - val_mse: 0.1545\n",
      "Epoch 11/50\n",
      "504/504 [==============================] - 72s 142ms/step - loss: 0.4604 - accuracy: 0.7798 - mse: 0.1506 - val_loss: 0.4723 - val_accuracy: 0.7735 - val_mse: 0.1548\n",
      "Epoch 12/50\n",
      "504/504 [==============================] - 72s 142ms/step - loss: 0.4560 - accuracy: 0.7821 - mse: 0.1491 - val_loss: 0.4664 - val_accuracy: 0.7769 - val_mse: 0.1525\n",
      "Epoch 13/50\n",
      "504/504 [==============================] - 71s 142ms/step - loss: 0.4519 - accuracy: 0.7849 - mse: 0.1476 - val_loss: 0.4605 - val_accuracy: 0.7807 - val_mse: 0.1504\n",
      "Epoch 14/50\n",
      "504/504 [==============================] - 72s 143ms/step - loss: 0.4482 - accuracy: 0.7865 - mse: 0.1462 - val_loss: 0.4766 - val_accuracy: 0.7724 - val_mse: 0.1559\n",
      "Epoch 15/50\n",
      "504/504 [==============================] - 72s 142ms/step - loss: 0.4454 - accuracy: 0.7884 - mse: 0.1452 - val_loss: 0.4550 - val_accuracy: 0.7839 - val_mse: 0.1485\n",
      "Epoch 16/50\n",
      "504/504 [==============================] - 71s 142ms/step - loss: 0.4428 - accuracy: 0.7899 - mse: 0.1443 - val_loss: 0.4506 - val_accuracy: 0.7866 - val_mse: 0.1466\n",
      "Epoch 17/50\n",
      "504/504 [==============================] - 71s 142ms/step - loss: 0.4400 - accuracy: 0.7916 - mse: 0.1432 - val_loss: 0.4482 - val_accuracy: 0.7889 - val_mse: 0.1458\n",
      "Epoch 18/50\n",
      "504/504 [==============================] - 72s 142ms/step - loss: 0.4385 - accuracy: 0.7928 - mse: 0.1427 - val_loss: 0.4486 - val_accuracy: 0.7873 - val_mse: 0.1462\n",
      "Epoch 19/50\n",
      "504/504 [==============================] - 72s 143ms/step - loss: 0.4359 - accuracy: 0.7943 - mse: 0.1417 - val_loss: 0.4491 - val_accuracy: 0.7884 - val_mse: 0.1460\n",
      "Epoch 20/50\n",
      "504/504 [==============================] - 72s 143ms/step - loss: 0.4339 - accuracy: 0.7953 - mse: 0.1410 - val_loss: 0.4572 - val_accuracy: 0.7856 - val_mse: 0.1484\n",
      "Epoch 21/50\n",
      "504/504 [==============================] - 72s 143ms/step - loss: 0.4323 - accuracy: 0.7960 - mse: 0.1404 - val_loss: 0.4474 - val_accuracy: 0.7902 - val_mse: 0.1452\n",
      "Epoch 22/50\n",
      "504/504 [==============================] - 71s 141ms/step - loss: 0.4308 - accuracy: 0.7972 - mse: 0.1398 - val_loss: 0.4392 - val_accuracy: 0.7932 - val_mse: 0.1428\n",
      "Epoch 23/50\n",
      "504/504 [==============================] - 72s 143ms/step - loss: 0.4291 - accuracy: 0.7982 - mse: 0.1392 - val_loss: 0.4471 - val_accuracy: 0.7908 - val_mse: 0.1450\n",
      "Epoch 24/50\n",
      "504/504 [==============================] - 72s 143ms/step - loss: 0.4278 - accuracy: 0.7992 - mse: 0.1387 - val_loss: 0.4416 - val_accuracy: 0.7928 - val_mse: 0.1435\n",
      "Epoch 25/50\n",
      "504/504 [==============================] - 72s 142ms/step - loss: 0.4266 - accuracy: 0.8000 - mse: 0.1382 - val_loss: 0.4375 - val_accuracy: 0.7947 - val_mse: 0.1422\n",
      "Epoch 26/50\n",
      "504/504 [==============================] - 72s 142ms/step - loss: 0.4249 - accuracy: 0.8011 - mse: 0.1376 - val_loss: 0.4460 - val_accuracy: 0.7904 - val_mse: 0.1449\n",
      "Epoch 27/50\n",
      "504/504 [==============================] - 72s 142ms/step - loss: 0.4241 - accuracy: 0.8015 - mse: 0.1373 - val_loss: 0.4427 - val_accuracy: 0.7933 - val_mse: 0.1434\n",
      "Epoch 28/50\n",
      "504/504 [==============================] - 71s 140ms/step - loss: 0.4228 - accuracy: 0.8019 - mse: 0.1369 - val_loss: 0.4358 - val_accuracy: 0.7961 - val_mse: 0.1413\n",
      "Epoch 29/50\n",
      "504/504 [==============================] - 71s 140ms/step - loss: 0.4218 - accuracy: 0.8026 - mse: 0.1365 - val_loss: 0.4386 - val_accuracy: 0.7964 - val_mse: 0.1419\n",
      "Epoch 30/50\n",
      "504/504 [==============================] - 72s 142ms/step - loss: 0.4204 - accuracy: 0.8035 - mse: 0.1359 - val_loss: 0.4323 - val_accuracy: 0.7983 - val_mse: 0.1398\n",
      "Epoch 31/50\n",
      "504/504 [==============================] - 71s 142ms/step - loss: 0.4192 - accuracy: 0.8044 - mse: 0.1355 - val_loss: 0.4355 - val_accuracy: 0.7957 - val_mse: 0.1413\n",
      "Epoch 32/50\n",
      "504/504 [==============================] - 71s 141ms/step - loss: 0.4185 - accuracy: 0.8045 - mse: 0.1353 - val_loss: 0.4425 - val_accuracy: 0.7934 - val_mse: 0.1434\n",
      "Epoch 33/50\n",
      "504/504 [==============================] - 71s 142ms/step - loss: 0.4173 - accuracy: 0.8054 - mse: 0.1348 - val_loss: 0.4380 - val_accuracy: 0.7960 - val_mse: 0.1417\n",
      "Epoch 34/50\n",
      "504/504 [==============================] - 72s 143ms/step - loss: 0.4166 - accuracy: 0.8056 - mse: 0.1346 - val_loss: 0.4305 - val_accuracy: 0.7995 - val_mse: 0.1393\n",
      "Epoch 35/50\n",
      "504/504 [==============================] - 72s 143ms/step - loss: 0.4155 - accuracy: 0.8064 - mse: 0.1341 - val_loss: 0.4418 - val_accuracy: 0.7944 - val_mse: 0.1430\n",
      "Epoch 36/50\n",
      "504/504 [==============================] - 72s 142ms/step - loss: 0.4148 - accuracy: 0.8067 - mse: 0.1339 - val_loss: 0.4415 - val_accuracy: 0.7956 - val_mse: 0.1425\n",
      "Epoch 37/50\n",
      "504/504 [==============================] - 72s 143ms/step - loss: 0.4139 - accuracy: 0.8073 - mse: 0.1336 - val_loss: 0.4257 - val_accuracy: 0.8024 - val_mse: 0.1375\n",
      "Epoch 38/50\n",
      "504/504 [==============================] - 72s 144ms/step - loss: 0.4133 - accuracy: 0.8076 - mse: 0.1333 - val_loss: 0.4231 - val_accuracy: 0.8028 - val_mse: 0.1368\n",
      "Epoch 39/50\n",
      "504/504 [==============================] - 72s 142ms/step - loss: 0.4123 - accuracy: 0.8082 - mse: 0.1330 - val_loss: 0.4304 - val_accuracy: 0.8003 - val_mse: 0.1390\n",
      "Epoch 40/50\n",
      "504/504 [==============================] - 72s 142ms/step - loss: 0.4115 - accuracy: 0.8088 - mse: 0.1327 - val_loss: 0.4448 - val_accuracy: 0.7935 - val_mse: 0.1437\n",
      "Epoch 41/50\n",
      "504/504 [==============================] - 73s 145ms/step - loss: 0.4108 - accuracy: 0.8092 - mse: 0.1325 - val_loss: 0.4167 - val_accuracy: 0.8063 - val_mse: 0.1346\n",
      "Epoch 42/50\n",
      "504/504 [==============================] - 71s 142ms/step - loss: 0.4097 - accuracy: 0.8098 - mse: 0.1320 - val_loss: 0.4401 - val_accuracy: 0.7959 - val_mse: 0.1422\n",
      "Epoch 43/50\n",
      "504/504 [==============================] - 72s 144ms/step - loss: 0.4088 - accuracy: 0.8103 - mse: 0.1317 - val_loss: 0.4369 - val_accuracy: 0.7981 - val_mse: 0.1409\n",
      "Epoch 44/50\n",
      "504/504 [==============================] - 71s 142ms/step - loss: 0.4083 - accuracy: 0.8107 - mse: 0.1315 - val_loss: 0.4197 - val_accuracy: 0.8059 - val_mse: 0.1352\n",
      "Epoch 45/50\n",
      "504/504 [==============================] - 72s 142ms/step - loss: 0.4079 - accuracy: 0.8110 - mse: 0.1313 - val_loss: 0.4323 - val_accuracy: 0.8001 - val_mse: 0.1394\n",
      "Epoch 46/50\n",
      "504/504 [==============================] - 72s 142ms/step - loss: 0.4071 - accuracy: 0.8115 - mse: 0.1311 - val_loss: 0.4312 - val_accuracy: 0.8004 - val_mse: 0.1393\n",
      "Epoch 47/50\n",
      "504/504 [==============================] - 73s 144ms/step - loss: 0.4064 - accuracy: 0.8117 - mse: 0.1308 - val_loss: 0.4414 - val_accuracy: 0.7949 - val_mse: 0.1426\n",
      "Epoch 48/50\n",
      "504/504 [==============================] - 73s 145ms/step - loss: 0.4056 - accuracy: 0.8119 - mse: 0.1305 - val_loss: 0.4327 - val_accuracy: 0.7990 - val_mse: 0.1397\n",
      "Epoch 49/50\n",
      "504/504 [==============================] - 72s 142ms/step - loss: 0.4052 - accuracy: 0.8124 - mse: 0.1304 - val_loss: 0.4321 - val_accuracy: 0.7989 - val_mse: 0.1397\n",
      "Epoch 50/50\n",
      "504/504 [==============================] - 71s 142ms/step - loss: 0.4045 - accuracy: 0.8132 - mse: 0.1301 - val_loss: 0.4239 - val_accuracy: 0.8044 - val_mse: 0.1366\n"
     ]
    },
    {
     "name": "stderr",
     "output_type": "stream",
     "text": [
      "/root/miniconda3/envs/tf/lib/python3.10/site-packages/keras/src/engine/training.py:3000: UserWarning: You are saving your model as an HDF5 file via `model.save()`. This file format is considered legacy. We recommend using instead the native Keras format, e.g. `model.save('my_model.keras')`.\n",
      "  saving_api.save_model(\n"
     ]
    },
    {
     "data": {
      "text/plain": [
       "<matplotlib.legend.Legend at 0x7f3c74718040>"
      ]
     },
     "execution_count": 7,
     "metadata": {},
     "output_type": "execute_result"
    },
    {
     "data": {
      "image/png": "[encoded data removed]",
      "text/plain": [
       "<Figure size 1000x1000 with 1 Axes>"
      ]
     },
     "metadata": {},
     "output_type": "display_data"
    }
   ],
   "source": [
    "##### training model #####\n",
    "\n",
    "batch_size = 2048\n",
    "epochs = 50\n",
    "\n",
    "tr_CNN_model = CNN_model.fit(train_image, train_target, validation_data=(val_image, val_target), batch_size=batch_size, epochs=epochs, verbose=1)\n",
    "CNN_model.save(\"/root/data/model_CNN.h5\")\n",
    "\n",
    "### plot learning curve\n",
    "\n",
    "fig, ax = plt.subplots(1,1, figsize=(10,10))\n",
    "plt.plot(tr_CNN_model.history[\"loss\"], label='training data',c='blue',linewidth = 3)\n",
    "plt.plot(tr_CNN_model.history[\"val_loss\"], label='validation data',c='red',linewidth = 3)\n",
    "plt.title(\"CNN\", fontsize=25)\n",
    "ax.set_ylabel('loss', fontsize=25,horizontalalignment='right',y=1)\n",
    "ax.set_xlabel('epoch', fontsize=25,horizontalalignment='right',x=1)\n",
    "plt.legend(loc='best', prop={'size':20}, edgecolor = \"w\",fancybox=False, framealpha=0)"
   ]
  },
  {
   "cell_type": "code",
   "execution_count": 8,
   "id": "25a88a7f",
   "metadata": {},
   "outputs": [
    {
     "name": "stdout",
     "output_type": "stream",
     "text": [
      "Total time (s):  3801.8389592170715\n"
     ]
    }
   ],
   "source": [
    "image_file.close()\n",
    "t2 = time.time()\n",
    "print(\"Total time (s): \", t2-t1)"
   ]
  },
  {
   "cell_type": "code",
   "execution_count": null,
   "id": "cdb64062-4eab-4b48-a7c3-1b99029d9fdf",
   "metadata": {},
   "outputs": [],
   "source": []
  }
 ],
 "metadata": {
  "kernelspec": {
   "display_name": "Python 3 (ipykernel)",
   "language": "python",
   "name": "python3"
  },
  "language_info": {
   "codemirror_mode": {
    "name": "ipython",
    "version": 3
   },
   "file_extension": ".py",
   "mimetype": "text/x-python",
   "name": "python",
   "nbconvert_exporter": "python",
   "pygments_lexer": "ipython3",
   "version": "3.10.13"
  }
 },
 "nbformat": 4,
 "nbformat_minor": 5
}
