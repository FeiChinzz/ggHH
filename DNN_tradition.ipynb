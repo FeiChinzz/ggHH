{
 "cells": [
  {
   "cell_type": "code",
   "execution_count": 1,
   "id": "00f38e7d-36df-4630-aac8-0993c24557ce",
   "metadata": {},
   "outputs": [
    {
     "name": "stderr",
     "output_type": "stream",
     "text": [
      "2025-09-10 03:08:12.143078: I tensorflow/core/platform/cpu_feature_guard.cc:182] This TensorFlow binary is optimized to use available CPU instructions in performance-critical operations.\n",
      "To enable the following instructions: AVX2 FMA, in other operations, rebuild TensorFlow with the appropriate compiler flags.\n"
     ]
    }
   ],
   "source": [
    "import time\n",
    "t1 = time.time()\n",
    "\n",
    "import math\n",
    "import os\n",
    "import numpy as np\n",
    "import pandas as pd\n",
    "import h5py\n",
    "import matplotlib.pyplot as plt\n",
    "from matplotlib.colors import LogNorm\n",
    "\n",
    "import tensorflow as tf\n",
    "import tensorflow.keras as keras\n",
    "from tensorflow.keras.models import Model, Sequential, load_model\n",
    "from tensorflow.keras.layers import Dense, Dropout, Flatten , Convolution2D, MaxPooling2D , Lambda, Conv2D, Activation,Concatenate, Input, BatchNormalization\n",
    "from tensorflow.keras.optimizers import Adam , SGD , Adagrad\n",
    "from tensorflow.keras.callbacks import ModelCheckpoint, LearningRateScheduler, EarlyStopping, CSVLogger, ReduceLROnPlateau\n",
    "from tensorflow.keras.utils import to_categorical\n",
    "from tensorflow.keras import regularizers , initializers\n",
    "from sklearn.metrics import confusion_matrix\n",
    "import tensorflow.keras.backend as K\n",
    "from sklearn import metrics\n",
    "from sklearn.utils import shuffle\n",
    "from sklearn.model_selection import train_test_split"
   ]
  },
  {
   "cell_type": "code",
   "execution_count": 2,
   "id": "be5d79df-dc7c-496c-b50c-098c81ac7e15",
   "metadata": {},
   "outputs": [
    {
     "data": {
      "text/plain": [
       "<KeysViewHDF5 ['H_0', 'H_1', 'J1_tau21', 'J2_tau21', 'LB_1', 'SS_0', 'SS_1', 'X_HH', 'deta_JJ', 'iht', 'm_J1', 'm_J2', 'm_JJ', 'target2', 'target3']>"
      ]
     },
     "execution_count": 2,
     "metadata": {},
     "output_type": "execute_result"
    }
   ],
   "source": [
    "##### load image data #####\n",
    "\n",
    "data_path = \"/root/data/data_HLfeature.h5\"\n",
    "data_file = h5py.File(data_path, 'r')\n",
    "data_file.keys()"
   ]
  },
  {
   "cell_type": "code",
   "execution_count": 3,
   "id": "09e6de62-d225-4202-b441-723314e605d9",
   "metadata": {},
   "outputs": [
    {
     "name": "stdout",
     "output_type": "stream",
     "text": [
      "signal length: 470063\n",
      "ttbarBG length: 548709\n",
      "jjBG length: 270777\n",
      "Shape of data: (1031639, 8)\n",
      "Shape of target: (1031639,)\n"
     ]
    }
   ],
   "source": [
    "##### include data #####\n",
    "\n",
    "sig_len = 470063\n",
    "ttbarBG_len = 548709\n",
    "jjBG_len = 270777\n",
    "\n",
    "print(\"signal length:\", sig_len)\n",
    "print(\"ttbarBG length:\", ttbarBG_len)\n",
    "print(\"jjBG length:\", jjBG_len)\n",
    "\n",
    "features_tradition = ['X_HH', 'iht', 'm_JJ', 'm_J1', 'm_J2', 'deta_JJ', 'J1_tau21', 'J2_tau21']\n",
    "features_TDA = ['X_HH', 'iht', 'm_JJ', 'm_J1', 'm_J2', 'deta_JJ', 'J1_tau21', 'J2_tau21', 'H_0', 'H_1', 'SS_0', 'SS_1', 'LB_1']\n",
    "\n",
    "data = []\n",
    "for feature in features_tradition:\n",
    "    data.append(data_file[feature][:])\n",
    "data = np.array(data).T\n",
    "\n",
    "target = data_file[\"target2\"][:]\n",
    "\n",
    "train_data, val_data, train_target, val_target = train_test_split(data, target, test_size=0.2)\n",
    "\n",
    "print(\"Shape of data:\", np.shape(train_data))\n",
    "print(\"Shape of target:\", np.shape(train_target))"
   ]
  },
  {
   "cell_type": "code",
   "execution_count": 4,
   "id": "6e053772-f14c-433e-a89b-b4f9d6811d41",
   "metadata": {},
   "outputs": [
    {
     "name": "stdout",
     "output_type": "stream",
     "text": [
      "Model: \"sequential\"\n",
      "_________________________________________________________________\n",
      " Layer (type)                Output Shape              Param #   \n",
      "=================================================================\n",
      " dense (Dense)               (None, 128)               1152      \n",
      "                                                                 \n",
      " dense_1 (Dense)             (None, 64)                8256      \n",
      "                                                                 \n",
      " dense_2 (Dense)             (None, 32)                2080      \n",
      "                                                                 \n",
      " dense_3 (Dense)             (None, 16)                528       \n",
      "                                                                 \n",
      " dense_4 (Dense)             (None, 1)                 17        \n",
      "                                                                 \n",
      "=================================================================\n",
      "Total params: 12033 (47.00 KB)\n",
      "Trainable params: 12033 (47.00 KB)\n",
      "Non-trainable params: 0 (0.00 Byte)\n",
      "_________________________________________________________________\n",
      "None\n"
     ]
    },
    {
     "name": "stderr",
     "output_type": "stream",
     "text": [
      "2025-09-10 03:08:15.003947: I tensorflow/core/common_runtime/gpu/gpu_device.cc:1639] Created device /job:localhost/replica:0/task:0/device:GPU:0 with 46696 MB memory:  -> device: 0, name: NVIDIA RTX A6000, pci bus id: 0000:01:00.0, compute capability: 8.6\n",
      "2025-09-10 03:08:15.004656: I tensorflow/core/common_runtime/gpu/gpu_device.cc:1639] Created device /job:localhost/replica:0/task:0/device:GPU:1 with 46696 MB memory:  -> device: 1, name: NVIDIA RTX A6000, pci bus id: 0000:25:00.0, compute capability: 8.6\n"
     ]
    }
   ],
   "source": [
    "### build DNN model\n",
    "\n",
    "DNN_tradition = Sequential()\n",
    "DNN_tradition.add(keras.Input(shape=(8,)))\n",
    "DNN_tradition.add(Dense(128, activation='relu'))\n",
    "DNN_tradition.add(Dense(64, activation='relu'))\n",
    "DNN_tradition.add(Dense(32, activation='relu'))\n",
    "DNN_tradition.add(Dense(16, activation='relu'))\n",
    "DNN_tradition.add(Dense(1, activation='sigmoid'))\n",
    "\n",
    "### optimizer\n",
    "\n",
    "opt = keras.optimizers.Adam(learning_rate=4e-4)\n",
    "\n",
    "### compile\n",
    "\n",
    "DNN_tradition.compile(loss='binary_crossentropy', optimizer=opt, metrics=[\"accuracy\",\"mse\"])\n",
    "\n",
    "### model shape\n",
    "\n",
    "print(DNN_tradition.summary())"
   ]
  },
  {
   "cell_type": "code",
   "execution_count": 5,
   "id": "ad5e21a8-6276-4f35-ad72-a427a9fa73a3",
   "metadata": {},
   "outputs": [
    {
     "name": "stdout",
     "output_type": "stream",
     "text": [
      "Epoch 1/100\n"
     ]
    },
    {
     "name": "stderr",
     "output_type": "stream",
     "text": [
      "2025-09-10 03:08:17.079255: I tensorflow/compiler/xla/stream_executor/cuda/cuda_blas.cc:606] TensorFloat-32 will be used for the matrix multiplication. This will only be logged once.\n",
      "2025-09-10 03:08:17.083502: I tensorflow/compiler/xla/service/service.cc:168] XLA service 0x5650bc31f9a0 initialized for platform CUDA (this does not guarantee that XLA will be used). Devices:\n",
      "2025-09-10 03:08:17.083539: I tensorflow/compiler/xla/service/service.cc:176]   StreamExecutor device (0): NVIDIA RTX A6000, Compute Capability 8.6\n",
      "2025-09-10 03:08:17.083551: I tensorflow/compiler/xla/service/service.cc:176]   StreamExecutor device (1): NVIDIA RTX A6000, Compute Capability 8.6\n",
      "2025-09-10 03:08:17.092538: I tensorflow/compiler/mlir/tensorflow/utils/dump_mlir_util.cc:255] disabling MLIR crash reproducer, set env var `MLIR_CRASH_REPRODUCER_DIRECTORY` to enable.\n",
      "2025-09-10 03:08:17.222348: I tensorflow/compiler/xla/stream_executor/cuda/cuda_dnn.cc:432] Loaded cuDNN version 8600\n",
      "2025-09-10 03:08:17.345279: I ./tensorflow/compiler/jit/device_compiler.h:186] Compiled cluster using XLA!  This line is logged at most once for the lifetime of the process.\n"
     ]
    },
    {
     "name": "stdout",
     "output_type": "stream",
     "text": [
      "2015/2015 [==============================] - 12s 4ms/step - loss: 0.6631 - accuracy: 0.6763 - mse: 0.2097 - val_loss: 0.5885 - val_accuracy: 0.6839 - val_mse: 0.2017\n",
      "Epoch 2/100\n",
      "2015/2015 [==============================] - 9s 4ms/step - loss: 0.5874 - accuracy: 0.6894 - mse: 0.2010 - val_loss: 0.5781 - val_accuracy: 0.6957 - val_mse: 0.1973\n",
      "Epoch 3/100\n",
      "2015/2015 [==============================] - 9s 4ms/step - loss: 0.5802 - accuracy: 0.6955 - mse: 0.1981 - val_loss: 0.5711 - val_accuracy: 0.6988 - val_mse: 0.1944\n",
      "Epoch 4/100\n",
      "2015/2015 [==============================] - 9s 4ms/step - loss: 0.5664 - accuracy: 0.7076 - mse: 0.1921 - val_loss: 0.5642 - val_accuracy: 0.7107 - val_mse: 0.1909\n",
      "Epoch 5/100\n",
      "2015/2015 [==============================] - 9s 4ms/step - loss: 0.5522 - accuracy: 0.7194 - mse: 0.1860 - val_loss: 0.5528 - val_accuracy: 0.7203 - val_mse: 0.1860\n",
      "Epoch 6/100\n",
      "2015/2015 [==============================] - 9s 4ms/step - loss: 0.5375 - accuracy: 0.7308 - mse: 0.1799 - val_loss: 0.5251 - val_accuracy: 0.7409 - val_mse: 0.1747\n",
      "Epoch 7/100\n",
      "2015/2015 [==============================] - 9s 4ms/step - loss: 0.5281 - accuracy: 0.7378 - mse: 0.1760 - val_loss: 0.5371 - val_accuracy: 0.7298 - val_mse: 0.1800\n",
      "Epoch 8/100\n",
      "2015/2015 [==============================] - 9s 4ms/step - loss: 0.5222 - accuracy: 0.7421 - mse: 0.1736 - val_loss: 0.5253 - val_accuracy: 0.7375 - val_mse: 0.1746\n",
      "Epoch 9/100\n",
      "2015/2015 [==============================] - 9s 4ms/step - loss: 0.5180 - accuracy: 0.7447 - mse: 0.1720 - val_loss: 0.5146 - val_accuracy: 0.7473 - val_mse: 0.1707\n",
      "Epoch 10/100\n",
      "2015/2015 [==============================] - 9s 4ms/step - loss: 0.5145 - accuracy: 0.7473 - mse: 0.1707 - val_loss: 0.5104 - val_accuracy: 0.7512 - val_mse: 0.1689\n",
      "Epoch 11/100\n",
      "2015/2015 [==============================] - 9s 4ms/step - loss: 0.5118 - accuracy: 0.7493 - mse: 0.1696 - val_loss: 0.5067 - val_accuracy: 0.7545 - val_mse: 0.1674\n",
      "Epoch 12/100\n",
      "2015/2015 [==============================] - 8s 4ms/step - loss: 0.5097 - accuracy: 0.7503 - mse: 0.1688 - val_loss: 0.5112 - val_accuracy: 0.7496 - val_mse: 0.1694\n",
      "Epoch 13/100\n",
      "2015/2015 [==============================] - 9s 4ms/step - loss: 0.5077 - accuracy: 0.7520 - mse: 0.1680 - val_loss: 0.5051 - val_accuracy: 0.7546 - val_mse: 0.1669\n",
      "Epoch 14/100\n",
      "2015/2015 [==============================] - 9s 4ms/step - loss: 0.5056 - accuracy: 0.7530 - mse: 0.1672 - val_loss: 0.5157 - val_accuracy: 0.7477 - val_mse: 0.1712\n",
      "Epoch 15/100\n",
      "2015/2015 [==============================] - 8s 4ms/step - loss: 0.5045 - accuracy: 0.7542 - mse: 0.1668 - val_loss: 0.4991 - val_accuracy: 0.7594 - val_mse: 0.1645\n",
      "Epoch 16/100\n",
      "2015/2015 [==============================] - 9s 4ms/step - loss: 0.5033 - accuracy: 0.7551 - mse: 0.1663 - val_loss: 0.5037 - val_accuracy: 0.7548 - val_mse: 0.1662\n",
      "Epoch 17/100\n",
      "2015/2015 [==============================] - 9s 4ms/step - loss: 0.5026 - accuracy: 0.7554 - mse: 0.1660 - val_loss: 0.5009 - val_accuracy: 0.7580 - val_mse: 0.1653\n",
      "Epoch 18/100\n",
      "2015/2015 [==============================] - 9s 4ms/step - loss: 0.5008 - accuracy: 0.7567 - mse: 0.1654 - val_loss: 0.5019 - val_accuracy: 0.7563 - val_mse: 0.1657\n",
      "Epoch 19/100\n",
      "2015/2015 [==============================] - 9s 5ms/step - loss: 0.5004 - accuracy: 0.7566 - mse: 0.1652 - val_loss: 0.4962 - val_accuracy: 0.7616 - val_mse: 0.1634\n",
      "Epoch 20/100\n",
      "2015/2015 [==============================] - 9s 4ms/step - loss: 0.4992 - accuracy: 0.7572 - mse: 0.1648 - val_loss: 0.5009 - val_accuracy: 0.7582 - val_mse: 0.1651\n",
      "Epoch 21/100\n",
      "2015/2015 [==============================] - 9s 4ms/step - loss: 0.4986 - accuracy: 0.7581 - mse: 0.1645 - val_loss: 0.4990 - val_accuracy: 0.7595 - val_mse: 0.1645\n",
      "Epoch 22/100\n",
      "2015/2015 [==============================] - 9s 5ms/step - loss: 0.4988 - accuracy: 0.7578 - mse: 0.1646 - val_loss: 0.5055 - val_accuracy: 0.7543 - val_mse: 0.1671\n",
      "Epoch 23/100\n",
      "2015/2015 [==============================] - 9s 4ms/step - loss: 0.4978 - accuracy: 0.7587 - mse: 0.1642 - val_loss: 0.4985 - val_accuracy: 0.7574 - val_mse: 0.1642\n",
      "Epoch 24/100\n",
      "2015/2015 [==============================] - 9s 5ms/step - loss: 0.4972 - accuracy: 0.7590 - mse: 0.1639 - val_loss: 0.4957 - val_accuracy: 0.7615 - val_mse: 0.1632\n",
      "Epoch 25/100\n",
      "2015/2015 [==============================] - 9s 4ms/step - loss: 0.4968 - accuracy: 0.7594 - mse: 0.1638 - val_loss: 0.5007 - val_accuracy: 0.7577 - val_mse: 0.1653\n",
      "Epoch 26/100\n",
      "2015/2015 [==============================] - 9s 5ms/step - loss: 0.4963 - accuracy: 0.7596 - mse: 0.1637 - val_loss: 0.4955 - val_accuracy: 0.7621 - val_mse: 0.1631\n",
      "Epoch 27/100\n",
      "2015/2015 [==============================] - 9s 4ms/step - loss: 0.4959 - accuracy: 0.7600 - mse: 0.1635 - val_loss: 0.4945 - val_accuracy: 0.7628 - val_mse: 0.1626\n",
      "Epoch 28/100\n",
      "2015/2015 [==============================] - 9s 5ms/step - loss: 0.4954 - accuracy: 0.7603 - mse: 0.1633 - val_loss: 0.4977 - val_accuracy: 0.7584 - val_mse: 0.1642\n",
      "Epoch 29/100\n",
      "2015/2015 [==============================] - 9s 4ms/step - loss: 0.4945 - accuracy: 0.7608 - mse: 0.1629 - val_loss: 0.4985 - val_accuracy: 0.7602 - val_mse: 0.1643\n",
      "Epoch 30/100\n",
      "2015/2015 [==============================] - 9s 5ms/step - loss: 0.4941 - accuracy: 0.7609 - mse: 0.1628 - val_loss: 0.4930 - val_accuracy: 0.7636 - val_mse: 0.1622\n",
      "Epoch 31/100\n",
      "2015/2015 [==============================] - 9s 5ms/step - loss: 0.4937 - accuracy: 0.7615 - mse: 0.1626 - val_loss: 0.5049 - val_accuracy: 0.7542 - val_mse: 0.1671\n",
      "Epoch 32/100\n",
      "2015/2015 [==============================] - 9s 4ms/step - loss: 0.4935 - accuracy: 0.7616 - mse: 0.1626 - val_loss: 0.4976 - val_accuracy: 0.7603 - val_mse: 0.1641\n",
      "Epoch 33/100\n",
      "2015/2015 [==============================] - 9s 4ms/step - loss: 0.4928 - accuracy: 0.7620 - mse: 0.1623 - val_loss: 0.4916 - val_accuracy: 0.7641 - val_mse: 0.1617\n",
      "Epoch 34/100\n",
      "2015/2015 [==============================] - 9s 4ms/step - loss: 0.4927 - accuracy: 0.7621 - mse: 0.1623 - val_loss: 0.4929 - val_accuracy: 0.7629 - val_mse: 0.1621\n",
      "Epoch 35/100\n",
      "2015/2015 [==============================] - 9s 5ms/step - loss: 0.4925 - accuracy: 0.7622 - mse: 0.1622 - val_loss: 0.4926 - val_accuracy: 0.7626 - val_mse: 0.1621\n",
      "Epoch 36/100\n",
      "2015/2015 [==============================] - 9s 4ms/step - loss: 0.4919 - accuracy: 0.7626 - mse: 0.1620 - val_loss: 0.4910 - val_accuracy: 0.7648 - val_mse: 0.1613\n",
      "Epoch 37/100\n",
      "2015/2015 [==============================] - 9s 4ms/step - loss: 0.4915 - accuracy: 0.7628 - mse: 0.1618 - val_loss: 0.4929 - val_accuracy: 0.7617 - val_mse: 0.1623\n",
      "Epoch 38/100\n",
      "2015/2015 [==============================] - 9s 4ms/step - loss: 0.4912 - accuracy: 0.7626 - mse: 0.1617 - val_loss: 0.4910 - val_accuracy: 0.7638 - val_mse: 0.1615\n",
      "Epoch 39/100\n",
      "2015/2015 [==============================] - 9s 4ms/step - loss: 0.4908 - accuracy: 0.7633 - mse: 0.1616 - val_loss: 0.4909 - val_accuracy: 0.7638 - val_mse: 0.1613\n",
      "Epoch 40/100\n",
      "2015/2015 [==============================] - 9s 4ms/step - loss: 0.4908 - accuracy: 0.7632 - mse: 0.1616 - val_loss: 0.4889 - val_accuracy: 0.7652 - val_mse: 0.1607\n",
      "Epoch 41/100\n",
      "2015/2015 [==============================] - 9s 5ms/step - loss: 0.4904 - accuracy: 0.7633 - mse: 0.1615 - val_loss: 0.4923 - val_accuracy: 0.7611 - val_mse: 0.1623\n",
      "Epoch 42/100\n",
      "2015/2015 [==============================] - 9s 4ms/step - loss: 0.4898 - accuracy: 0.7638 - mse: 0.1612 - val_loss: 0.4903 - val_accuracy: 0.7650 - val_mse: 0.1612\n",
      "Epoch 43/100\n",
      "2015/2015 [==============================] - 9s 4ms/step - loss: 0.4895 - accuracy: 0.7640 - mse: 0.1611 - val_loss: 0.4914 - val_accuracy: 0.7638 - val_mse: 0.1617\n",
      "Epoch 44/100\n",
      "2015/2015 [==============================] - 9s 5ms/step - loss: 0.4895 - accuracy: 0.7637 - mse: 0.1611 - val_loss: 0.4905 - val_accuracy: 0.7641 - val_mse: 0.1614\n",
      "Epoch 45/100\n",
      "2015/2015 [==============================] - 9s 4ms/step - loss: 0.4890 - accuracy: 0.7643 - mse: 0.1609 - val_loss: 0.4904 - val_accuracy: 0.7650 - val_mse: 0.1613\n",
      "Epoch 46/100\n",
      "2015/2015 [==============================] - 9s 5ms/step - loss: 0.4887 - accuracy: 0.7643 - mse: 0.1608 - val_loss: 0.4908 - val_accuracy: 0.7638 - val_mse: 0.1615\n",
      "Epoch 47/100\n",
      "2015/2015 [==============================] - 9s 5ms/step - loss: 0.4888 - accuracy: 0.7646 - mse: 0.1608 - val_loss: 0.4867 - val_accuracy: 0.7673 - val_mse: 0.1598\n",
      "Epoch 48/100\n",
      "2015/2015 [==============================] - 9s 4ms/step - loss: 0.4883 - accuracy: 0.7649 - mse: 0.1606 - val_loss: 0.4859 - val_accuracy: 0.7670 - val_mse: 0.1596\n",
      "Epoch 49/100\n",
      "2015/2015 [==============================] - 9s 4ms/step - loss: 0.4882 - accuracy: 0.7646 - mse: 0.1606 - val_loss: 0.4870 - val_accuracy: 0.7668 - val_mse: 0.1601\n",
      "Epoch 50/100\n",
      "2015/2015 [==============================] - 9s 5ms/step - loss: 0.4877 - accuracy: 0.7652 - mse: 0.1604 - val_loss: 0.4885 - val_accuracy: 0.7660 - val_mse: 0.1606\n",
      "Epoch 51/100\n",
      "2015/2015 [==============================] - 9s 5ms/step - loss: 0.4875 - accuracy: 0.7651 - mse: 0.1604 - val_loss: 0.4876 - val_accuracy: 0.7665 - val_mse: 0.1602\n",
      "Epoch 52/100\n",
      "2015/2015 [==============================] - 9s 5ms/step - loss: 0.4876 - accuracy: 0.7648 - mse: 0.1604 - val_loss: 0.4866 - val_accuracy: 0.7664 - val_mse: 0.1598\n",
      "Epoch 53/100\n",
      "2015/2015 [==============================] - 9s 5ms/step - loss: 0.4871 - accuracy: 0.7656 - mse: 0.1602 - val_loss: 0.4856 - val_accuracy: 0.7673 - val_mse: 0.1595\n",
      "Epoch 54/100\n",
      "2015/2015 [==============================] - 9s 4ms/step - loss: 0.4869 - accuracy: 0.7655 - mse: 0.1602 - val_loss: 0.4873 - val_accuracy: 0.7652 - val_mse: 0.1603\n",
      "Epoch 55/100\n",
      "2015/2015 [==============================] - 9s 4ms/step - loss: 0.4870 - accuracy: 0.7652 - mse: 0.1602 - val_loss: 0.4869 - val_accuracy: 0.7658 - val_mse: 0.1601\n",
      "Epoch 56/100\n",
      "2015/2015 [==============================] - 9s 4ms/step - loss: 0.4866 - accuracy: 0.7657 - mse: 0.1601 - val_loss: 0.4911 - val_accuracy: 0.7636 - val_mse: 0.1615\n",
      "Epoch 57/100\n",
      "2015/2015 [==============================] - 9s 4ms/step - loss: 0.4862 - accuracy: 0.7660 - mse: 0.1599 - val_loss: 0.4881 - val_accuracy: 0.7659 - val_mse: 0.1605\n",
      "Epoch 58/100\n",
      "2015/2015 [==============================] - 9s 4ms/step - loss: 0.4858 - accuracy: 0.7664 - mse: 0.1597 - val_loss: 0.4867 - val_accuracy: 0.7666 - val_mse: 0.1600\n",
      "Epoch 59/100\n",
      "2015/2015 [==============================] - 9s 4ms/step - loss: 0.4859 - accuracy: 0.7661 - mse: 0.1598 - val_loss: 0.4871 - val_accuracy: 0.7661 - val_mse: 0.1601\n",
      "Epoch 60/100\n",
      "2015/2015 [==============================] - 9s 4ms/step - loss: 0.4857 - accuracy: 0.7663 - mse: 0.1597 - val_loss: 0.4857 - val_accuracy: 0.7680 - val_mse: 0.1595\n",
      "Epoch 61/100\n",
      "2015/2015 [==============================] - 9s 4ms/step - loss: 0.4852 - accuracy: 0.7665 - mse: 0.1595 - val_loss: 0.4887 - val_accuracy: 0.7650 - val_mse: 0.1606\n",
      "Epoch 62/100\n",
      "2015/2015 [==============================] - 9s 4ms/step - loss: 0.4850 - accuracy: 0.7665 - mse: 0.1595 - val_loss: 0.4822 - val_accuracy: 0.7692 - val_mse: 0.1583\n",
      "Epoch 63/100\n",
      "2015/2015 [==============================] - 9s 4ms/step - loss: 0.4846 - accuracy: 0.7669 - mse: 0.1593 - val_loss: 0.4832 - val_accuracy: 0.7690 - val_mse: 0.1586\n",
      "Epoch 64/100\n",
      "2015/2015 [==============================] - 9s 4ms/step - loss: 0.4846 - accuracy: 0.7665 - mse: 0.1593 - val_loss: 0.4861 - val_accuracy: 0.7662 - val_mse: 0.1598\n",
      "Epoch 65/100\n",
      "2015/2015 [==============================] - 9s 4ms/step - loss: 0.4841 - accuracy: 0.7672 - mse: 0.1591 - val_loss: 0.4870 - val_accuracy: 0.7664 - val_mse: 0.1601\n",
      "Epoch 66/100\n",
      "2015/2015 [==============================] - 9s 4ms/step - loss: 0.4839 - accuracy: 0.7674 - mse: 0.1591 - val_loss: 0.4859 - val_accuracy: 0.7673 - val_mse: 0.1596\n",
      "Epoch 67/100\n",
      "2015/2015 [==============================] - 9s 4ms/step - loss: 0.4837 - accuracy: 0.7673 - mse: 0.1590 - val_loss: 0.4837 - val_accuracy: 0.7684 - val_mse: 0.1588\n",
      "Epoch 68/100\n",
      "2015/2015 [==============================] - 9s 5ms/step - loss: 0.4832 - accuracy: 0.7678 - mse: 0.1588 - val_loss: 0.4851 - val_accuracy: 0.7669 - val_mse: 0.1594\n",
      "Epoch 69/100\n",
      "2015/2015 [==============================] - 9s 4ms/step - loss: 0.4832 - accuracy: 0.7680 - mse: 0.1588 - val_loss: 0.4836 - val_accuracy: 0.7689 - val_mse: 0.1588\n",
      "Epoch 70/100\n",
      "2015/2015 [==============================] - 9s 4ms/step - loss: 0.4825 - accuracy: 0.7684 - mse: 0.1585 - val_loss: 0.4823 - val_accuracy: 0.7691 - val_mse: 0.1583\n",
      "Epoch 71/100\n",
      "2015/2015 [==============================] - 9s 5ms/step - loss: 0.4820 - accuracy: 0.7686 - mse: 0.1583 - val_loss: 0.4812 - val_accuracy: 0.7699 - val_mse: 0.1579\n",
      "Epoch 72/100\n",
      "2015/2015 [==============================] - 9s 4ms/step - loss: 0.4823 - accuracy: 0.7683 - mse: 0.1585 - val_loss: 0.4950 - val_accuracy: 0.7606 - val_mse: 0.1633\n",
      "Epoch 73/100\n",
      "2015/2015 [==============================] - 9s 5ms/step - loss: 0.4819 - accuracy: 0.7684 - mse: 0.1583 - val_loss: 0.4826 - val_accuracy: 0.7684 - val_mse: 0.1585\n",
      "Epoch 74/100\n",
      "2015/2015 [==============================] - 9s 4ms/step - loss: 0.4814 - accuracy: 0.7691 - mse: 0.1581 - val_loss: 0.4796 - val_accuracy: 0.7714 - val_mse: 0.1572\n",
      "Epoch 75/100\n",
      "2015/2015 [==============================] - 9s 4ms/step - loss: 0.4811 - accuracy: 0.7691 - mse: 0.1580 - val_loss: 0.4814 - val_accuracy: 0.7698 - val_mse: 0.1579\n",
      "Epoch 76/100\n",
      "2015/2015 [==============================] - 9s 4ms/step - loss: 0.4807 - accuracy: 0.7697 - mse: 0.1578 - val_loss: 0.4820 - val_accuracy: 0.7697 - val_mse: 0.1581\n",
      "Epoch 77/100\n",
      "2015/2015 [==============================] - 9s 5ms/step - loss: 0.4807 - accuracy: 0.7694 - mse: 0.1578 - val_loss: 0.4817 - val_accuracy: 0.7699 - val_mse: 0.1581\n",
      "Epoch 78/100\n",
      "2015/2015 [==============================] - 9s 4ms/step - loss: 0.4804 - accuracy: 0.7697 - mse: 0.1577 - val_loss: 0.4809 - val_accuracy: 0.7703 - val_mse: 0.1578\n",
      "Epoch 79/100\n",
      "2015/2015 [==============================] - 9s 4ms/step - loss: 0.4802 - accuracy: 0.7697 - mse: 0.1577 - val_loss: 0.4865 - val_accuracy: 0.7666 - val_mse: 0.1598\n",
      "Epoch 80/100\n",
      "2015/2015 [==============================] - 9s 4ms/step - loss: 0.4799 - accuracy: 0.7698 - mse: 0.1575 - val_loss: 0.4800 - val_accuracy: 0.7706 - val_mse: 0.1575\n",
      "Epoch 81/100\n",
      "2015/2015 [==============================] - 9s 4ms/step - loss: 0.4795 - accuracy: 0.7702 - mse: 0.1574 - val_loss: 0.4782 - val_accuracy: 0.7719 - val_mse: 0.1567\n",
      "Epoch 82/100\n",
      "2015/2015 [==============================] - 9s 5ms/step - loss: 0.4799 - accuracy: 0.7700 - mse: 0.1575 - val_loss: 0.4794 - val_accuracy: 0.7714 - val_mse: 0.1572\n",
      "Epoch 83/100\n",
      "2015/2015 [==============================] - 9s 4ms/step - loss: 0.4795 - accuracy: 0.7704 - mse: 0.1573 - val_loss: 0.4792 - val_accuracy: 0.7710 - val_mse: 0.1572\n",
      "Epoch 84/100\n",
      "2015/2015 [==============================] - 9s 5ms/step - loss: 0.4792 - accuracy: 0.7707 - mse: 0.1573 - val_loss: 0.4798 - val_accuracy: 0.7714 - val_mse: 0.1573\n",
      "Epoch 85/100\n",
      "2015/2015 [==============================] - 9s 5ms/step - loss: 0.4788 - accuracy: 0.7702 - mse: 0.1571 - val_loss: 0.4779 - val_accuracy: 0.7720 - val_mse: 0.1566\n",
      "Epoch 86/100\n",
      "2015/2015 [==============================] - 9s 5ms/step - loss: 0.4785 - accuracy: 0.7708 - mse: 0.1570 - val_loss: 0.4796 - val_accuracy: 0.7717 - val_mse: 0.1571\n",
      "Epoch 87/100\n",
      "2015/2015 [==============================] - 9s 4ms/step - loss: 0.4788 - accuracy: 0.7708 - mse: 0.1571 - val_loss: 0.4824 - val_accuracy: 0.7703 - val_mse: 0.1582\n",
      "Epoch 88/100\n",
      "2015/2015 [==============================] - 9s 5ms/step - loss: 0.4782 - accuracy: 0.7710 - mse: 0.1569 - val_loss: 0.4796 - val_accuracy: 0.7711 - val_mse: 0.1572\n",
      "Epoch 89/100\n",
      "2015/2015 [==============================] - 9s 5ms/step - loss: 0.4783 - accuracy: 0.7712 - mse: 0.1569 - val_loss: 0.4797 - val_accuracy: 0.7708 - val_mse: 0.1573\n",
      "Epoch 90/100\n",
      "2015/2015 [==============================] - 9s 5ms/step - loss: 0.4779 - accuracy: 0.7715 - mse: 0.1568 - val_loss: 0.4781 - val_accuracy: 0.7722 - val_mse: 0.1566\n",
      "Epoch 91/100\n",
      "2015/2015 [==============================] - 9s 5ms/step - loss: 0.4780 - accuracy: 0.7714 - mse: 0.1568 - val_loss: 0.4783 - val_accuracy: 0.7719 - val_mse: 0.1567\n",
      "Epoch 92/100\n",
      "2015/2015 [==============================] - 9s 4ms/step - loss: 0.4778 - accuracy: 0.7714 - mse: 0.1567 - val_loss: 0.4827 - val_accuracy: 0.7693 - val_mse: 0.1584\n",
      "Epoch 93/100\n",
      "2015/2015 [==============================] - 9s 5ms/step - loss: 0.4778 - accuracy: 0.7714 - mse: 0.1567 - val_loss: 0.4788 - val_accuracy: 0.7718 - val_mse: 0.1570\n",
      "Epoch 94/100\n",
      "2015/2015 [==============================] - 9s 4ms/step - loss: 0.4775 - accuracy: 0.7716 - mse: 0.1566 - val_loss: 0.4767 - val_accuracy: 0.7735 - val_mse: 0.1561\n",
      "Epoch 95/100\n",
      "2015/2015 [==============================] - 9s 5ms/step - loss: 0.4774 - accuracy: 0.7716 - mse: 0.1566 - val_loss: 0.4773 - val_accuracy: 0.7725 - val_mse: 0.1564\n",
      "Epoch 96/100\n",
      "2015/2015 [==============================] - 9s 4ms/step - loss: 0.4774 - accuracy: 0.7714 - mse: 0.1566 - val_loss: 0.4792 - val_accuracy: 0.7717 - val_mse: 0.1570\n",
      "Epoch 97/100\n",
      "2015/2015 [==============================] - 9s 5ms/step - loss: 0.4770 - accuracy: 0.7720 - mse: 0.1564 - val_loss: 0.4896 - val_accuracy: 0.7638 - val_mse: 0.1613\n",
      "Epoch 98/100\n",
      "2015/2015 [==============================] - 9s 4ms/step - loss: 0.4770 - accuracy: 0.7720 - mse: 0.1564 - val_loss: 0.4798 - val_accuracy: 0.7722 - val_mse: 0.1572\n",
      "Epoch 99/100\n",
      "2015/2015 [==============================] - 9s 4ms/step - loss: 0.4769 - accuracy: 0.7717 - mse: 0.1564 - val_loss: 0.4774 - val_accuracy: 0.7715 - val_mse: 0.1565\n",
      "Epoch 100/100\n",
      "2015/2015 [==============================] - 9s 4ms/step - loss: 0.4764 - accuracy: 0.7724 - mse: 0.1561 - val_loss: 0.4769 - val_accuracy: 0.7729 - val_mse: 0.1562\n"
     ]
    },
    {
     "name": "stderr",
     "output_type": "stream",
     "text": [
      "/root/miniconda3/envs/tf/lib/python3.10/site-packages/keras/src/engine/training.py:3000: UserWarning: You are saving your model as an HDF5 file via `model.save()`. This file format is considered legacy. We recommend using instead the native Keras format, e.g. `model.save('my_model.keras')`.\n",
      "  saving_api.save_model(\n"
     ]
    }
   ],
   "source": [
    "### train and save the model\n",
    "\n",
    "tr_DNN = DNN_tradition.fit(train_data, train_target, validation_data=(val_data, val_target), batch_size=512, epochs=100, verbose=1)\n",
    "DNN_tradition.save(\"/root/data/DNN_model_tradition.h5\")\n"
   ]
  },
  {
   "cell_type": "code",
   "execution_count": 9,
   "id": "5b0ce8fd-0934-4278-8de4-6024cff04fee",
   "metadata": {},
   "outputs": [
    {
     "data": {
      "image/png": "[encoded data removed]",
      "text/plain": [
       "<Figure size 800x800 with 1 Axes>"
      ]
     },
     "metadata": {},
     "output_type": "display_data"
    }
   ],
   "source": [
    "### plot learning curve\n",
    "\n",
    "fig, ax = plt.subplots(1,1, figsize=(8,8))\n",
    "plt.plot(tr_DNN.history[\"loss\"], label='training data',c='blue',linewidth = 3)\n",
    "plt.plot(tr_DNN.history[\"val_loss\"], label='validation data',c='red',linewidth = 3)\n",
    "plt.title(\"DNN\", fontsize=25)\n",
    "ax.set_ylabel('loss', fontsize=25,horizontalalignment='right',y=1)\n",
    "ax.set_xlabel('epoch', fontsize=25,horizontalalignment='right',x=1)\n",
    "# plt.yscale(\"log\")\n",
    "plt.legend(loc='best', prop={'size':20}, edgecolor = \"w\",fancybox=False, framealpha=0)\n",
    "plt.show()"
   ]
  },
  {
   "cell_type": "code",
   "execution_count": 7,
   "id": "9c6a61f8-952f-4d78-a571-63c2a01e36ea",
   "metadata": {},
   "outputs": [
    {
     "name": "stdout",
     "output_type": "stream",
     "text": [
      "Time: 902.7334563732147\n"
     ]
    }
   ],
   "source": [
    "print(\"Time:\", time.time()-t1)"
   ]
  }
 ],
 "metadata": {
  "kernelspec": {
   "display_name": "Python 3 (ipykernel)",
   "language": "python",
   "name": "python3"
  },
  "language_info": {
   "codemirror_mode": {
    "name": "ipython",
    "version": 3
   },
   "file_extension": ".py",
   "mimetype": "text/x-python",
   "name": "python",
   "nbconvert_exporter": "python",
   "pygments_lexer": "ipython3",
   "version": "3.10.13"
  }
 },
 "nbformat": 4,
 "nbformat_minor": 5
}
