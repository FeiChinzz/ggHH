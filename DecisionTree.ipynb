{
 "cells": [
  {
   "cell_type": "code",
   "execution_count": 1,
   "metadata": {},
   "outputs": [],
   "source": [
    "import time\n",
    "t1 = time.time()\n",
    "\n",
    "import numpy as np\n",
    "import pandas as pd\n",
    "from sklearn import tree\n",
    "from sklearn.metrics import confusion_matrix\n",
    "import h5py\n",
    "import matplotlib.pyplot as plt"
   ]
  },
  {
   "cell_type": "code",
   "execution_count": 2,
   "metadata": {},
   "outputs": [
    {
     "data": {
      "text/plain": [
       "<KeysViewHDF5 ['H_0', 'H_1', 'J1_tau21', 'J2_tau21', 'LB_1', 'SS_0', 'SS_1', 'X_HH', 'deta_JJ', 'iht', 'm_J1', 'm_J2', 'm_JJ', 'target2', 'target3']>"
      ]
     },
     "execution_count": 2,
     "metadata": {},
     "output_type": "execute_result"
    }
   ],
   "source": [
    "##### load data #####\n",
    "\n",
    "data_path = '/data/Chen-Wang/data_HLfeature.h5'\n",
    "data_file = h5py.File(data_path, 'r')\n",
    "data_file.keys()\n",
    "\n",
    "test_path = '/data/Chen-Wang/test_data_HLfeature.h5'\n",
    "test_file = h5py.File(test_path, 'r')\n",
    "data_file.keys()"
   ]
  },
  {
   "cell_type": "code",
   "execution_count": 3,
   "metadata": {},
   "outputs": [
    {
     "name": "stdout",
     "output_type": "stream",
     "text": [
      "shape of training data: (1289549, 8)\n",
      "shape of training target: (1289549,)\n",
      "shape of testing data: (153977, 8)\n",
      "shape of testing target: (153977,)\n"
     ]
    }
   ],
   "source": [
    "##### scratch data #####\n",
    "\n",
    "features_tradition = ['X_HH', 'iht', 'm_JJ', 'm_J1', 'm_J2', 'deta_JJ', 'J1_tau21', 'J2_tau21']\n",
    "features_TDA = ['X_HH', 'iht', 'm_JJ', 'm_J1', 'm_J2', 'deta_JJ', 'J1_tau21', 'J2_tau21', 'H_0', 'H_1', 'SS_0', 'SS_1', 'LB_1']\n",
    "\n",
    "target_2 = ['signal', 'background']\n",
    "target_3 = ['signal', 'ttbarBG', 'jjBG']\n",
    "                \n",
    "train_data = []\n",
    "for feature in features_tradition:\n",
    "    train_data.append(data_file[feature][:])\n",
    "train_data = np.array(train_data).T\n",
    "train_target = data_file['target2'][:]\n",
    "\n",
    "test_data = []\n",
    "for feature in features_tradition:\n",
    "    test_data.append(test_file[feature][:])\n",
    "test_data = np.array(test_data).T\n",
    "test_target = test_file['target2'][:]\n",
    "\n",
    "print(\"shape of training data:\", np.shape(train_data))\n",
    "print(\"shape of training target:\", np.shape(train_target))\n",
    "\n",
    "print(\"shape of testing data:\", np.shape(test_data))\n",
    "print(\"shape of testing target:\", np.shape(test_target))"
   ]
  },
  {
   "cell_type": "code",
   "execution_count": 4,
   "metadata": {},
   "outputs": [
    {
     "name": "stdout",
     "output_type": "stream",
     "text": [
      "Training score:  0.7763784082652152\n"
     ]
    }
   ],
   "source": [
    "##### fit decision tree #####\n",
    "\n",
    "model_tree = tree.DecisionTreeClassifier(max_depth=12)\n",
    "model_tree.fit(train_data, train_target)\n",
    "\n",
    "# fig, axes = plt.subplots(nrows = 1,ncols = 1,figsize = (8,8), dpi=1000)\n",
    "# tree.plot_tree(model_tree, feature_names=features_tradition, class_names=target_2, filled=True)\n",
    "\n",
    "print(\"Training score: \", model_tree.score(train_data, train_target))"
   ]
  },
  {
   "cell_type": "code",
   "execution_count": 5,
   "metadata": {},
   "outputs": [
    {
     "name": "stdout",
     "output_type": "stream",
     "text": [
      "The confusion matrix is:\n",
      "[[301447 168616]\n",
      " [119755 699731]]\n"
     ]
    }
   ],
   "source": [
    "##### plot the training confusion matrix #####\n",
    "\n",
    "target_pred = model_tree.predict(train_data)\n",
    "print(\"The confusion matrix is:\")\n",
    "print(confusion_matrix(train_target, target_pred))"
   ]
  },
  {
   "cell_type": "code",
   "execution_count": 6,
   "metadata": {},
   "outputs": [
    {
     "name": "stdout",
     "output_type": "stream",
     "text": [
      "Testing score:  0.7028192522259818\n",
      "The confusion matrix is:\n",
      "[[66931 35948]\n",
      " [ 9811 41287]]\n"
     ]
    }
   ],
   "source": [
    "##### plot the testing confusion matrix #####\n",
    "\n",
    "print(\"Testing score: \", model_tree.score(test_data, test_target))\n",
    "\n",
    "predtion = model_tree.predict(test_data)\n",
    "print(\"The confusion matrix is:\")\n",
    "print(confusion_matrix(test_target, predtion))"
   ]
  },
  {
   "cell_type": "code",
   "execution_count": 7,
   "metadata": {},
   "outputs": [
    {
     "data": {
      "image/png": "[encoded data removed]",
      "text/plain": [
       "<Figure size 800x600 with 1 Axes>"
      ]
     },
     "metadata": {},
     "output_type": "display_data"
    }
   ],
   "source": [
    "##### make prediction probability #####\n",
    "\n",
    "prediction_probability = model_tree.predict_proba(test_data)\n",
    "\n",
    "##### without tda prediction #####\n",
    "\n",
    "sig_predict = prediction_probability[0:102879, 0]\n",
    "ttbarBG_predict = prediction_probability[102879:102879+50065, 0]\n",
    "jjBG_predict = prediction_probability[102879+50065:, 0]\n",
    "\n",
    "plt.figure(1, figsize=(8,6))\n",
    "bins = np.arange(0,1,0.05)\n",
    "plt.hist(sig_predict, histtype='step', bins=bins, label='signal', density=True)\n",
    "plt.hist(ttbarBG_predict, histtype='step', bins=bins, label='ttbarBG', density=True)\n",
    "plt.hist(jjBG_predict, histtype='step', bins=bins, label='jjBG', density=True)\n",
    "plt.xlabel(r\"prediction score\", fontsize=18)\n",
    "plt.ylabel(r\"normalized $\\frac{dN}{dx}$\", fontsize=18)\n",
    "plt.legend(loc='best', fontsize=12)\n",
    "plt.show()"
   ]
  },
  {
   "cell_type": "code",
   "execution_count": 8,
   "metadata": {},
   "outputs": [
    {
     "name": "stdout",
     "output_type": "stream",
     "text": [
      "shape of training data: (1289549, 13)\n",
      "shape of training target: (1289549,)\n",
      "shape of testing data: (153977, 13)\n",
      "shape of testing target: (153977,)\n"
     ]
    }
   ],
   "source": [
    "##### scatch data with TDA #####\n",
    "\n",
    "tda_train_data = []\n",
    "for feature in features_TDA:\n",
    "    tda_train_data.append(data_file[feature][:])\n",
    "tda_train_data = np.array(tda_train_data).T\n",
    "train_target = data_file['target2'][:]\n",
    "\n",
    "tda_test_data = []\n",
    "for feature in features_TDA:\n",
    "    tda_test_data.append(test_file[feature][:])\n",
    "tda_test_data = np.array(tda_test_data).T\n",
    "test_target = test_file['target2'][:]\n",
    "\n",
    "print(\"shape of training data:\", np.shape(tda_train_data))\n",
    "print(\"shape of training target:\", np.shape(train_target))\n",
    "\n",
    "print(\"shape of testing data:\", np.shape(tda_test_data))\n",
    "print(\"shape of testing target:\", np.shape(test_target))"
   ]
  },
  {
   "cell_type": "code",
   "execution_count": 9,
   "metadata": {},
   "outputs": [
    {
     "name": "stdout",
     "output_type": "stream",
     "text": [
      "Training score:  0.7802906287391949\n"
     ]
    }
   ],
   "source": [
    "##### fit decision tree #####\n",
    "\n",
    "tda_model_tree = tree.DecisionTreeClassifier(max_depth=12)\n",
    "tda_model_tree.fit(tda_train_data, train_target)\n",
    "\n",
    "# fig, axes = plt.subplots(nrows = 1,ncols = 1,figsize = (8,8), dpi=1000)\n",
    "# tree.plot_tree(model_tree, feature_names=features_tradition, class_names=target_2, filled=True)\n",
    "\n",
    "print(\"Training score: \", tda_model_tree.score(tda_train_data, train_target))"
   ]
  },
  {
   "cell_type": "code",
   "execution_count": 10,
   "metadata": {},
   "outputs": [
    {
     "name": "stdout",
     "output_type": "stream",
     "text": [
      "The confusion matrix is:\n",
      "[[300259 169804]\n",
      " [113522 705964]]\n"
     ]
    }
   ],
   "source": [
    "##### plot the training confusion matrix #####\n",
    "\n",
    "tda_target_pred = tda_model_tree.predict(tda_train_data)\n",
    "print(\"The confusion matrix is:\")\n",
    "print(confusion_matrix(train_target, tda_target_pred))"
   ]
  },
  {
   "cell_type": "code",
   "execution_count": 11,
   "metadata": {},
   "outputs": [
    {
     "name": "stdout",
     "output_type": "stream",
     "text": [
      "Testing score:  0.7000331218298836\n",
      "The confusion matrix is:\n",
      "[[66232 36647]\n",
      " [ 9541 41557]]\n"
     ]
    }
   ],
   "source": [
    "##### plot the testing confusion matrix #####\n",
    "\n",
    "print(\"Testing score: \", tda_model_tree.score(tda_test_data, test_target))\n",
    "\n",
    "predtion = tda_model_tree.predict(tda_test_data)\n",
    "print(\"The confusion matrix is:\")\n",
    "print(confusion_matrix(test_target, predtion))"
   ]
  },
  {
   "cell_type": "code",
   "execution_count": 12,
   "metadata": {},
   "outputs": [
    {
     "data": {
      "image/png": "[encoded data removed]",
      "text/plain": [
       "<Figure size 800x600 with 1 Axes>"
      ]
     },
     "metadata": {},
     "output_type": "display_data"
    }
   ],
   "source": [
    "##### make prediction probability #####\n",
    "\n",
    "tda_prediction_probability = tda_model_tree.predict_proba(tda_test_data)\n",
    "\n",
    "##### with tda prediction #####\n",
    "\n",
    "sig_predict_tda = tda_prediction_probability[0:102879, 0]\n",
    "ttbarBG_predict_tda = tda_prediction_probability[102879:102879+50065, 0]\n",
    "jjBG_predict_tda = tda_prediction_probability[102879+50065:, 0]\n",
    "\n",
    "plt.figure(1, figsize=(8,6))\n",
    "bins = np.arange(0,1,0.05)\n",
    "plt.hist(sig_predict_tda, histtype='step', bins=bins, label='signal', density=True)\n",
    "plt.hist(ttbarBG_predict_tda, histtype='step', bins=bins, label='ttbarBG', density=True)\n",
    "plt.hist(jjBG_predict_tda, histtype='step', bins=bins, label='jjBG', density=True)\n",
    "plt.xlabel(r\"prediction score\", fontsize=18)\n",
    "plt.ylabel(r\"normalized $\\frac{dN}{dx}$\", fontsize=18)\n",
    "plt.legend(loc='best', fontsize=12)\n",
    "plt.show()"
   ]
  },
  {
   "cell_type": "code",
   "execution_count": 16,
   "metadata": {},
   "outputs": [
    {
     "name": "stdout",
     "output_type": "stream",
     "text": [
      "Before selection, the cross section of signal: 1.1086583 (fb)\n",
      "Before selection, the cross section of ttbarBG: 34166.61 (fb)\n",
      "Before selection, the cross section of jjBG: 60561410.45 (fb)\n",
      "\n",
      "########## Without TDA ##########\n",
      "14361 signal event pass decision tree score 0.85 , selection rate: 0.13959117020966377\n",
      "764 ttbarBG event pass decision tree score 0.85 , selection rate: 0.015260161789673425\n",
      "14 jjBG event pass decision tree score 0.85 , selection rate: 0.013552758954501452\n",
      "significance: 0.06595994835198596 \n",
      "\n",
      "\n",
      "########## With TDA ##########\n",
      "16386 signal event pass decision tree score 0.85 , selection rate: 0.15927448750473858\n",
      "808 ttbarBG event pass decision tree score 0.85 , selection rate: 0.016139019274942573\n",
      "4 jjBG event pass decision tree score 0.85 , selection rate: 0.003872216844143272\n",
      "significance: 0.1354404504752082 \n",
      "\n"
     ]
    }
   ],
   "source": [
    "##### calculate significance in Luminosity = 3000(fb^-1) #####\n",
    "\n",
    "score_cut = 0.85\n",
    "Luminosity = 3000    ### unit:fb^-1\n",
    "\n",
    "N_sim_sig = 200000\n",
    "N_sim_ttbarBG = 200000\n",
    "N_sim_jjBG = 200000\n",
    "\n",
    "Xsection_sig = 1.1086583\n",
    "print(\"Before selection, the cross section of signal:\", Xsection_sig, \"(fb)\")\n",
    "Xsection_ttbarBG = 34166.61\n",
    "print(\"Before selection, the cross section of ttbarBG:\", Xsection_ttbarBG, \"(fb)\")\n",
    "Xsection_jjBG = 60561410.45\n",
    "print(\"Before selection, the cross section of jjBG:\", Xsection_jjBG, \"(fb)\")\n",
    "\n",
    "##### without tda #####\n",
    "\n",
    "print(\"\\n########## Without TDA ##########\")\n",
    "\n",
    "N_select_sig = len(sig_predict[np.where(sig_predict>score_cut)])\n",
    "print(N_select_sig, \"signal event pass decision tree score\", score_cut, \", selection rate:\", N_select_sig/len(sig_predict))\n",
    "N_select_ttbarBG = len(ttbarBG_predict[np.where(ttbarBG_predict>score_cut)])\n",
    "print(N_select_ttbarBG, \"ttbarBG event pass decision tree score\", score_cut, \", selection rate:\", N_select_ttbarBG/len(ttbarBG_predict))\n",
    "N_select_jjBG = len(jjBG_predict[np.where(jjBG_predict>score_cut)])\n",
    "print(N_select_jjBG, \"jjBG event pass decision tree score\", score_cut, \", selection rate:\", N_select_jjBG/len(jjBG_predict))\n",
    "\n",
    "s = Xsection_sig * (N_select_sig/N_sim_sig) * Luminosity\n",
    "b = Xsection_ttbarBG * (N_select_ttbarBG/N_sim_ttbarBG) * Luminosity + Xsection_jjBG * (N_select_jjBG/N_sim_jjBG) * Luminosity\n",
    "significance = np.sqrt(2*((s+b)*np.log(1+s/b)-s))\n",
    "print(\"significance:\", significance, \"\\n\")\n",
    "\n",
    "##### with tda #####\n",
    "\n",
    "print(\"\\n########## With TDA ##########\")\n",
    "\n",
    "TDA_select_sig = len(sig_predict_tda[np.where(sig_predict_tda>score_cut)])\n",
    "print(TDA_select_sig, \"signal event pass decision tree score\", score_cut, \", selection rate:\", TDA_select_sig/len(sig_predict))\n",
    "TDA_select_ttbarBG = len(ttbarBG_predict_tda[np.where(ttbarBG_predict_tda>score_cut)])\n",
    "print(TDA_select_ttbarBG, \"ttbarBG event pass decision tree score\", score_cut, \", selection rate:\", TDA_select_ttbarBG/len(ttbarBG_predict))\n",
    "TDA_select_jjBG = len(jjBG_predict_tda[np.where(jjBG_predict_tda>score_cut)])\n",
    "print(TDA_select_jjBG, \"jjBG event pass decision tree score\", score_cut, \", selection rate:\", TDA_select_jjBG/len(jjBG_predict))\n",
    "\n",
    "s = Xsection_sig * (TDA_select_sig/N_sim_sig) * Luminosity\n",
    "b = Xsection_ttbarBG * (TDA_select_ttbarBG/N_sim_ttbarBG) * Luminosity + Xsection_jjBG * (TDA_select_jjBG/N_sim_jjBG) * Luminosity\n",
    "significance = np.sqrt(2*((s+b)*np.log(1+s/b)-s))\n",
    "print(\"significance:\", significance, \"\\n\")"
   ]
  },
  {
   "cell_type": "code",
   "execution_count": null,
   "metadata": {},
   "outputs": [],
   "source": []
  }
 ],
 "metadata": {
  "kernelspec": {
   "display_name": "Python 3 (ipykernel)",
   "language": "python",
   "name": "python3"
  },
  "language_info": {
   "codemirror_mode": {
    "name": "ipython",
    "version": 3
   },
   "file_extension": ".py",
   "mimetype": "text/x-python",
   "name": "python",
   "nbconvert_exporter": "python",
   "pygments_lexer": "ipython3",
   "version": "3.8.5"
  }
 },
 "nbformat": 4,
 "nbformat_minor": 5
}
