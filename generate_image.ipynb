{
 "cells": [
  {
   "cell_type": "code",
   "execution_count": 1,
   "metadata": {},
   "outputs": [
    {
     "name": "stdout",
     "output_type": "stream",
     "text": [
      "Welcome to JupyROOT 6.20/04\n"
     ]
    }
   ],
   "source": [
    "import pylhe\n",
    "import ROOT\n",
    "import math\n",
    "import os\n",
    "import uproot\n",
    "import numpy as np\n",
    "import h5py\n",
    "import matplotlib.pyplot as plt\n",
    "from matplotlib.colors import LogNorm\n",
    "import time\n",
    "t1 = time.time()"
   ]
  },
  {
   "cell_type": "code",
   "execution_count": 2,
   "metadata": {},
   "outputs": [],
   "source": [
    "sig_rootpath = \"/data/Chen-Wang/gghh_highPT_250_200K/Events/run_01_decayed_1/tag_1_delphes_events.root\"\n",
    "sig_file = uproot.open(sig_rootpath)\n",
    "\n",
    "ttbarBG_rootpath = \"/data/Chen-Wang/ttbarBG_200K/Events/run_01/tag_1_delphes_events.root\"\n",
    "ttbarBG_file = uproot.open(ttbarBG_rootpath)\n",
    "\n",
    "jjBG_rootpath = \"/data/Chen-Wang/jjBG_200PT_200K/Events/run_01/tag_1_delphes_events.root\"\n",
    "jjBG_file = uproot.open(jjBG_rootpath)"
   ]
  },
  {
   "cell_type": "code",
   "execution_count": 3,
   "metadata": {},
   "outputs": [
    {
     "name": "stdout",
     "output_type": "stream",
     "text": [
      "Time: 248.960307598114\n"
     ]
    }
   ],
   "source": [
    "##### include signal data #####\n",
    "sig_events = [sig_file[\"Delphes;1\"][\"Particle.Status\"].array(),\n",
    "        sig_file[\"Delphes;1\"][\"Particle.PT\"].array(),\n",
    "        sig_file[\"Delphes;1\"][\"Particle.Eta\"].array(),\n",
    "        sig_file[\"Delphes;1\"][\"Particle.Phi\"].array(),\n",
    "        sig_file[\"Delphes;1\"][\"FatJet.Particles\"].array(),\n",
    "        sig_file[\"Delphes;1\"][\"FatJet.Eta\"].array(),\n",
    "        sig_file[\"Delphes;1\"][\"FatJet.Phi\"].array(),\n",
    "        sig_file[\"Delphes;1\"][\"FatJet.PT\"].array(),\n",
    "        sig_file[\"Delphes;1\"][\"FatJet\"].array()\n",
    "        ]\n",
    "\n",
    "##### reshape the signal data #####\n",
    "\n",
    "sig_events = np.expand_dims(sig_events, axis=-1)\n",
    "sig_events = sig_events.transpose((1,0,2))\n",
    "sig_events = np.squeeze(sig_events,axis=(2,))\n",
    "\n",
    "##### include ttbarBG data #####\n",
    "ttbarBG_events = [ttbarBG_file[\"Delphes;1\"][\"Particle.Status\"].array(),\n",
    "        ttbarBG_file[\"Delphes;1\"][\"Particle.PT\"].array(),\n",
    "        ttbarBG_file[\"Delphes;1\"][\"Particle.Eta\"].array(),\n",
    "        ttbarBG_file[\"Delphes;1\"][\"Particle.Phi\"].array(),\n",
    "        ttbarBG_file[\"Delphes;1\"][\"FatJet.Particles\"].array(),\n",
    "        ttbarBG_file[\"Delphes;1\"][\"FatJet.Eta\"].array(),\n",
    "        ttbarBG_file[\"Delphes;1\"][\"FatJet.Phi\"].array(),\n",
    "        ttbarBG_file[\"Delphes;1\"][\"FatJet.PT\"].array(),\n",
    "        ttbarBG_file[\"Delphes;1\"][\"FatJet\"].array()\n",
    "        ]\n",
    "\n",
    "##### reshape the ttbarBG data #####\n",
    "\n",
    "ttbarBG_events = np.expand_dims(ttbarBG_events, axis=-1)\n",
    "ttbarBG_events = ttbarBG_events.transpose((1,0,2))\n",
    "ttbarBG_events = np.squeeze(ttbarBG_events,axis=(2,))\n",
    "\n",
    "##### include jjBG data #####\n",
    "jjBG_events = [jjBG_file[\"Delphes;1\"][\"Particle.Status\"].array(),\n",
    "        jjBG_file[\"Delphes;1\"][\"Particle.PT\"].array(),\n",
    "        jjBG_file[\"Delphes;1\"][\"Particle.Eta\"].array(),\n",
    "        jjBG_file[\"Delphes;1\"][\"Particle.Phi\"].array(),\n",
    "        jjBG_file[\"Delphes;1\"][\"FatJet.Particles\"].array(),\n",
    "        jjBG_file[\"Delphes;1\"][\"FatJet.Eta\"].array(),\n",
    "        jjBG_file[\"Delphes;1\"][\"FatJet.Phi\"].array(),\n",
    "        jjBG_file[\"Delphes;1\"][\"FatJet.PT\"].array(),\n",
    "        jjBG_file[\"Delphes;1\"][\"FatJet\"].array()\n",
    "        ]\n",
    "\n",
    "##### reshape the jjBG data #####\n",
    "\n",
    "jjBG_events = np.expand_dims(jjBG_events, axis=-1)\n",
    "jjBG_events = jjBG_events.transpose((1,0,2))\n",
    "jjBG_events = np.squeeze(jjBG_events,axis=(2,))\n",
    "\n",
    "t2 = time.time()\n",
    "print(\"Time:\", t2-t1)"
   ]
  },
  {
   "cell_type": "code",
   "execution_count": 4,
   "metadata": {},
   "outputs": [],
   "source": [
    "#####   useful function    #####\n",
    "##### select if Fat Jet>=2 #####\n",
    "\n",
    "def Fat_Jet_selection(events):\n",
    "    where1 = np.where(events[:,8]>=2)\n",
    "    return events[where1]\n",
    "\n",
    "##### define figure generator #####\n",
    "\n",
    "def PT_generator(event):\n",
    "    grid_num = 50    # means n^2 points\n",
    "    where_jet_particle = event[4][0]+event[4][1]\n",
    "    where_jet_particle = np.array(where_jet_particle)-1\n",
    "    particle_Eta = event[2][where_jet_particle] - event[5][0]\n",
    "    particle_Phi = event[3][where_jet_particle] - event[6][0]\n",
    "    particle_PT = event[1][where_jet_particle]\n",
    "    \n",
    "    xedges = np.linspace(-5, 5, grid_num+1)        # Eta limit\n",
    "    yedges = np.linspace(-5, 5, grid_num+1)    # Phi limit\n",
    "    PT = np.zeros([grid_num,grid_num])\n",
    "    \n",
    "    for Eta in range(grid_num):\n",
    "        for Phi in range(grid_num):\n",
    "            where1 = np.where((xedges[Eta]<particle_Eta) & (particle_Eta<xedges[Eta+1]) & (yedges[Phi]<particle_Phi) & (particle_Phi<yedges[Phi+1]))\n",
    "            PT[Eta][Phi] = sum(particle_PT[where1])\n",
    "            \n",
    "    return PT.T    ### after transpose: X=eta Y=phi"
   ]
  },
  {
   "cell_type": "code",
   "execution_count": 5,
   "metadata": {},
   "outputs": [
    {
     "name": "stdout",
     "output_type": "stream",
     "text": [
      "There are 174453 signal events survive with originally 20K events.\n",
      "There are 123751 ttbarBG events survive with originally 20K events.\n",
      "There are 123337 jjBG events survive with originally 20K events.\n",
      "Time: 12424.899952888489\n"
     ]
    }
   ],
   "source": [
    "##### select only fat jet >=2 #####\n",
    "\n",
    "sig_events = Fat_Jet_selection(sig_events)\n",
    "print(\"There are\", len(sig_events), \"signal events survive with originally 20K events.\")\n",
    "\n",
    "sig = []\n",
    "for events in range(len(sig_events)):\n",
    "    sig.append(PT_generator(sig_events[events]))\n",
    "    \n",
    "ttbarBG_events = Fat_Jet_selection(ttbarBG_events)\n",
    "print(\"There are\", len(ttbarBG_events), \"ttbarBG events survive with originally 20K events.\")\n",
    "    \n",
    "ttbarBG = []\n",
    "for events in range(len(ttbarBG_events)):\n",
    "    ttbarBG.append(PT_generator(ttbarBG_events[events]))\n",
    "    \n",
    "jjBG_events = Fat_Jet_selection(jjBG_events)\n",
    "print(\"There are\", len(jjBG_events), \"jjBG events survive with originally 20K events.\")\n",
    "    \n",
    "jjBG = []\n",
    "for events in range(len(jjBG_events)):\n",
    "    jjBG.append(PT_generator(jjBG_events[events]))\n",
    "    \n",
    "t2 = time.time()\n",
    "print(\"Time:\", t2-t1)"
   ]
  },
  {
   "cell_type": "code",
   "execution_count": 6,
   "metadata": {},
   "outputs": [],
   "source": [
    "h5f = h5py.File('/data/Chen-Wang/data_image.h5', 'w')\n",
    "h5f.create_dataset('sig', data=sig)\n",
    "h5f.create_dataset('ttbarBG', data=ttbarBG)\n",
    "h5f.create_dataset('jjBG', data=jjBG)\n",
    "h5f.close()"
   ]
  },
  {
   "cell_type": "code",
   "execution_count": 7,
   "metadata": {},
   "outputs": [
    {
     "name": "stdout",
     "output_type": "stream",
     "text": [
      "total time: 12432.68947172165\n"
     ]
    }
   ],
   "source": [
    "t2 = time.time()\n",
    "print(\"total time:\", t2-t1)"
   ]
  }
 ],
 "metadata": {
  "kernelspec": {
   "display_name": "Python 3 (ipykernel)",
   "language": "python",
   "name": "python3"
  },
  "language_info": {
   "codemirror_mode": {
    "name": "ipython",
    "version": 3
   },
   "file_extension": ".py",
   "mimetype": "text/x-python",
   "name": "python",
   "nbconvert_exporter": "python",
   "pygments_lexer": "ipython3",
   "version": "3.8.5"
  }
 },
 "nbformat": 4,
 "nbformat_minor": 4
}
