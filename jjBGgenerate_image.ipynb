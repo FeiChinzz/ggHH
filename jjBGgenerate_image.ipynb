{
 "cells": [
  {
   "cell_type": "code",
   "execution_count": 1,
   "metadata": {},
   "outputs": [
    {
     "name": "stdout",
     "output_type": "stream",
     "text": [
      "Welcome to JupyROOT 6.20/04\n"
     ]
    }
   ],
   "source": [
    "import pylhe\n",
    "import ROOT\n",
    "import math\n",
    "import os\n",
    "import uproot\n",
    "import numpy as np\n",
    "import h5py\n",
    "import time\n",
    "t1 = time.time()"
   ]
  },
  {
   "cell_type": "code",
   "execution_count": 2,
   "metadata": {},
   "outputs": [],
   "source": [
    "jjBG_rootpath = \"/data/Chen-Wang/jjBG_200PT_1M/Events/run_01/tag_1_delphes_events.root\"\n",
    "#jjBG_rootpath = \"/data/Chen-Wang/jjBG_200PT/Events/run_01/tag_1_delphes_events.root\"\n",
    "jjBG_file = uproot.open(jjBG_rootpath)"
   ]
  },
  {
   "cell_type": "code",
   "execution_count": 3,
   "metadata": {},
   "outputs": [
    {
     "ename": "KeyboardInterrupt",
     "evalue": "",
     "output_type": "error",
     "traceback": [
      "\u001b[0;31m---------------------------------------------------------------------------\u001b[0m",
      "\u001b[0;31mKeyboardInterrupt\u001b[0m                         Traceback (most recent call last)",
      "Cell \u001b[0;32mIn[3], line 25\u001b[0m\n\u001b[1;32m     20\u001b[0m num_ttbarBG \u001b[38;5;241m=\u001b[39m \u001b[38;5;28mlen\u001b[39m(ttbarBG_events)\n\u001b[1;32m     22\u001b[0m \u001b[38;5;66;03m##### include jjBG data #####\u001b[39;00m\n\u001b[1;32m     23\u001b[0m jjBG_events \u001b[38;5;241m=\u001b[39m [jjBG_file[\u001b[38;5;124m\"\u001b[39m\u001b[38;5;124mDelphes;1\u001b[39m\u001b[38;5;124m\"\u001b[39m][\u001b[38;5;124m\"\u001b[39m\u001b[38;5;124mParticle.Status\u001b[39m\u001b[38;5;124m\"\u001b[39m]\u001b[38;5;241m.\u001b[39marray(),\n\u001b[1;32m     24\u001b[0m         jjBG_file[\u001b[38;5;124m\"\u001b[39m\u001b[38;5;124mDelphes;1\u001b[39m\u001b[38;5;124m\"\u001b[39m][\u001b[38;5;124m\"\u001b[39m\u001b[38;5;124mParticle.PT\u001b[39m\u001b[38;5;124m\"\u001b[39m]\u001b[38;5;241m.\u001b[39marray(),\n\u001b[0;32m---> 25\u001b[0m         \u001b[43mjjBG_file\u001b[49m\u001b[43m[\u001b[49m\u001b[38;5;124;43m\"\u001b[39;49m\u001b[38;5;124;43mDelphes;1\u001b[39;49m\u001b[38;5;124;43m\"\u001b[39;49m\u001b[43m]\u001b[49m\u001b[43m[\u001b[49m\u001b[38;5;124;43m\"\u001b[39;49m\u001b[38;5;124;43mParticle.Eta\u001b[39;49m\u001b[38;5;124;43m\"\u001b[39;49m\u001b[43m]\u001b[49m\u001b[38;5;241;43m.\u001b[39;49m\u001b[43marray\u001b[49m\u001b[43m(\u001b[49m\u001b[43m)\u001b[49m,\n\u001b[1;32m     26\u001b[0m         jjBG_file[\u001b[38;5;124m\"\u001b[39m\u001b[38;5;124mDelphes;1\u001b[39m\u001b[38;5;124m\"\u001b[39m][\u001b[38;5;124m\"\u001b[39m\u001b[38;5;124mParticle.Phi\u001b[39m\u001b[38;5;124m\"\u001b[39m]\u001b[38;5;241m.\u001b[39marray(),\n\u001b[1;32m     27\u001b[0m         jjBG_file[\u001b[38;5;124m\"\u001b[39m\u001b[38;5;124mDelphes;1\u001b[39m\u001b[38;5;124m\"\u001b[39m][\u001b[38;5;124m\"\u001b[39m\u001b[38;5;124mFatJet.Particles\u001b[39m\u001b[38;5;124m\"\u001b[39m]\u001b[38;5;241m.\u001b[39marray(),\n\u001b[1;32m     28\u001b[0m         jjBG_file[\u001b[38;5;124m\"\u001b[39m\u001b[38;5;124mDelphes;1\u001b[39m\u001b[38;5;124m\"\u001b[39m][\u001b[38;5;124m\"\u001b[39m\u001b[38;5;124mFatJet.Eta\u001b[39m\u001b[38;5;124m\"\u001b[39m]\u001b[38;5;241m.\u001b[39marray(),\n\u001b[1;32m     29\u001b[0m         jjBG_file[\u001b[38;5;124m\"\u001b[39m\u001b[38;5;124mDelphes;1\u001b[39m\u001b[38;5;124m\"\u001b[39m][\u001b[38;5;124m\"\u001b[39m\u001b[38;5;124mFatJet.Phi\u001b[39m\u001b[38;5;124m\"\u001b[39m]\u001b[38;5;241m.\u001b[39marray(),\n\u001b[1;32m     30\u001b[0m         jjBG_file[\u001b[38;5;124m\"\u001b[39m\u001b[38;5;124mDelphes;1\u001b[39m\u001b[38;5;124m\"\u001b[39m][\u001b[38;5;124m\"\u001b[39m\u001b[38;5;124mFatJet.PT\u001b[39m\u001b[38;5;124m\"\u001b[39m]\u001b[38;5;241m.\u001b[39marray(),\n\u001b[1;32m     31\u001b[0m         jjBG_file[\u001b[38;5;124m\"\u001b[39m\u001b[38;5;124mDelphes;1\u001b[39m\u001b[38;5;124m\"\u001b[39m][\u001b[38;5;124m\"\u001b[39m\u001b[38;5;124mFatJet\u001b[39m\u001b[38;5;124m\"\u001b[39m]\u001b[38;5;241m.\u001b[39marray(),\n\u001b[1;32m     32\u001b[0m         jjBG_file[\u001b[38;5;124m\"\u001b[39m\u001b[38;5;124mDelphes;1\u001b[39m\u001b[38;5;124m\"\u001b[39m][\u001b[38;5;124m\"\u001b[39m\u001b[38;5;124mFatJet.Mass\u001b[39m\u001b[38;5;124m\"\u001b[39m]\u001b[38;5;241m.\u001b[39marray()\n\u001b[1;32m     33\u001b[0m         ]\n\u001b[1;32m     35\u001b[0m \u001b[38;5;66;03m##### reshape the jjBG data #####\u001b[39;00m\n\u001b[1;32m     37\u001b[0m jjBG_events \u001b[38;5;241m=\u001b[39m np\u001b[38;5;241m.\u001b[39mexpand_dims(jjBG_events, axis\u001b[38;5;241m=\u001b[39m\u001b[38;5;241m-\u001b[39m\u001b[38;5;241m1\u001b[39m)\n",
      "File \u001b[0;32m/usr/local/lib/python3.8/dist-packages/uproot/tree.py:1475\u001b[0m, in \u001b[0;36mTBranchMethods.array\u001b[0;34m(self, interpretation, entrystart, entrystop, flatten, awkwardlib, cache, basketcache, keycache, executor, blocking)\u001b[0m\n\u001b[1;32m   1473\u001b[0m \u001b[38;5;28;01mif\u001b[39;00m executor \u001b[38;5;129;01mis\u001b[39;00m \u001b[38;5;28;01mNone\u001b[39;00m:\n\u001b[1;32m   1474\u001b[0m     \u001b[38;5;28;01mfor\u001b[39;00m j \u001b[38;5;129;01min\u001b[39;00m \u001b[38;5;28mrange\u001b[39m(basketstop \u001b[38;5;241m-\u001b[39m basketstart):\n\u001b[0;32m-> 1475\u001b[0m         _delayedraise(\u001b[43mfill\u001b[49m\u001b[43m(\u001b[49m\u001b[43mj\u001b[49m\u001b[43m)\u001b[49m)\n\u001b[1;32m   1476\u001b[0m     excinfos \u001b[38;5;241m=\u001b[39m ()\n\u001b[1;32m   1477\u001b[0m \u001b[38;5;28;01melse\u001b[39;00m:\n",
      "File \u001b[0;32m/usr/local/lib/python3.8/dist-packages/uproot/tree.py:1443\u001b[0m, in \u001b[0;36mTBranchMethods.array.<locals>.fill\u001b[0;34m(j)\u001b[0m\n\u001b[1;32m   1441\u001b[0m i \u001b[38;5;241m=\u001b[39m j \u001b[38;5;241m+\u001b[39m basketstart\n\u001b[1;32m   1442\u001b[0m local_entrystart, local_entrystop \u001b[38;5;241m=\u001b[39m \u001b[38;5;28mself\u001b[39m\u001b[38;5;241m.\u001b[39m_localentries(i, entrystart, entrystop)\n\u001b[0;32m-> 1443\u001b[0m source \u001b[38;5;241m=\u001b[39m \u001b[38;5;28;43mself\u001b[39;49m\u001b[38;5;241;43m.\u001b[39;49m\u001b[43m_basket\u001b[49m\u001b[43m(\u001b[49m\u001b[43mi\u001b[49m\u001b[43m,\u001b[49m\u001b[43m \u001b[49m\u001b[43minterpretation\u001b[49m\u001b[43m,\u001b[49m\u001b[43m \u001b[49m\u001b[43mlocal_entrystart\u001b[49m\u001b[43m,\u001b[49m\u001b[43m \u001b[49m\u001b[43mlocal_entrystop\u001b[49m\u001b[43m,\u001b[49m\u001b[43m \u001b[49m\u001b[43mawkward\u001b[49m\u001b[43m,\u001b[49m\u001b[43m \u001b[49m\u001b[43mbasketcache\u001b[49m\u001b[43m,\u001b[49m\u001b[43m \u001b[49m\u001b[43mkeycache\u001b[49m\u001b[43m)\u001b[49m\n\u001b[1;32m   1445\u001b[0m expecteditems \u001b[38;5;241m=\u001b[39m basket_itemoffset[j \u001b[38;5;241m+\u001b[39m \u001b[38;5;241m1\u001b[39m] \u001b[38;5;241m-\u001b[39m basket_itemoffset[j]\n\u001b[1;32m   1446\u001b[0m source_numitems \u001b[38;5;241m=\u001b[39m interpretation\u001b[38;5;241m.\u001b[39msource_numitems(source)\n",
      "File \u001b[0;32m/usr/local/lib/python3.8/dist-packages/uproot/tree.py:1226\u001b[0m, in \u001b[0;36mTBranchMethods._basket\u001b[0;34m(self, i, interpretation, local_entrystart, local_entrystop, awkward, basketcache, keycache)\u001b[0m\n\u001b[1;32m   1223\u001b[0m key \u001b[38;5;241m=\u001b[39m \u001b[38;5;28mself\u001b[39m\u001b[38;5;241m.\u001b[39m_threadsafe_key(i, keycache, \u001b[38;5;28;01mTrue\u001b[39;00m)\n\u001b[1;32m   1225\u001b[0m \u001b[38;5;28;01mif\u001b[39;00m basketdata \u001b[38;5;129;01mis\u001b[39;00m \u001b[38;5;28;01mNone\u001b[39;00m:\n\u001b[0;32m-> 1226\u001b[0m     basketdata \u001b[38;5;241m=\u001b[39m \u001b[43mkey\u001b[49m\u001b[38;5;241;43m.\u001b[39;49m\u001b[43mbasketdata\u001b[49m\u001b[43m(\u001b[49m\u001b[43m)\u001b[49m\n\u001b[1;32m   1228\u001b[0m \u001b[38;5;28;01mif\u001b[39;00m basketcache \u001b[38;5;129;01mis\u001b[39;00m \u001b[38;5;129;01mnot\u001b[39;00m \u001b[38;5;28;01mNone\u001b[39;00m:\n\u001b[1;32m   1229\u001b[0m     basketcache[basketcachekey] \u001b[38;5;241m=\u001b[39m basketdata\n",
      "File \u001b[0;32m/usr/local/lib/python3.8/dist-packages/uproot/tree.py:1733\u001b[0m, in \u001b[0;36mTBranchMethods._BasketKey.basketdata\u001b[0;34m(self)\u001b[0m\n\u001b[1;32m   1731\u001b[0m datasource \u001b[38;5;241m=\u001b[39m \u001b[38;5;28mself\u001b[39m\u001b[38;5;241m.\u001b[39msource\u001b[38;5;241m.\u001b[39mthreadlocal()\n\u001b[1;32m   1732\u001b[0m \u001b[38;5;28;01mtry\u001b[39;00m:\n\u001b[0;32m-> 1733\u001b[0m     \u001b[38;5;28;01mreturn\u001b[39;00m \u001b[38;5;28;43mself\u001b[39;49m\u001b[38;5;241;43m.\u001b[39;49m\u001b[43mcursor\u001b[49m\u001b[38;5;241;43m.\u001b[39;49m\u001b[43mcopied\u001b[49m\u001b[43m(\u001b[49m\u001b[43m)\u001b[49m\u001b[38;5;241;43m.\u001b[39;49m\u001b[43mbytes\u001b[49m\u001b[43m(\u001b[49m\u001b[43mdatasource\u001b[49m\u001b[43m,\u001b[49m\u001b[43m \u001b[49m\u001b[38;5;28;43mself\u001b[39;49m\u001b[38;5;241;43m.\u001b[39;49m\u001b[43m_fObjlen\u001b[49m\u001b[43m)\u001b[49m\n\u001b[1;32m   1734\u001b[0m \u001b[38;5;28;01mfinally\u001b[39;00m:\n\u001b[1;32m   1735\u001b[0m     datasource\u001b[38;5;241m.\u001b[39mdismiss()\n",
      "File \u001b[0;32m/usr/local/lib/python3.8/dist-packages/uproot/source/cursor.py:56\u001b[0m, in \u001b[0;36mCursor.bytes\u001b[0;34m(self, source, length)\u001b[0m\n\u001b[1;32m     54\u001b[0m start \u001b[38;5;241m=\u001b[39m \u001b[38;5;28mself\u001b[39m\u001b[38;5;241m.\u001b[39mindex\n\u001b[1;32m     55\u001b[0m stop \u001b[38;5;241m=\u001b[39m \u001b[38;5;28mself\u001b[39m\u001b[38;5;241m.\u001b[39mindex \u001b[38;5;241m=\u001b[39m start \u001b[38;5;241m+\u001b[39m length\n\u001b[0;32m---> 56\u001b[0m \u001b[38;5;28;01mreturn\u001b[39;00m \u001b[43msource\u001b[49m\u001b[38;5;241;43m.\u001b[39;49m\u001b[43mdata\u001b[49m\u001b[43m(\u001b[49m\u001b[43mstart\u001b[49m\u001b[43m,\u001b[49m\u001b[43m \u001b[49m\u001b[43mstop\u001b[49m\u001b[43m)\u001b[49m\n",
      "File \u001b[0;32m/usr/local/lib/python3.8/dist-packages/uproot/source/compressed.py:186\u001b[0m, in \u001b[0;36mCompressedSource.data\u001b[0;34m(self, start, stop, dtype)\u001b[0m\n\u001b[1;32m    181\u001b[0m \u001b[38;5;28;01mdef\u001b[39;00m \u001b[38;5;21mdata\u001b[39m(\u001b[38;5;28mself\u001b[39m, start, stop, dtype\u001b[38;5;241m=\u001b[39m\u001b[38;5;28;01mNone\u001b[39;00m):\n\u001b[1;32m    182\u001b[0m     \u001b[38;5;66;03m# assert start >= 0\u001b[39;00m\n\u001b[1;32m    183\u001b[0m     \u001b[38;5;66;03m# assert stop >= 0\u001b[39;00m\n\u001b[1;32m    184\u001b[0m     \u001b[38;5;66;03m# assert stop >= start\u001b[39;00m\n\u001b[0;32m--> 186\u001b[0m     \u001b[38;5;28;43mself\u001b[39;49m\u001b[38;5;241;43m.\u001b[39;49m\u001b[43m_prepare\u001b[49m\u001b[43m(\u001b[49m\u001b[43m)\u001b[49m\n\u001b[1;32m    187\u001b[0m     \u001b[38;5;28;01mif\u001b[39;00m dtype \u001b[38;5;129;01mis\u001b[39;00m \u001b[38;5;28;01mNone\u001b[39;00m:\n\u001b[1;32m    188\u001b[0m         \u001b[38;5;28;01mreturn\u001b[39;00m \u001b[38;5;28mself\u001b[39m\u001b[38;5;241m.\u001b[39m_uncompressed[start:stop]\n",
      "File \u001b[0;32m/usr/local/lib/python3.8/dist-packages/uproot/source/compressed.py:159\u001b[0m, in \u001b[0;36mCompressedSource._prepare\u001b[0;34m(self)\u001b[0m\n\u001b[1;32m    156\u001b[0m \u001b[38;5;28;01melse\u001b[39;00m:\n\u001b[1;32m    157\u001b[0m     \u001b[38;5;28;01mraise\u001b[39;00m \u001b[38;5;167;01mValueError\u001b[39;00m(\u001b[38;5;124m\"\u001b[39m\u001b[38;5;124munrecognized compression algorithm: \u001b[39m\u001b[38;5;132;01m{0}\u001b[39;00m\u001b[38;5;124m\"\u001b[39m\u001b[38;5;241m.\u001b[39mformat(algo))\n\u001b[0;32m--> 159\u001b[0m asstr \u001b[38;5;241m=\u001b[39m \u001b[43mcompression\u001b[49m\u001b[38;5;241;43m.\u001b[39;49m\u001b[43mdecompress\u001b[49m\u001b[43m(\u001b[49m\u001b[38;5;28;43mself\u001b[39;49m\u001b[38;5;241;43m.\u001b[39;49m\u001b[43m_compressed\u001b[49m\u001b[43m,\u001b[49m\u001b[43m \u001b[49m\u001b[43mcursor\u001b[49m\u001b[43m,\u001b[49m\u001b[43m \u001b[49m\u001b[43mcompressedbytes\u001b[49m\u001b[43m,\u001b[49m\u001b[43m \u001b[49m\u001b[43muncompressedbytes\u001b[49m\u001b[43m)\u001b[49m\n\u001b[1;32m    160\u001b[0m numblocks \u001b[38;5;241m+\u001b[39m\u001b[38;5;241m=\u001b[39m \u001b[38;5;241m1\u001b[39m\n\u001b[1;32m    162\u001b[0m \u001b[38;5;28;01mif\u001b[39;00m \u001b[38;5;28mlen\u001b[39m(asstr) \u001b[38;5;241m!=\u001b[39m uncompressedbytes:\n",
      "File \u001b[0;32m/usr/local/lib/python3.8/dist-packages/uproot/source/compressed.py:60\u001b[0m, in \u001b[0;36mCompression.decompress\u001b[0;34m(self, source, cursor, compressedbytes, uncompressedbytes)\u001b[0m\n\u001b[1;32m     58\u001b[0m \u001b[38;5;28;01mif\u001b[39;00m \u001b[38;5;28mself\u001b[39m\u001b[38;5;241m.\u001b[39malgo \u001b[38;5;241m==\u001b[39m uproot\u001b[38;5;241m.\u001b[39mconst\u001b[38;5;241m.\u001b[39mkZLIB:\n\u001b[1;32m     59\u001b[0m     \u001b[38;5;28;01mfrom\u001b[39;00m \u001b[38;5;21;01mzlib\u001b[39;00m \u001b[38;5;28;01mimport\u001b[39;00m decompress \u001b[38;5;28;01mas\u001b[39;00m zlib_decompress\n\u001b[0;32m---> 60\u001b[0m     \u001b[38;5;28;01mreturn\u001b[39;00m \u001b[43mzlib_decompress\u001b[49m\u001b[43m(\u001b[49m\u001b[43mcursor\u001b[49m\u001b[38;5;241;43m.\u001b[39;49m\u001b[43mbytes\u001b[49m\u001b[43m(\u001b[49m\u001b[43msource\u001b[49m\u001b[43m,\u001b[49m\u001b[43m \u001b[49m\u001b[43mcompressedbytes\u001b[49m\u001b[43m)\u001b[49m\u001b[43m)\u001b[49m\n\u001b[1;32m     62\u001b[0m \u001b[38;5;28;01melif\u001b[39;00m \u001b[38;5;28mself\u001b[39m\u001b[38;5;241m.\u001b[39malgo \u001b[38;5;241m==\u001b[39m uproot\u001b[38;5;241m.\u001b[39mconst\u001b[38;5;241m.\u001b[39mkLZMA:\n\u001b[1;32m     63\u001b[0m     \u001b[38;5;28;01mtry\u001b[39;00m:\n",
      "\u001b[0;31mKeyboardInterrupt\u001b[0m: "
     ]
    }
   ],
   "source": [
    "##### include jjBG data #####\n",
    "jjBG_events = [jjBG_file[\"Delphes;1\"][\"Particle.Status\"].array(),\n",
    "        jjBG_file[\"Delphes;1\"][\"Particle.PT\"].array(),\n",
    "        jjBG_file[\"Delphes;1\"][\"Particle.Eta\"].array(),\n",
    "        jjBG_file[\"Delphes;1\"][\"Particle.Phi\"].array(),\n",
    "        jjBG_file[\"Delphes;1\"][\"FatJet.Particles\"].array(),\n",
    "        jjBG_file[\"Delphes;1\"][\"FatJet.Eta\"].array(),\n",
    "        jjBG_file[\"Delphes;1\"][\"FatJet.Phi\"].array(),\n",
    "        jjBG_file[\"Delphes;1\"][\"FatJet.PT\"].array(),\n",
    "        jjBG_file[\"Delphes;1\"][\"FatJet\"].array(),\n",
    "        jjBG_file[\"Delphes;1\"][\"FatJet.Mass\"].array()\n",
    "        ]\n",
    "\n",
    "##### reshape the jjBG data #####\n",
    "\n",
    "jjBG_events = np.expand_dims(jjBG_events, axis=-1)\n",
    "jjBG_events = jjBG_events.transpose((1,0,2))\n",
    "jjBG_events = np.squeeze(jjBG_events,axis=(2,))\n",
    "\n",
    "num_jjBG = len(jjBG_events)\n",
    "\n",
    "t2 = time.time()\n",
    "print(\"Time:\", t2-t1)"
   ]
  },
  {
   "cell_type": "code",
   "execution_count": null,
   "metadata": {},
   "outputs": [],
   "source": [
    "#####   useful function    #####\n",
    "##### select if Fat Jet>=2 #####\n",
    "\n",
    "def Fat_Jet_selection(events):\n",
    "    where1 = np.where(events[:,8]>=2)\n",
    "    return events[where1]\n",
    "\n",
    "##### select if M_jet > 50 GeV #####\n",
    "\n",
    "def mass_selection(events):\n",
    "    where1 = []\n",
    "    for i in range(len(events)):\n",
    "        switch=1\n",
    "        if events[i][9][0]<50:\n",
    "            switch=0\n",
    "        if events[i][9][1]<50:\n",
    "            switch=0\n",
    "        if switch==1:\n",
    "            where1.append(i)\n",
    "    return events[where1]\n",
    "##### define figure generator #####\n",
    "\n",
    "def PT_generator(event):\n",
    "    grid_num = 50    # means n^2 points\n",
    "    where_jet_particle = event[4][0]+event[4][1]\n",
    "    where_jet_particle = np.array(where_jet_particle)-1\n",
    "    particle_Eta = event[2][where_jet_particle] - event[5][0]\n",
    "    particle_Phi = event[3][where_jet_particle] - event[6][0]\n",
    "    particle_PT = event[1][where_jet_particle]\n",
    "    \n",
    "    xedges = np.linspace(-5, 5, grid_num+1)        # Eta limit\n",
    "    yedges = np.linspace(-5, 5, grid_num+1)    # Phi limit\n",
    "    PT = np.zeros([grid_num,grid_num])\n",
    "    \n",
    "    for Eta in range(grid_num):\n",
    "        for Phi in range(grid_num):\n",
    "            where1 = np.where((xedges[Eta]<particle_Eta) & (particle_Eta<xedges[Eta+1]) & (yedges[Phi]<particle_Phi) & (particle_Phi<yedges[Phi+1]))\n",
    "            PT[Eta][Phi] = sum(particle_PT[where1])\n",
    "            \n",
    "    return PT.T    ### after transpose: X=eta Y=phi\n",
    "\n",
    "##### define leading jet generator #####\n",
    "\n",
    "def leadingJ_generator(jet_events):\n",
    "    grid_num = 50    # means n^2 points\n",
    "    where_jet_particle = jet_events[4][0]\n",
    "    where_jet_particle = np.array(where_jet_particle)-1\n",
    "    particle_Eta = jet_events[2][where_jet_particle] - jet_events[5][0]    # do the centerize\n",
    "    particle_Phi = jet_events[3][where_jet_particle] - jet_events[6][0]    # do the centerize\n",
    "    particle_PT = jet_events[1][where_jet_particle]\n",
    "    \n",
    "    xedges = np.linspace(-1, 1, grid_num+1)    # Eta limit\n",
    "    yedges = np.linspace(-1, 1, grid_num+1)    # Phi limit\n",
    "    PT = np.zeros([grid_num,grid_num])\n",
    "    \n",
    "    for Eta in range(grid_num):\n",
    "        for Phi in range(grid_num):\n",
    "            where1 = np.where((xedges[Eta]<particle_Eta) & (particle_Eta<xedges[Eta+1]) & (yedges[Phi]<particle_Phi) & (particle_Phi<yedges[Phi+1]))\n",
    "            PT[Eta][Phi] = sum(particle_PT[where1])\n",
    "    \n",
    "    leading_b = np.where(PT==np.max(PT))\n",
    "    PT[leading_b[0][0]-4:leading_b[0][0]+4, leading_b[1][0]-4:leading_b[1][0]+4] = 0\n",
    "    subleading_b = np.where(PT==np.max(PT))\n",
    "\n",
    "    eta_diff = (subleading_b[0][0]-leading_b[0][0])*(1/grid_num)     # each grid different (1/grid_num)\n",
    "    phi_diff = (subleading_b[1][0]-leading_b[1][0])*(1/grid_num)     # each grid different (1/grid_num)\n",
    "    cos_theta = (0*eta_diff + -1*phi_diff)/(np.sqrt(eta_diff**2 + phi_diff**2)+10**(-5))     # inner product with (0,-1)\n",
    "    sin_theta = np.sqrt(1-cos_theta**2) if eta_diff>0 else -np.sqrt(1-cos_theta**2)\n",
    "\n",
    "    particle_Eta_rot = cos_theta*particle_Eta + sin_theta*particle_Phi\n",
    "    particle_Phi_rot = -sin_theta*particle_Eta + cos_theta*particle_Phi\n",
    "\n",
    "    for Eta_rot in range(grid_num):\n",
    "        for Phi_rot in range(grid_num):\n",
    "            where1 = np.where((xedges[Eta_rot]<particle_Eta_rot) & (particle_Eta_rot<xedges[Eta_rot+1]) & (yedges[Phi_rot]<particle_Phi_rot) & (particle_Phi_rot<yedges[Phi_rot+1]))\n",
    "            PT[Eta_rot][Phi_rot] = sum(particle_PT[where1])\n",
    "    \n",
    "    return PT.T\n",
    "\n",
    "##### define sub-leading jet generator #####\n",
    "\n",
    "def subleadingJ_generator(jet_events):\n",
    "    grid_num = 50    # means n^2 points\n",
    "    where_jet_particle = jet_events[4][1]\n",
    "    where_jet_particle = np.array(where_jet_particle)-1\n",
    "    particle_Eta = jet_events[2][where_jet_particle] - jet_events[5][1]    # do the centerize\n",
    "    particle_Phi = jet_events[3][where_jet_particle] - jet_events[6][1]    # do the centerize\n",
    "    particle_PT = jet_events[1][where_jet_particle]\n",
    "    \n",
    "    xedges = np.linspace(-1, 1, grid_num+1)    # Eta limit\n",
    "    yedges = np.linspace(-1, 1, grid_num+1)    # Phi limit\n",
    "    PT = np.zeros([grid_num,grid_num])\n",
    "    \n",
    "    for Eta in range(grid_num):\n",
    "        for Phi in range(grid_num):\n",
    "            where1 = np.where((xedges[Eta]<particle_Eta) & (particle_Eta<xedges[Eta+1]) & (yedges[Phi]<particle_Phi) & (particle_Phi<yedges[Phi+1]))\n",
    "            PT[Eta][Phi] = sum(particle_PT[where1])\n",
    "    \n",
    "    leading_b = np.where(PT==np.max(PT))\n",
    "    PT[leading_b[0][0]-4:leading_b[0][0]+4, leading_b[1][0]-4:leading_b[1][0]+4] = 0\n",
    "    subleading_b = np.where(PT==np.max(PT))\n",
    "\n",
    "    eta_diff = (subleading_b[0][0]-leading_b[0][0])*(1/grid_num)     # each grid different (1/grid_num)\n",
    "    phi_diff = (subleading_b[1][0]-leading_b[1][0])*(1/grid_num)     # each grid different (1/grid_num)\n",
    "    cos_theta = (0*eta_diff + -1*phi_diff)/(np.sqrt(eta_diff**2 + phi_diff**2)+10**(-5))     # inner product with (0,-1)\n",
    "    sin_theta = np.sqrt(1-cos_theta**2) if eta_diff>0 else -np.sqrt(1-cos_theta**2)\n",
    "\n",
    "    particle_Eta_rot = cos_theta*particle_Eta + sin_theta*particle_Phi\n",
    "    particle_Phi_rot = -sin_theta*particle_Eta + cos_theta*particle_Phi\n",
    "\n",
    "    for Eta_rot in range(grid_num):\n",
    "        for Phi_rot in range(grid_num):\n",
    "            where1 = np.where((xedges[Eta_rot]<particle_Eta_rot) & (particle_Eta_rot<xedges[Eta_rot+1]) & (yedges[Phi_rot]<particle_Phi_rot) & (particle_Phi_rot<yedges[Phi_rot+1]))\n",
    "            PT[Eta_rot][Phi_rot] = sum(particle_PT[where1])\n",
    "    \n",
    "    return PT.T"
   ]
  },
  {
   "cell_type": "code",
   "execution_count": null,
   "metadata": {},
   "outputs": [],
   "source": [
    "##### select only fat jet >=2 #####\n",
    "\n",
    "jjBG_events = Fat_Jet_selection(jjBG_events)\n",
    "jjBG_events = mass_selection(jjBG_events)\n",
    "print(\"There are\", len(jjBG_events), \"jjBG events survive with originally \", num_jjBG, \" events.\")\n",
    "\n",
    "t2 = time.time()\n",
    "print(\"Time:\", t2-t1)"
   ]
  },
  {
   "cell_type": "code",
   "execution_count": null,
   "metadata": {},
   "outputs": [],
   "source": [
    "jjBG = []\n",
    "for events in range(len(jjBG_events)):\n",
    "    if (events%50000==0):\n",
    "        print(\"check point, time:\", time.time()-t1)\n",
    "    jjBG.append([PT_generator(jjBG_events[events]), leadingJ_generator(jjBG_events[events]), subleadingJ_generator(jjBG_events[events])])\n",
    "    \n",
    "t2 = time.time()\n",
    "print(\"Time:\", t2-t1)"
   ]
  },
  {
   "cell_type": "code",
   "execution_count": null,
   "metadata": {},
   "outputs": [],
   "source": [
    "h5f = h5py.File('/data/Chen-Wang/data_image.h5', 'a')\n",
    "h5f.create_dataset('jjBG', data=jjBG)\n",
    "h5f.close()"
   ]
  },
  {
   "cell_type": "code",
   "execution_count": null,
   "metadata": {},
   "outputs": [],
   "source": [
    "t2 = time.time()\n",
    "print(\"total time:\", t2-t1)"
   ]
  }
 ],
 "metadata": {
  "kernelspec": {
   "display_name": "Python 3 (ipykernel)",
   "language": "python",
   "name": "python3"
  },
  "language_info": {
   "codemirror_mode": {
    "name": "ipython",
    "version": 3
   },
   "file_extension": ".py",
   "mimetype": "text/x-python",
   "name": "python",
   "nbconvert_exporter": "python",
   "pygments_lexer": "ipython3",
   "version": "3.8.5"
  }
 },
 "nbformat": 4,
 "nbformat_minor": 4
}
