{
 "cells": [
  {
   "cell_type": "code",
   "execution_count": 1,
   "metadata": {},
   "outputs": [],
   "source": [
    "import numpy as np\n",
    "import h5py\n",
    "import time\n",
    "\n",
    "t1 = time.time()"
   ]
  },
  {
   "cell_type": "code",
   "execution_count": 2,
   "metadata": {},
   "outputs": [
    {
     "data": {
      "text/plain": [
       "<KeysViewHDF5 ['jjBG', 'sig', 'ttbarBG']>"
      ]
     },
     "execution_count": 2,
     "metadata": {},
     "output_type": "execute_result"
    }
   ],
   "source": [
    "image_file = h5py.File('/data/Chen-Wang/data_image.h5', 'r')\n",
    "image_file.keys()"
   ]
  },
  {
   "cell_type": "code",
   "execution_count": 3,
   "metadata": {},
   "outputs": [
    {
     "name": "stdout",
     "output_type": "stream",
     "text": [
      "signal length 470063\n",
      "jjBG length 270777\n",
      "ttbarBG length 548709\n",
      "total image shape (1289549, 3, 50, 50)\n",
      "Time: 90.51602458953857\n"
     ]
    }
   ],
   "source": [
    "sig_len = 470063\n",
    "jjBG_len = 270777\n",
    "ttbarBG_len = 548709\n",
    "\n",
    "print(\"signal length\", sig_len)\n",
    "print(\"jjBG length\", jjBG_len)\n",
    "print(\"ttbarBG length\", ttbarBG_len)\n",
    "\n",
    "total_image = np.concatenate((image_file['sig'][:], image_file['jjBG'][:], image_file['ttbarBG'][:]))\n",
    "print(\"total image shape\", np.shape(total_image))\n",
    "\n",
    "print(\"Time:\", time.time()-t1)"
   ]
  },
  {
   "cell_type": "code",
   "execution_count": 4,
   "metadata": {},
   "outputs": [],
   "source": [
    "image_file.close()"
   ]
  },
  {
   "cell_type": "code",
   "execution_count": null,
   "metadata": {},
   "outputs": [],
   "source": []
  }
 ],
 "metadata": {
  "kernelspec": {
   "display_name": "Python 3 (ipykernel)",
   "language": "python",
   "name": "python3"
  },
  "language_info": {
   "codemirror_mode": {
    "name": "ipython",
    "version": 3
   },
   "file_extension": ".py",
   "mimetype": "text/x-python",
   "name": "python",
   "nbconvert_exporter": "python",
   "pygments_lexer": "ipython3",
   "version": "3.10.13"
  }
 },
 "nbformat": 4,
 "nbformat_minor": 4
}
