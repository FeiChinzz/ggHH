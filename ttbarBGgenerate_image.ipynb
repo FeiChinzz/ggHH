{
 "cells": [
  {
   "cell_type": "code",
   "execution_count": 1,
   "metadata": {},
   "outputs": [
    {
     "name": "stdout",
     "output_type": "stream",
     "text": [
      "Welcome to JupyROOT 6.20/04\n"
     ]
    }
   ],
   "source": [
    "import pylhe\n",
    "import ROOT\n",
    "import math\n",
    "import os\n",
    "import uproot\n",
    "import numpy as np\n",
    "import h5py\n",
    "import time\n",
    "t1 = time.time()"
   ]
  },
  {
   "cell_type": "code",
   "execution_count": 2,
   "metadata": {},
   "outputs": [],
   "source": [
    "ttbarBG_rootpath = \"/data/Chen-Wang/ttbarBG_1M/Events/run_01/tag_1_delphes_events.root\"\n",
    "#ttbarBG_rootpath = \"/data/Chen-Wang/ttbarBG/Events/run_01/tag_1_delphes_events.root\"\n",
    "ttbarBG_file = uproot.open(ttbarBG_rootpath)"
   ]
  },
  {
   "cell_type": "code",
   "execution_count": 3,
   "metadata": {},
   "outputs": [
    {
     "name": "stdout",
     "output_type": "stream",
     "text": [
      "Time: 311.73563408851624\n"
     ]
    }
   ],
   "source": [
    "##### include ttbarBG data #####\n",
    "ttbarBG_events = [ttbarBG_file[\"Delphes;1\"][\"Particle.Status\"].array(),\n",
    "        ttbarBG_file[\"Delphes;1\"][\"Particle.PT\"].array(),\n",
    "        ttbarBG_file[\"Delphes;1\"][\"Particle.Eta\"].array(),\n",
    "        ttbarBG_file[\"Delphes;1\"][\"Particle.Phi\"].array(),\n",
    "        ttbarBG_file[\"Delphes;1\"][\"FatJet.Particles\"].array(),\n",
    "        ttbarBG_file[\"Delphes;1\"][\"FatJet.Eta\"].array(),\n",
    "        ttbarBG_file[\"Delphes;1\"][\"FatJet.Phi\"].array(),\n",
    "        ttbarBG_file[\"Delphes;1\"][\"FatJet.PT\"].array(),\n",
    "        ttbarBG_file[\"Delphes;1\"][\"FatJet\"].array(),\n",
    "        ttbarBG_file[\"Delphes;1\"][\"FatJet.Mass\"].array()\n",
    "        ]\n",
    "\n",
    "##### reshape the ttbarBG data #####\n",
    "\n",
    "ttbarBG_events = np.expand_dims(ttbarBG_events, axis=-1)\n",
    "ttbarBG_events = ttbarBG_events.transpose((1,0,2))\n",
    "ttbarBG_events = np.squeeze(ttbarBG_events,axis=(2,))\n",
    "\n",
    "num_ttbarBG = len(ttbarBG_events)\n",
    "\n",
    "t2 = time.time()\n",
    "print(\"Time:\", t2-t1)"
   ]
  },
  {
   "cell_type": "code",
   "execution_count": 4,
   "metadata": {},
   "outputs": [],
   "source": [
    "#####   useful function    #####\n",
    "##### select if Fat Jet>=2 #####\n",
    "\n",
    "def Fat_Jet_selection(events):\n",
    "    where1 = np.where(events[:,8]>=2)\n",
    "    return events[where1]\n",
    "\n",
    "##### select if M_jet > 50 GeV #####\n",
    "\n",
    "def mass_selection(events):\n",
    "    where1 = []\n",
    "    for i in range(len(events)):\n",
    "        switch=1\n",
    "        if events[i][9][0]<50:\n",
    "            switch=0\n",
    "        if events[i][9][1]<50:\n",
    "            switch=0\n",
    "        if switch==1:\n",
    "            where1.append(i)\n",
    "    return events[where1]\n",
    "##### define figure generator #####\n",
    "\n",
    "def PT_generator(event):\n",
    "    grid_num = 50    # means n^2 points\n",
    "    where_jet_particle = event[4][0]+event[4][1]\n",
    "    where_jet_particle = np.array(where_jet_particle)-1\n",
    "    particle_Eta = event[2][where_jet_particle] - event[5][0]\n",
    "    particle_Phi = event[3][where_jet_particle] - event[6][0]\n",
    "    particle_PT = event[1][where_jet_particle]\n",
    "    \n",
    "    xedges = np.linspace(-5, 5, grid_num+1)        # Eta limit\n",
    "    yedges = np.linspace(-5, 5, grid_num+1)    # Phi limit\n",
    "    PT = np.zeros([grid_num,grid_num])\n",
    "    \n",
    "    for Eta in range(grid_num):\n",
    "        for Phi in range(grid_num):\n",
    "            where1 = np.where((xedges[Eta]<particle_Eta) & (particle_Eta<xedges[Eta+1]) & (yedges[Phi]<particle_Phi) & (particle_Phi<yedges[Phi+1]))\n",
    "            PT[Eta][Phi] = sum(particle_PT[where1])\n",
    "            \n",
    "    return PT.T    ### after transpose: X=eta Y=phi\n",
    "\n",
    "##### define leading jet generator #####\n",
    "\n",
    "def leadingJ_generator(jet_events):\n",
    "    grid_num = 50    # means n^2 points\n",
    "    where_jet_particle = jet_events[4][0]\n",
    "    where_jet_particle = np.array(where_jet_particle)-1\n",
    "    particle_Eta = jet_events[2][where_jet_particle] - jet_events[5][0]    # do the centerize\n",
    "    particle_Phi = jet_events[3][where_jet_particle] - jet_events[6][0]    # do the centerize\n",
    "    particle_PT = jet_events[1][where_jet_particle]\n",
    "    \n",
    "    xedges = np.linspace(-1, 1, grid_num+1)    # Eta limit\n",
    "    yedges = np.linspace(-1, 1, grid_num+1)    # Phi limit\n",
    "    PT = np.zeros([grid_num,grid_num])\n",
    "    \n",
    "    for Eta in range(grid_num):\n",
    "        for Phi in range(grid_num):\n",
    "            where1 = np.where((xedges[Eta]<particle_Eta) & (particle_Eta<xedges[Eta+1]) & (yedges[Phi]<particle_Phi) & (particle_Phi<yedges[Phi+1]))\n",
    "            PT[Eta][Phi] = sum(particle_PT[where1])\n",
    "    \n",
    "    leading_b = np.where(PT==np.max(PT))\n",
    "    PT[leading_b[0][0]-4:leading_b[0][0]+4, leading_b[1][0]-4:leading_b[1][0]+4] = 0\n",
    "    subleading_b = np.where(PT==np.max(PT))\n",
    "\n",
    "    eta_diff = (subleading_b[0][0]-leading_b[0][0])*(1/grid_num)     # each grid different (1/grid_num)\n",
    "    phi_diff = (subleading_b[1][0]-leading_b[1][0])*(1/grid_num)     # each grid different (1/grid_num)\n",
    "    cos_theta = (0*eta_diff + -1*phi_diff)/(np.sqrt(eta_diff**2 + phi_diff**2)+10**(-5))     # inner product with (0,-1)\n",
    "    sin_theta = np.sqrt(1-cos_theta**2) if eta_diff>0 else -np.sqrt(1-cos_theta**2)\n",
    "\n",
    "    particle_Eta_rot = cos_theta*particle_Eta + sin_theta*particle_Phi\n",
    "    particle_Phi_rot = -sin_theta*particle_Eta + cos_theta*particle_Phi\n",
    "\n",
    "    for Eta_rot in range(grid_num):\n",
    "        for Phi_rot in range(grid_num):\n",
    "            where1 = np.where((xedges[Eta_rot]<particle_Eta_rot) & (particle_Eta_rot<xedges[Eta_rot+1]) & (yedges[Phi_rot]<particle_Phi_rot) & (particle_Phi_rot<yedges[Phi_rot+1]))\n",
    "            PT[Eta_rot][Phi_rot] = sum(particle_PT[where1])\n",
    "    \n",
    "    return PT.T\n",
    "\n",
    "##### define sub-leading jet generator #####\n",
    "\n",
    "def subleadingJ_generator(jet_events):\n",
    "    grid_num = 50    # means n^2 points\n",
    "    where_jet_particle = jet_events[4][1]\n",
    "    where_jet_particle = np.array(where_jet_particle)-1\n",
    "    particle_Eta = jet_events[2][where_jet_particle] - jet_events[5][1]    # do the centerize\n",
    "    particle_Phi = jet_events[3][where_jet_particle] - jet_events[6][1]    # do the centerize\n",
    "    particle_PT = jet_events[1][where_jet_particle]\n",
    "    \n",
    "    xedges = np.linspace(-1, 1, grid_num+1)    # Eta limit\n",
    "    yedges = np.linspace(-1, 1, grid_num+1)    # Phi limit\n",
    "    PT = np.zeros([grid_num,grid_num])\n",
    "    \n",
    "    for Eta in range(grid_num):\n",
    "        for Phi in range(grid_num):\n",
    "            where1 = np.where((xedges[Eta]<particle_Eta) & (particle_Eta<xedges[Eta+1]) & (yedges[Phi]<particle_Phi) & (particle_Phi<yedges[Phi+1]))\n",
    "            PT[Eta][Phi] = sum(particle_PT[where1])\n",
    "    \n",
    "    leading_b = np.where(PT==np.max(PT))\n",
    "    PT[leading_b[0][0]-4:leading_b[0][0]+4, leading_b[1][0]-4:leading_b[1][0]+4] = 0\n",
    "    subleading_b = np.where(PT==np.max(PT))\n",
    "\n",
    "    eta_diff = (subleading_b[0][0]-leading_b[0][0])*(1/grid_num)     # each grid different (1/grid_num)\n",
    "    phi_diff = (subleading_b[1][0]-leading_b[1][0])*(1/grid_num)     # each grid different (1/grid_num)\n",
    "    cos_theta = (0*eta_diff + -1*phi_diff)/(np.sqrt(eta_diff**2 + phi_diff**2)+10**(-5))     # inner product with (0,-1)\n",
    "    sin_theta = np.sqrt(1-cos_theta**2) if eta_diff>0 else -np.sqrt(1-cos_theta**2)\n",
    "\n",
    "    particle_Eta_rot = cos_theta*particle_Eta + sin_theta*particle_Phi\n",
    "    particle_Phi_rot = -sin_theta*particle_Eta + cos_theta*particle_Phi\n",
    "\n",
    "    for Eta_rot in range(grid_num):\n",
    "        for Phi_rot in range(grid_num):\n",
    "            where1 = np.where((xedges[Eta_rot]<particle_Eta_rot) & (particle_Eta_rot<xedges[Eta_rot+1]) & (yedges[Phi_rot]<particle_Phi_rot) & (particle_Phi_rot<yedges[Phi_rot+1]))\n",
    "            PT[Eta_rot][Phi_rot] = sum(particle_PT[where1])\n",
    "    \n",
    "    return PT.T"
   ]
  },
  {
   "cell_type": "code",
   "execution_count": 5,
   "metadata": {},
   "outputs": [
    {
     "name": "stdout",
     "output_type": "stream",
     "text": [
      "There are 548709 ttbarBG events survive with originally  1000000  events.\n",
      "Time: 317.74816966056824\n"
     ]
    }
   ],
   "source": [
    "##### select only fat jet >=2 #####\n",
    "\n",
    "ttbarBG_events = Fat_Jet_selection(ttbarBG_events)\n",
    "ttbarBG_events = mass_selection(ttbarBG_events)\n",
    "print(\"There are\", len(ttbarBG_events), \"ttbarBG events survive with originally \", num_ttbarBG, \" events.\")\n",
    "    \n",
    "t2 = time.time()\n",
    "print(\"Time:\", t2-t1)"
   ]
  },
  {
   "cell_type": "code",
   "execution_count": 6,
   "metadata": {},
   "outputs": [
    {
     "name": "stdout",
     "output_type": "stream",
     "text": [
      "check point, time: 317.8769373893738\n",
      "check point, time: 7440.911394357681\n",
      "check point, time: 14574.65644955635\n",
      "check point, time: 21711.84381365776\n",
      "check point, time: 28839.15085864067\n",
      "check point, time: 35996.84307575226\n",
      "check point, time: 43152.33628869057\n",
      "check point, time: 50326.431810855865\n",
      "check point, time: 57499.7106256485\n",
      "check point, time: 64660.58062696457\n",
      "check point, time: 71817.24526548386\n",
      "Time: 78794.70795488358\n"
     ]
    }
   ],
   "source": [
    "ttbarBG = []\n",
    "for events in range(len(ttbarBG_events)):\n",
    "    if (events%50000==0):\n",
    "        print(\"check point, time:\", time.time()-t1)\n",
    "    ttbarBG.append([PT_generator(ttbarBG_events[events]), leadingJ_generator(ttbarBG_events[events]), subleadingJ_generator(ttbarBG_events[events])])\n",
    "   \n",
    "t2 = time.time()\n",
    "print(\"Time:\", t2-t1)"
   ]
  },
  {
   "cell_type": "code",
   "execution_count": 7,
   "metadata": {},
   "outputs": [],
   "source": [
    "h5f = h5py.File('/data/Chen-Wang/data_image.h5', 'a')\n",
    "h5f.create_dataset('ttbarBG', data=ttbarBG)\n",
    "h5f.close()"
   ]
  },
  {
   "cell_type": "code",
   "execution_count": 8,
   "metadata": {},
   "outputs": [
    {
     "name": "stdout",
     "output_type": "stream",
     "text": [
      "total time: 78842.83944010735\n"
     ]
    }
   ],
   "source": [
    "t2 = time.time()\n",
    "print(\"total time:\", t2-t1)"
   ]
  }
 ],
 "metadata": {
  "kernelspec": {
   "display_name": "Python 3 (ipykernel)",
   "language": "python",
   "name": "python3"
  },
  "language_info": {
   "codemirror_mode": {
    "name": "ipython",
    "version": 3
   },
   "file_extension": ".py",
   "mimetype": "text/x-python",
   "name": "python",
   "nbconvert_exporter": "python",
   "pygments_lexer": "ipython3",
   "version": "3.8.5"
  }
 },
 "nbformat": 4,
 "nbformat_minor": 4
}
